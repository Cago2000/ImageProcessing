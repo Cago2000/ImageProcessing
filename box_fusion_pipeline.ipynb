{
 "cells": [
  {
   "metadata": {
    "ExecuteTime": {
     "end_time": "2025-05-09T11:41:18.600920Z",
     "start_time": "2025-05-09T11:41:18.579327Z"
    }
   },
   "cell_type": "code",
   "source": [
    "import bounding_box\n",
    "'''for boxes in shape_bounding_boxes+color_bounding_boxes:\n",
    "    print(boxes)'''"
   ],
   "id": "ce9dfa66a6f3c8e1",
   "outputs": [
    {
     "ename": "NameError",
     "evalue": "name 'shape_bounding_boxes' is not defined",
     "output_type": "error",
     "traceback": [
      "\u001B[31m---------------------------------------------------------------------------\u001B[39m",
      "\u001B[31mNameError\u001B[39m                                 Traceback (most recent call last)",
      "\u001B[36mCell\u001B[39m\u001B[36m \u001B[39m\u001B[32mIn[30]\u001B[39m\u001B[32m, line 2\u001B[39m\n\u001B[32m      1\u001B[39m \u001B[38;5;28;01mimport\u001B[39;00m\u001B[38;5;250m \u001B[39m\u001B[34;01mbounding_box\u001B[39;00m\n\u001B[32m----> \u001B[39m\u001B[32m2\u001B[39m \u001B[38;5;28;01mfor\u001B[39;00m boxes \u001B[38;5;129;01min\u001B[39;00m \u001B[43mshape_bounding_boxes\u001B[49m+color_bounding_boxes:\n\u001B[32m      3\u001B[39m     \u001B[38;5;28mprint\u001B[39m(boxes)\n",
      "\u001B[31mNameError\u001B[39m: name 'shape_bounding_boxes' is not defined"
     ]
    }
   ],
   "execution_count": 30
  },
  {
   "metadata": {
    "ExecuteTime": {
     "end_time": "2025-05-09T11:38:04.942991Z",
     "start_time": "2025-05-09T11:38:04.939814Z"
    }
   },
   "cell_type": "code",
   "source": [
    "merged_boxes = bounding_box.merge_bounding_boxes(boxes1=boxes_pipeline1, boxes2=boxes_pipeline2, max_deviation=10)\n",
    "for box in merged_boxes:\n",
    "    print(box)"
   ],
   "id": "90bf16c3f549408e",
   "outputs": [
    {
     "name": "stdout",
     "output_type": "stream",
     "text": [
      "2 2\n",
      "41 41\n",
      "38 38\n",
      "1 1\n",
      "BoundingBox(center_y=11, center_x=21, box_corners=11, height=11, width=[6, 16, 16, 26], area=121, box_color=[255, 255, 255], image_index=0)\n",
      "BoundingBox(center_y=50, center_x=60, box_corners=11, height=11, width=[45, 55, 55, 65], area=121, box_color=[255, 255, 255], image_index=0)\n"
     ]
    }
   ],
   "execution_count": 29
  }
 ],
 "metadata": {},
 "nbformat": 4,
 "nbformat_minor": 5
}
