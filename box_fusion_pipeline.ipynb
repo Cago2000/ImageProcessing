{
 "cells": [
  {
   "metadata": {
    "ExecuteTime": {
     "end_time": "2025-05-09T11:57:32.987346Z",
     "start_time": "2025-05-09T11:57:32.982655Z"
    }
   },
   "cell_type": "code",
   "source": [
    "import bounding_box\n",
    "import basic_image_operations as basic_ops\n",
    "import geometrical_image_operations as geo_ops\n",
    "\n",
    "%store -r shape_bounding_boxes\n",
    "%store -r color_bounding_boxes\n",
    "for boxes in shape_bounding_boxes+color_bounding_boxes:\n",
    "    print(boxes)"
   ],
   "id": "ce9dfa66a6f3c8e1",
   "outputs": [
    {
     "name": "stdout",
     "output_type": "stream",
     "text": [
      "BoundingBox(center_y=89, center_x=376, box_corners=[np.int64(53), np.int64(345), np.int64(126), np.int64(407)], height=74, width=63, area=4662, box_color=[255, 255, 255], image_index=0)\n",
      "BoundingBox(center_y=160, center_x=193, box_corners=[np.int64(144), np.int64(178), np.int64(177), np.int64(209)], height=34, width=32, area=1088, box_color=[255, 255, 255], image_index=0)\n",
      "BoundingBox(center_y=184, center_x=232, box_corners=[np.int64(164), np.int64(213), np.int64(205), np.int64(251)], height=42, width=39, area=1638, box_color=[255, 255, 255], image_index=0)\n",
      "BoundingBox(center_y=451, center_x=410, box_corners=[np.int64(427), np.int64(390), np.int64(475), np.int64(431)], height=49, width=42, area=2058, box_color=[255, 255, 255], image_index=0)\n",
      "BoundingBox(center_y=531, center_x=382, box_corners=[np.int64(487), np.int64(333), np.int64(575), np.int64(431)], height=89, width=99, area=8811, box_color=[255, 255, 255], image_index=0)\n",
      "BoundingBox(center_y=545, center_x=152, box_corners=[np.int64(524), np.int64(130), np.int64(566), np.int64(174)], height=43, width=45, area=1935, box_color=[255, 255, 255], image_index=0)\n",
      "BoundingBox(center_y=27, center_x=24, box_corners=[1, 0, 53, 49], height=53, width=50, area=2650, box_color=[0, 255, 255], image_index=0)\n",
      "BoundingBox(center_y=185, center_x=231, box_corners=[166, 214, 204, 249], height=39, width=36, area=1404, box_color=[0, 255, 255], image_index=0)\n"
     ]
    }
   ],
   "execution_count": 4
  },
  {
   "metadata": {
    "ExecuteTime": {
     "end_time": "2025-05-09T11:58:38.479357Z",
     "start_time": "2025-05-09T11:58:34.785925Z"
    }
   },
   "cell_type": "code",
   "source": [
    "merged_boxes = bounding_box.merge_bounding_boxes(boxes1=shape_bounding_boxes, boxes2=color_bounding_boxes, max_deviation=10)\n",
    "for bounding_box_obj in merged_boxes:\n",
    "    print(box)\n",
    "bbox_img = basic_ops.load_image(image_path='traffic_sign_images/vfs/vfs_04.jpg')\n",
    "bbox_img = geo_ops.resize_image(image=bbox_img, target_height=bbox_img.shape[0]//8, target_width=bbox_img.shape[1]//8)\n",
    "for bounding_box_obj in merged_boxes:\n",
    "    bbox_image = bounding_box.draw_bounding_box(bounding_box=bounding_box_obj, image=bbox_img)\n",
    "basic_ops.show_image(image=bbox_img)"
   ],
   "id": "90bf16c3f549408e",
   "outputs": [
    {
     "name": "stdout",
     "output_type": "stream",
     "text": [
      "BoundingBox(center_y=184, center_x=231, box_corners=[np.int64(165), np.int64(213), np.int64(204), np.int64(250)], height=40, width=37, area=1480, box_color=[255, 255, 255], image_index=0)\n",
      "Image loaded from traffic_sign_images/vfs/vfs_04.jpg\n",
      "Image displayed\n"
     ]
    }
   ],
   "execution_count": 7
  }
 ],
 "metadata": {},
 "nbformat": 4,
 "nbformat_minor": 5
}
