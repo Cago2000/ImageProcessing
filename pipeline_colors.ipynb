{
 "cells": [
  {
   "metadata": {
    "ExecuteTime": {
     "end_time": "2025-05-08T13:06:44.067193Z",
     "start_time": "2025-05-08T13:06:43.651724Z"
    }
   },
   "cell_type": "code",
   "source": [
    "import basic_image_operations as basic_ops\n",
    "import filters\n",
    "import geometrical_image_operations as geo_ops\n",
    "import numpy as np\n",
    "\n",
    "images = [basic_ops.load_image(image_path='traffic_sign_images/vfs/vfs_04.jpg'), basic_ops.load_image(image_path='traffic_sign_images/vfs/vfs_05.jpg')]\n",
    "images = [geo_ops.resize_image(image=image, target_height=image.shape[0]//8, target_width=image.shape[1]//8) for image in images]"
   ],
   "id": "c21edbcb605e94f1",
   "outputs": [
    {
     "name": "stdout",
     "output_type": "stream",
     "text": [
      "Image loaded from traffic_sign_images/vfs/vfs_04.jpg\n",
      "Image loaded from traffic_sign_images/vfs/vfs_05.jpg\n"
     ]
    }
   ],
   "execution_count": 6
  },
  {
   "metadata": {
    "ExecuteTime": {
     "end_time": "2025-05-08T13:06:56.833221Z",
     "start_time": "2025-05-08T13:06:46.027663Z"
    }
   },
   "cell_type": "code",
   "source": [
    "for i, image in enumerate(images):\n",
    "    image = filters.median_filter(image=image, dim=3)\n",
    "    #image = stat_ops.gamma_equalization(image=image, gamma=0.25)\n",
    "    images[i] = image"
   ],
   "id": "c58ca2c1341e0bc0",
   "outputs": [],
   "execution_count": 7
  },
  {
   "metadata": {
    "ExecuteTime": {
     "end_time": "2025-05-08T13:07:03.431879Z",
     "start_time": "2025-05-08T13:06:59.401685Z"
    }
   },
   "cell_type": "code",
   "source": [
    "import importlib\n",
    "import colors\n",
    "import bounding_box\n",
    "import color_detection\n",
    "importlib.reload(color_detection)\n",
    "importlib.reload(colors)\n",
    "importlib.reload(bounding_box)\n",
    "\n",
    "color_functions = [colors.is_strong_red, colors.is_strong_yellow, colors.is_strong_blue]\n",
    "color_bounding_boxes = []\n",
    "for i, image in enumerate(images):\n",
    "    for color_function in color_functions:\n",
    "        mask = colors.get_mask(image=image, color_function=color_function)\n",
    "        blobs = color_detection.get_blobs(mask=mask)\n",
    "\n",
    "        box_color = colors.get_color_from_function(color_function)\n",
    "        height, width = image.shape[:2]\n",
    "        min_box_area = int((height*0.055)**2)\n",
    "        max_box_area = height*width//2\n",
    "\n",
    "        bounding_boxes = bounding_box.create_bounding_boxes(blobs=blobs, min_box_area=min_box_area, max_box_area=max_box_area, box_color=box_color, image_index=i)\n",
    "        color_bounding_boxes.extend(bounding_boxes)"
   ],
   "id": "435669921dced0e8",
   "outputs": [],
   "execution_count": 8
  },
  {
   "metadata": {
    "ExecuteTime": {
     "end_time": "2025-05-08T13:07:09.236896Z",
     "start_time": "2025-05-08T13:07:09.233437Z"
    }
   },
   "cell_type": "code",
   "source": [
    "import copy\n",
    "\n",
    "bbox_images = copy.deepcopy(images)\n",
    "for bounding_box_obj in color_bounding_boxes:\n",
    "    print(bounding_box_obj)\n",
    "    bbox_image = bounding_box.draw_bounding_box(bounding_box=bounding_box_obj, image=bbox_images[bounding_box_obj.image_index])\n",
    "    bbox_images[bounding_box_obj.image_index] = bbox_image"
   ],
   "id": "b76c9d7d35b1c30a",
   "outputs": [
    {
     "name": "stdout",
     "output_type": "stream",
     "text": [
      "BoundingBox(center_y=27, center_x=24, box_corners=[1, 0, 53, 49], height=53, width=50, area=2650, box_color=[0, 255, 255], image_index=0)\n",
      "BoundingBox(center_y=185, center_x=231, box_corners=[166, 214, 204, 249], height=39, width=36, area=1404, box_color=[0, 255, 255], image_index=0)\n",
      "BoundingBox(center_y=113, center_x=152, box_corners=[63, 103, 163, 202], height=101, width=100, area=10100, box_color=[0, 255, 255], image_index=1)\n"
     ]
    }
   ],
   "execution_count": 9
  },
  {
   "metadata": {
    "ExecuteTime": {
     "end_time": "2025-05-08T13:07:37.147004Z",
     "start_time": "2025-05-08T13:07:10.881668Z"
    }
   },
   "cell_type": "code",
   "source": [
    "for image in bbox_images:\n",
    "    basic_ops.show_image(image=image, title='bbox image')"
   ],
   "id": "b1b2a6fea99f85d9",
   "outputs": [
    {
     "name": "stdout",
     "output_type": "stream",
     "text": [
      "Image displayed\n",
      "Image displayed\n"
     ]
    }
   ],
   "execution_count": 10
  }
 ],
 "metadata": {
  "kernelspec": {
   "display_name": "Python 3",
   "language": "python",
   "name": "python3"
  },
  "language_info": {
   "codemirror_mode": {
    "name": "ipython",
    "version": 2
   },
   "file_extension": ".py",
   "mimetype": "text/x-python",
   "name": "python",
   "nbconvert_exporter": "python",
   "pygments_lexer": "ipython2",
   "version": "2.7.6"
  }
 },
 "nbformat": 4,
 "nbformat_minor": 5
}
