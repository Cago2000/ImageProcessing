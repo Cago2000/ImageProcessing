{
 "cells": [
  {
   "cell_type": "code",
   "id": "df565b008065ccc3",
   "metadata": {
    "ExecuteTime": {
     "end_time": "2025-05-12T11:51:08.681779Z",
     "start_time": "2025-05-12T11:51:08.678297Z"
    }
   },
   "source": [
    "%store -r resized_images\n",
    "%store -r shape_images"
   ],
   "outputs": [],
   "execution_count": 8
  },
  {
   "metadata": {
    "ExecuteTime": {
     "end_time": "2025-05-12T11:53:17.162493Z",
     "start_time": "2025-05-12T11:53:07.570715Z"
    }
   },
   "cell_type": "code",
   "source": [
    "import numpy as np\n",
    "from scripts import basic_image_operations as basic_ops, shape_detection, bounding_box\n",
    "\n",
    "import importlib\n",
    "importlib.reload(shape_detection)\n",
    "importlib.reload(bounding_box)\n",
    "\n",
    "shape_bounding_boxes = []\n",
    "for i, image in enumerate(shape_images):\n",
    "    contours = shape_detection.get_contours(binary_image=image, angle_tolerance=10)\n",
    "\n",
    "    '''contours, _ = cv2.findContours(image, cv2.RETR_EXTERNAL, cv2.CHAIN_APPROX_SIMPLE)\n",
    "    new_contours = []\n",
    "    for contour in contours:\n",
    "        new_contour = []\n",
    "        y_vals, x_vals = contour[:, :, 1], contour[:, :, 0]\n",
    "        for y_val, x_val in zip(y_vals, x_vals):\n",
    "            new_contour.append((y_val[0], x_val[0]))\n",
    "        new_contours.append(np.array(new_contour))\n",
    "    contours = new_contours'''\n",
    "\n",
    "    height, width = image.shape[:2]\n",
    "    box_color = [255, 255, 255]\n",
    "    min_box_area = int((height*0.055)**2)\n",
    "    max_box_area = height*width//2\n",
    "    bounding_boxes = bounding_box.create_bounding_boxes(blobs=contours, min_box_area=min_box_area, max_box_area=max_box_area, box_color=box_color, image_index=i)\n",
    "    shape_bounding_boxes.extend(bounding_boxes)"
   ],
   "id": "9056dbfe25068c9a",
   "outputs": [],
   "execution_count": 17
  },
  {
   "metadata": {
    "ExecuteTime": {
     "end_time": "2025-05-12T11:53:18.685143Z",
     "start_time": "2025-05-12T11:53:18.679601Z"
    }
   },
   "cell_type": "code",
   "source": [
    "shape_bounding_boxes = bounding_box.merge_duplicate_boxes(boxes=shape_bounding_boxes, max_deviation=10)\n",
    "for bbox in shape_bounding_boxes:\n",
    "    print(bbox)"
   ],
   "id": "f7e6dd538c98acf2",
   "outputs": [
    {
     "name": "stdout",
     "output_type": "stream",
     "text": [
      "BoundingBox(center_y=279, center_x=240, box_corners=[np.int64(239), np.int64(201), np.int64(320), np.int64(279)], height=82, width=79, area=6478, box_color=[255, 255, 255], image_index=0)\n",
      "BoundingBox(center_y=434, center_x=213, box_corners=[np.int64(410), np.int64(194), np.int64(458), np.int64(233)], height=49, width=40, area=1960, box_color=[255, 255, 255], image_index=0)\n",
      "BoundingBox(center_y=527, center_x=258, box_corners=[np.int64(479), np.int64(228), np.int64(575), np.int64(289)], height=97, width=62, area=6014, box_color=[255, 255, 255], image_index=0)\n",
      "BoundingBox(center_y=516, center_x=294, box_corners=[np.int64(492), np.int64(279), np.int64(541), np.int64(310)], height=50, width=32, area=1600, box_color=[255, 255, 255], image_index=0)\n",
      "BoundingBox(center_y=114, center_x=221, box_corners=[np.int64(88), np.int64(196), np.int64(140), np.int64(247)], height=53, width=52, area=2756, box_color=[255, 255, 255], image_index=1)\n",
      "BoundingBox(center_y=331, center_x=504, box_corners=[np.int64(279), np.int64(468), np.int64(383), np.int64(541)], height=105, width=74, area=7770, box_color=[255, 255, 255], image_index=1)\n",
      "BoundingBox(center_y=93, center_x=82, box_corners=[np.int64(48), np.int64(35), np.int64(139), np.int64(129)], height=91, width=95, area=8645, box_color=[255, 255, 255], image_index=2)\n",
      "BoundingBox(center_y=219, center_x=134, box_corners=[np.int64(196), np.int64(117), np.int64(243), np.int64(152)], height=48, width=36, area=1728, box_color=[255, 255, 255], image_index=2)\n",
      "BoundingBox(center_y=218, center_x=248, box_corners=[np.int64(201), np.int64(235), np.int64(235), np.int64(261)], height=35, width=27, area=945, box_color=[255, 255, 255], image_index=2)\n",
      "BoundingBox(center_y=184, center_x=231, box_corners=[np.int64(165), np.int64(213), np.int64(204), np.int64(250)], height=40, width=38, area=1520, box_color=[255, 255, 255], image_index=3)\n",
      "BoundingBox(center_y=236, center_x=381, box_corners=[np.int64(195), np.int64(332), np.int64(277), np.int64(431)], height=83, width=100, area=8300, box_color=[255, 255, 255], image_index=3)\n",
      "BoundingBox(center_y=539, center_x=163, box_corners=[np.int64(524), np.int64(147), np.int64(554), np.int64(180)], height=31, width=34, area=1054, box_color=[255, 255, 255], image_index=3)\n",
      "BoundingBox(center_y=554, center_x=38, box_corners=[np.int64(537), np.int64(24), np.int64(571), np.int64(52)], height=35, width=29, area=1015, box_color=[255, 255, 255], image_index=3)\n",
      "BoundingBox(center_y=20, center_x=250, box_corners=[np.int64(3), np.int64(228), np.int64(38), np.int64(273)], height=36, width=45, area=1620, box_color=[255, 255, 255], image_index=4)\n",
      "BoundingBox(center_y=33, center_x=109, box_corners=[np.int64(17), np.int64(92), np.int64(50), np.int64(127)], height=34, width=36, area=1224, box_color=[255, 255, 255], image_index=4)\n",
      "BoundingBox(center_y=57, center_x=187, box_corners=[np.int64(23), np.int64(148), np.int64(90), np.int64(226)], height=68, width=79, area=5372, box_color=[255, 255, 255], image_index=4)\n",
      "BoundingBox(center_y=124, center_x=148, box_corners=[np.int64(66), np.int64(81), np.int64(182), np.int64(215)], height=116, width=135, area=15660, box_color=[255, 255, 255], image_index=4)\n",
      "BoundingBox(center_y=110, center_x=336, box_corners=[np.int64(59), np.int64(303), np.int64(161), np.int64(370)], height=103, width=68, area=7004, box_color=[255, 255, 255], image_index=4)\n",
      "BoundingBox(center_y=147, center_x=225, box_corners=[np.int64(128), np.int64(207), np.int64(166), np.int64(244)], height=39, width=38, area=1482, box_color=[255, 255, 255], image_index=4)\n",
      "BoundingBox(center_y=175, center_x=131, box_corners=[np.int64(145), np.int64(84), np.int64(206), np.int64(179)], height=62, width=96, area=5952, box_color=[255, 255, 255], image_index=4)\n",
      "BoundingBox(center_y=191, center_x=254, box_corners=[np.int64(169), np.int64(234), np.int64(213), np.int64(275)], height=45, width=42, area=1890, box_color=[255, 255, 255], image_index=4)\n",
      "BoundingBox(center_y=221, center_x=215, box_corners=[np.int64(200), np.int64(197), np.int64(242), np.int64(233)], height=43, width=37, area=1591, box_color=[255, 255, 255], image_index=4)\n",
      "BoundingBox(center_y=390, center_x=390, box_corners=[np.int64(353), np.int64(351), np.int64(428), np.int64(429)], height=76, width=79, area=6004, box_color=[255, 255, 255], image_index=4)\n",
      "BoundingBox(center_y=64, center_x=358, box_corners=[np.int64(45), np.int64(331), np.int64(83), np.int64(386)], height=39, width=56, area=2184, box_color=[255, 255, 255], image_index=5)\n",
      "BoundingBox(center_y=170, center_x=301, box_corners=[np.int64(153), np.int64(285), np.int64(188), np.int64(318)], height=36, width=34, area=1224, box_color=[255, 255, 255], image_index=5)\n",
      "BoundingBox(center_y=265, center_x=357, box_corners=[np.int64(220), np.int64(314), np.int64(311), np.int64(402)], height=92, width=89, area=8188, box_color=[255, 255, 255], image_index=5)\n",
      "BoundingBox(center_y=289, center_x=354, box_corners=[np.int64(275), np.int64(336), np.int64(304), np.int64(372)], height=30, width=37, area=1110, box_color=[255, 255, 255], image_index=5)\n",
      "BoundingBox(center_y=520, center_x=348, box_corners=[np.int64(504), np.int64(332), np.int64(537), np.int64(364)], height=34, width=33, area=1122, box_color=[255, 255, 255], image_index=5)\n",
      "BoundingBox(center_y=81, center_x=283, box_corners=[np.int64(64), np.int64(265), np.int64(99), np.int64(302)], height=36, width=38, area=1368, box_color=[255, 255, 255], image_index=6)\n",
      "BoundingBox(center_y=109, center_x=209, box_corners=[np.int64(76), np.int64(186), np.int64(143), np.int64(232)], height=68, width=47, area=3196, box_color=[255, 255, 255], image_index=6)\n",
      "BoundingBox(center_y=196, center_x=198, box_corners=[np.int64(130), np.int64(131), np.int64(263), np.int64(266)], height=134, width=136, area=18224, box_color=[255, 255, 255], image_index=6)\n",
      "BoundingBox(center_y=332, center_x=82, box_corners=[np.int64(315), np.int64(62), np.int64(349), np.int64(103)], height=35, width=42, area=1470, box_color=[255, 255, 255], image_index=6)\n",
      "BoundingBox(center_y=412, center_x=106, box_corners=[np.int64(387), np.int64(79), np.int64(438), np.int64(133)], height=52, width=55, area=2860, box_color=[255, 255, 255], image_index=6)\n",
      "BoundingBox(center_y=488, center_x=227, box_corners=[np.int64(468), np.int64(215), np.int64(508), np.int64(240)], height=41, width=26, area=1066, box_color=[255, 255, 255], image_index=6)\n",
      "BoundingBox(center_y=140, center_x=549, box_corners=[np.int64(126), np.int64(536), np.int64(155), np.int64(563)], height=30, width=28, area=840, box_color=[255, 255, 255], image_index=7)\n",
      "BoundingBox(center_y=262, center_x=58, box_corners=[np.int64(232), np.int64(35), np.int64(292), np.int64(81)], height=61, width=46, area=2806, box_color=[255, 255, 255], image_index=7)\n",
      "BoundingBox(center_y=222, center_x=352, box_corners=[np.int64(205), np.int64(337), np.int64(239), np.int64(367)], height=35, width=31, area=1085, box_color=[255, 255, 255], image_index=8)\n",
      "BoundingBox(center_y=168, center_x=167, box_corners=[np.int64(144), np.int64(145), np.int64(193), np.int64(189)], height=50, width=45, area=2250, box_color=[255, 255, 255], image_index=9)\n",
      "BoundingBox(center_y=192, center_x=381, box_corners=[np.int64(151), np.int64(344), np.int64(234), np.int64(418)], height=84, width=75, area=6300, box_color=[255, 255, 255], image_index=9)\n",
      "BoundingBox(center_y=244, center_x=34, box_corners=[np.int64(221), np.int64(19), np.int64(268), np.int64(50)], height=48, width=32, area=1536, box_color=[255, 255, 255], image_index=9)\n",
      "BoundingBox(center_y=447, center_x=53, box_corners=[np.int64(431), np.int64(29), np.int64(464), np.int64(78)], height=34, width=50, area=1700, box_color=[255, 255, 255], image_index=10)\n",
      "BoundingBox(center_y=268, center_x=22, box_corners=[np.int64(252), np.int64(3), np.int64(285), np.int64(42)], height=34, width=40, area=1360, box_color=[255, 255, 255], image_index=11)\n",
      "BoundingBox(center_y=130, center_x=301, box_corners=[np.int64(115), np.int64(285), np.int64(146), np.int64(318)], height=32, width=34, area=1088, box_color=[255, 255, 255], image_index=12)\n",
      "BoundingBox(center_y=68, center_x=533, box_corners=[np.int64(42), np.int64(500), np.int64(94), np.int64(568)], height=53, width=69, area=3657, box_color=[255, 255, 255], image_index=13)\n",
      "BoundingBox(center_y=143, center_x=173, box_corners=[np.int64(129), np.int64(155), np.int64(158), np.int64(191)], height=30, width=37, area=1110, box_color=[255, 255, 255], image_index=13)\n",
      "BoundingBox(center_y=206, center_x=284, box_corners=[np.int64(184), np.int64(263), np.int64(228), np.int64(306)], height=45, width=44, area=1980, box_color=[255, 255, 255], image_index=13)\n",
      "BoundingBox(center_y=280, center_x=108, box_corners=[np.int64(247), np.int64(75), np.int64(314), np.int64(141)], height=68, width=67, area=4556, box_color=[255, 255, 255], image_index=13)\n",
      "BoundingBox(center_y=337, center_x=400, box_corners=[np.int64(307), np.int64(364), np.int64(368), np.int64(437)], height=62, width=74, area=4588, box_color=[255, 255, 255], image_index=13)\n",
      "BoundingBox(center_y=91, center_x=32, box_corners=[np.int64(78), np.int64(17), np.int64(105), np.int64(48)], height=28, width=32, area=896, box_color=[255, 255, 255], image_index=14)\n",
      "BoundingBox(center_y=205, center_x=475, box_corners=[np.int64(187), np.int64(453), np.int64(224), np.int64(498)], height=38, width=46, area=1748, box_color=[255, 255, 255], image_index=14)\n",
      "BoundingBox(center_y=309, center_x=523, box_corners=[np.int64(288), np.int64(507), np.int64(330), np.int64(540)], height=43, width=34, area=1462, box_color=[255, 255, 255], image_index=14)\n",
      "BoundingBox(center_y=307, center_x=490, box_corners=[np.int64(290), np.int64(476), np.int64(324), np.int64(504)], height=35, width=29, area=1015, box_color=[255, 255, 255], image_index=14)\n"
     ]
    }
   ],
   "execution_count": 18
  },
  {
   "metadata": {
    "ExecuteTime": {
     "end_time": "2025-05-12T11:53:18.779543Z",
     "start_time": "2025-05-12T11:53:18.771464Z"
    }
   },
   "cell_type": "code",
   "source": [
    "import copy\n",
    "bbox_images = copy.deepcopy(resized_images)\n",
    "for bounding_box_obj in shape_bounding_boxes:\n",
    "    bbox_image = bounding_box.draw_bounding_box(bounding_box=bounding_box_obj, image=bbox_images[bounding_box_obj.image_index])\n",
    "    bbox_images[bounding_box_obj.image_index] = bbox_image\n",
    "\n",
    "%store shape_bounding_boxes"
   ],
   "id": "58bca3e5e2ab1d5a",
   "outputs": [
    {
     "name": "stdout",
     "output_type": "stream",
     "text": [
      "Stored 'shape_bounding_boxes' (list)\n"
     ]
    }
   ],
   "execution_count": 19
  },
  {
   "metadata": {
    "ExecuteTime": {
     "end_time": "2025-05-12T11:53:35.936008Z",
     "start_time": "2025-05-12T11:53:18.872537Z"
    }
   },
   "cell_type": "code",
   "source": [
    "for bbox_img in bbox_images:\n",
    "    basic_ops.show_image(image=bbox_img, title='shape_bboxes')"
   ],
   "id": "49bd7600dab2a761",
   "outputs": [
    {
     "name": "stdout",
     "output_type": "stream",
     "text": [
      "Image displayed\n",
      "Image displayed\n",
      "Image displayed\n",
      "Image displayed\n",
      "Image displayed\n",
      "Image displayed\n",
      "Image displayed\n",
      "Image displayed\n",
      "Image displayed\n",
      "Image displayed\n",
      "Image displayed\n",
      "Image displayed\n",
      "Image displayed\n",
      "Image displayed\n",
      "Image displayed\n"
     ]
    }
   ],
   "execution_count": 20
  }
 ],
 "metadata": {
  "kernelspec": {
   "display_name": "Python 3",
   "language": "python",
   "name": "python3"
  },
  "language_info": {
   "codemirror_mode": {
    "name": "ipython",
    "version": 2
   },
   "file_extension": ".py",
   "mimetype": "text/x-python",
   "name": "python",
   "nbconvert_exporter": "python",
   "pygments_lexer": "ipython2",
   "version": "2.7.6"
  }
 },
 "nbformat": 4,
 "nbformat_minor": 5
}
