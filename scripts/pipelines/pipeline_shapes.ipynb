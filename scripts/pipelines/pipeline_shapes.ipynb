{
 "cells": [
  {
   "cell_type": "code",
   "id": "df565b008065ccc3",
   "metadata": {
    "ExecuteTime": {
     "end_time": "2025-05-10T19:24:47.533140Z",
     "start_time": "2025-05-10T19:24:47.528606Z"
    }
   },
   "source": [
    "import cv2\n",
    "%store -r resized_images\n",
    "%store -r shape_images"
   ],
   "outputs": [],
   "execution_count": 114
  },
  {
   "metadata": {
    "ExecuteTime": {
     "end_time": "2025-05-10T19:25:15.942315Z",
     "start_time": "2025-05-10T19:24:47.540144Z"
    }
   },
   "cell_type": "code",
   "source": [
    "import numpy as np\n",
    "from scripts import basic_image_operations as basic_ops, shape_detection, bounding_box\n",
    "\n",
    "import importlib\n",
    "importlib.reload(shape_detection)\n",
    "importlib.reload(bounding_box)\n",
    "\n",
    "shape_bounding_boxes = []\n",
    "for i, image in enumerate(shape_images):\n",
    "    contours = shape_detection.get_contours(binary_image=image, angle_tolerance=10)\n",
    "\n",
    "    '''contours, _ = cv2.findContours(image, cv2.RETR_EXTERNAL, cv2.CHAIN_APPROX_SIMPLE)\n",
    "    new_contours = []\n",
    "    for contour in contours:\n",
    "        new_contour = []\n",
    "        y_vals, x_vals = contour[:, :, 1], contour[:, :, 0]\n",
    "        for y_val, x_val in zip(y_vals, x_vals):\n",
    "            new_contour.append((y_val[0], x_val[0]))\n",
    "        new_contours.append(np.array(new_contour))\n",
    "    contours = new_contours'''\n",
    "\n",
    "    height, width = image.shape[:2]\n",
    "    box_color = [255, 255, 255]\n",
    "    min_box_area = int((height*0.055)**2)\n",
    "    max_box_area = height*width//2\n",
    "    bounding_boxes = bounding_box.create_bounding_boxes(blobs=contours, min_box_area=min_box_area, max_box_area=max_box_area, box_color=box_color, image_index=i)\n",
    "    shape_bounding_boxes.extend(bounding_boxes)"
   ],
   "id": "9056dbfe25068c9a",
   "outputs": [],
   "execution_count": 115
  },
  {
   "metadata": {
    "ExecuteTime": {
     "end_time": "2025-05-10T19:25:15.965005Z",
     "start_time": "2025-05-10T19:25:15.956197Z"
    }
   },
   "cell_type": "code",
   "source": [
    "shape_bounding_boxes = bounding_box.merge_duplicate_boxes(boxes=shape_bounding_boxes, max_deviation=10)\n",
    "for bbox in shape_bounding_boxes:\n",
    "    print(bbox)"
   ],
   "id": "f7e6dd538c98acf2",
   "outputs": [
    {
     "name": "stdout",
     "output_type": "stream",
     "text": [
      "BoundingBox(center_y=193, center_x=49, box_corners=[165, 22, 223, 76], height=59, width=55, area=3245, box_color=[255, 255, 255], image_index=0)\n",
      "BoundingBox(center_y=255, center_x=163, box_corners=[219, 129, 292, 198], height=74, width=70, area=5180, box_color=[255, 255, 255], image_index=0)\n",
      "BoundingBox(center_y=284, center_x=221, box_corners=[236, 169, 332, 274], height=97, width=106, area=10282, box_color=[255, 255, 255], image_index=0)\n",
      "BoundingBox(center_y=273, center_x=233, box_corners=[258, 214, 289, 252], height=32, width=39, area=1248, box_color=[255, 255, 255], image_index=0)\n",
      "BoundingBox(center_y=314, center_x=52, box_corners=[263, 0, 366, 105], height=104, width=105, area=10920, box_color=[255, 255, 255], image_index=0)\n",
      "BoundingBox(center_y=472, center_x=237, box_corners=[426, 199, 519, 276], height=94, width=78, area=7332, box_color=[255, 255, 255], image_index=0)\n",
      "BoundingBox(center_y=495, center_x=249, box_corners=[475, 237, 515, 262], height=41, width=26, area=1066, box_color=[255, 255, 255], image_index=0)\n",
      "BoundingBox(center_y=495, center_x=42, box_corners=[479, 25, 512, 59], height=34, width=35, area=1190, box_color=[255, 255, 255], image_index=0)\n",
      "BoundingBox(center_y=514, center_x=255, box_corners=[479, 231, 550, 280], height=72, width=50, area=3600, box_color=[255, 255, 255], image_index=0)\n",
      "BoundingBox(center_y=515, center_x=412, box_corners=[489, 393, 542, 431], height=54, width=39, area=2106, box_color=[255, 255, 255], image_index=0)\n",
      "BoundingBox(center_y=537, center_x=19, box_corners=[514, 0, 560, 39], height=47, width=40, area=1880, box_color=[255, 255, 255], image_index=0)\n",
      "BoundingBox(center_y=545, center_x=305, box_corners=[516, 280, 575, 330], height=60, width=51, area=3060, box_color=[255, 255, 255], image_index=0)\n",
      "BoundingBox(center_y=546, center_x=267, box_corners=[518, 247, 575, 287], height=58, width=41, area=2378, box_color=[255, 255, 255], image_index=0)\n",
      "BoundingBox(center_y=547, center_x=46, box_corners=[519, 0, 575, 93], height=57, width=94, area=5358, box_color=[255, 255, 255], image_index=0)\n",
      "BoundingBox(center_y=26, center_x=251, box_corners=[1, 226, 51, 277], height=51, width=52, area=2652, box_color=[255, 255, 255], image_index=1)\n",
      "BoundingBox(center_y=57, center_x=214, box_corners=[40, 195, 74, 233], height=35, width=39, area=1365, box_color=[255, 255, 255], image_index=1)\n",
      "BoundingBox(center_y=73, center_x=220, box_corners=[56, 203, 91, 238], height=36, width=35, area=1260, box_color=[255, 255, 255], image_index=1)\n",
      "BoundingBox(center_y=85, center_x=210, box_corners=[56, 187, 114, 233], height=59, width=47, area=2773, box_color=[255, 255, 255], image_index=1)\n",
      "BoundingBox(center_y=145, center_x=269, box_corners=[114, 240, 177, 298], height=64, width=59, area=3776, box_color=[255, 255, 255], image_index=1)\n",
      "BoundingBox(center_y=131, center_x=190, box_corners=[116, 172, 147, 209], height=32, width=38, area=1216, box_color=[255, 255, 255], image_index=1)\n",
      "BoundingBox(center_y=159, center_x=162, box_corners=[142, 144, 176, 181], height=35, width=38, area=1330, box_color=[255, 255, 255], image_index=1)\n",
      "BoundingBox(center_y=332, center_x=507, box_corners=[280, 468, 385, 546], height=106, width=79, area=8374, box_color=[255, 255, 255], image_index=1)\n",
      "BoundingBox(center_y=320, center_x=112, box_corners=[290, 88, 351, 136], height=62, width=49, area=3038, box_color=[255, 255, 255], image_index=1)\n",
      "BoundingBox(center_y=86, center_x=264, box_corners=[58, 236, 114, 292], height=57, width=57, area=3249, box_color=[255, 255, 255], image_index=2)\n",
      "BoundingBox(center_y=98, center_x=85, box_corners=[61, 45, 134, 125], height=74, width=81, area=5994, box_color=[255, 255, 255], image_index=2)\n",
      "BoundingBox(center_y=119, center_x=230, box_corners=[78, 192, 160, 268], height=83, width=77, area=6391, box_color=[255, 255, 255], image_index=2)\n",
      "BoundingBox(center_y=98, center_x=382, box_corners=[79, 359, 118, 405], height=40, width=47, area=1880, box_color=[255, 255, 255], image_index=2)\n",
      "BoundingBox(center_y=117, center_x=315, box_corners=[80, 273, 154, 358], height=75, width=86, area=6450, box_color=[255, 255, 255], image_index=2)\n",
      "BoundingBox(center_y=133, center_x=403, box_corners=[107, 375, 160, 431], height=54, width=57, area=3078, box_color=[255, 255, 255], image_index=2)\n",
      "BoundingBox(center_y=145, center_x=188, box_corners=[126, 169, 165, 208], height=40, width=40, area=1600, box_color=[255, 255, 255], image_index=2)\n",
      "BoundingBox(center_y=159, center_x=40, box_corners=[141, 22, 177, 59], height=37, width=38, area=1406, box_color=[255, 255, 255], image_index=2)\n",
      "BoundingBox(center_y=188, center_x=263, box_corners=[159, 240, 217, 287], height=59, width=48, area=2832, box_color=[255, 255, 255], image_index=2)\n",
      "BoundingBox(center_y=124, center_x=56, box_corners=[100, 32, 148, 81], height=49, width=50, area=2450, box_color=[255, 255, 255], image_index=3)\n",
      "BoundingBox(center_y=128, center_x=289, box_corners=[114, 271, 142, 308], height=29, width=38, area=1102, box_color=[255, 255, 255], image_index=3)\n",
      "BoundingBox(center_y=153, center_x=247, box_corners=[134, 232, 172, 262], height=39, width=31, area=1209, box_color=[255, 255, 255], image_index=3)\n",
      "BoundingBox(center_y=184, center_x=231, box_corners=[166, 214, 203, 249], height=38, width=36, area=1368, box_color=[255, 255, 255], image_index=3)\n",
      "BoundingBox(center_y=206, center_x=41, box_corners=[190, 25, 223, 58], height=34, width=34, area=1156, box_color=[255, 255, 255], image_index=3)\n",
      "BoundingBox(center_y=287, center_x=134, box_corners=[267, 111, 307, 158], height=41, width=48, area=1968, box_color=[255, 255, 255], image_index=3)\n",
      "BoundingBox(center_y=343, center_x=221, box_corners=[319, 200, 368, 242], height=50, width=43, area=2150, box_color=[255, 255, 255], image_index=3)\n",
      "BoundingBox(center_y=544, center_x=161, box_corners=[522, 140, 567, 182], height=46, width=43, area=1978, box_color=[255, 255, 255], image_index=3)\n",
      "BoundingBox(center_y=551, center_x=129, box_corners=[528, 97, 575, 161], height=48, width=65, area=3120, box_color=[255, 255, 255], image_index=3)\n",
      "BoundingBox(center_y=35, center_x=105, box_corners=[8, 84, 62, 126], height=55, width=43, area=2365, box_color=[255, 255, 255], image_index=4)\n",
      "BoundingBox(center_y=75, center_x=197, box_corners=[33, 158, 118, 236], height=86, width=79, area=6794, box_color=[255, 255, 255], image_index=4)\n",
      "BoundingBox(center_y=112, center_x=149, box_corners=[49, 89, 175, 210], height=126, width=121, area=15246, box_color=[255, 255, 255], image_index=4)\n",
      "BoundingBox(center_y=67, center_x=105, box_corners=[49, 87, 86, 124], height=38, width=38, area=1444, box_color=[255, 255, 255], image_index=4)\n",
      "BoundingBox(center_y=77, center_x=332, box_corners=[60, 316, 94, 348], height=35, width=33, area=1155, box_color=[255, 255, 255], image_index=4)\n",
      "BoundingBox(center_y=142, center_x=349, box_corners=[115, 327, 170, 371], height=56, width=45, area=2520, box_color=[255, 255, 255], image_index=4)\n",
      "BoundingBox(center_y=192, center_x=324, box_corners=[156, 286, 228, 363], height=73, width=78, area=5694, box_color=[255, 255, 255], image_index=4)\n",
      "BoundingBox(center_y=174, center_x=113, box_corners=[158, 95, 190, 132], height=33, width=38, area=1254, box_color=[255, 255, 255], image_index=4)\n",
      "BoundingBox(center_y=219, center_x=52, box_corners=[190, 17, 248, 89], height=58, width=73, area=4234, box_color=[255, 255, 255], image_index=4)\n",
      "BoundingBox(center_y=218, center_x=108, box_corners=[143, 40, 294, 176], height=152, width=137, area=20824, box_color=[255, 255, 255], image_index=4)\n",
      "BoundingBox(center_y=234, center_x=22, box_corners=[219, 2, 249, 42], height=31, width=40, area=1240, box_color=[255, 255, 255], image_index=4)\n",
      "BoundingBox(center_y=485, center_x=96, box_corners=[452, 64, 519, 128], height=68, width=65, area=4420, box_color=[255, 255, 255], image_index=4)\n",
      "BoundingBox(center_y=63, center_x=361, box_corners=[45, 335, 82, 387], height=38, width=53, area=2014, box_color=[255, 255, 255], image_index=5)\n",
      "BoundingBox(center_y=170, center_x=302, box_corners=[153, 285, 188, 319], height=36, width=35, area=1260, box_color=[255, 255, 255], image_index=5)\n",
      "BoundingBox(center_y=294, center_x=356, box_corners=[194, 284, 395, 428], height=202, width=145, area=29290, box_color=[255, 255, 255], image_index=5)\n",
      "BoundingBox(center_y=247, center_x=239, box_corners=[224, 219, 270, 260], height=47, width=42, area=1974, box_color=[255, 255, 255], image_index=5)\n",
      "BoundingBox(center_y=298, center_x=308, box_corners=[256, 274, 341, 343], height=86, width=70, area=6020, box_color=[255, 255, 255], image_index=5)\n",
      "BoundingBox(center_y=299, center_x=82, box_corners=[278, 64, 320, 101], height=43, width=38, area=1634, box_color=[255, 255, 255], image_index=5)\n",
      "BoundingBox(center_y=297, center_x=321, box_corners=[283, 299, 311, 344], height=29, width=46, area=1334, box_color=[255, 255, 255], image_index=5)\n",
      "BoundingBox(center_y=431, center_x=381, box_corners=[361, 331, 502, 431], height=142, width=101, area=14342, box_color=[255, 255, 255], image_index=5)\n",
      "BoundingBox(center_y=525, center_x=350, box_corners=[508, 331, 543, 369], height=36, width=39, area=1404, box_color=[255, 255, 255], image_index=5)\n",
      "BoundingBox(center_y=553, center_x=409, box_corners=[531, 387, 575, 431], height=45, width=45, area=2025, box_color=[255, 255, 255], image_index=5)\n",
      "BoundingBox(center_y=54, center_x=105, box_corners=[0, 41, 109, 169], height=110, width=129, area=14190, box_color=[255, 255, 255], image_index=6)\n",
      "BoundingBox(center_y=36, center_x=352, box_corners=[11, 329, 62, 376], height=52, width=48, area=2496, box_color=[255, 255, 255], image_index=6)\n",
      "BoundingBox(center_y=174, center_x=219, box_corners=[146, 195, 201, 244], height=56, width=49, area=2744, box_color=[255, 255, 255], image_index=6)\n",
      "BoundingBox(center_y=225, center_x=192, box_corners=[175, 135, 275, 250], height=101, width=116, area=11716, box_color=[255, 255, 255], image_index=6)\n",
      "BoundingBox(center_y=245, center_x=226, box_corners=[217, 201, 273, 251], height=57, width=51, area=2907, box_color=[255, 255, 255], image_index=6)\n",
      "BoundingBox(center_y=349, center_x=105, box_corners=[292, 69, 406, 142], height=115, width=74, area=8510, box_color=[255, 255, 255], image_index=6)\n",
      "BoundingBox(center_y=414, center_x=108, box_corners=[399, 91, 429, 125], height=31, width=35, area=1085, box_color=[255, 255, 255], image_index=6)\n",
      "BoundingBox(center_y=178, center_x=146, box_corners=[141, 100, 216, 192], height=76, width=93, area=7068, box_color=[255, 255, 255], image_index=7)\n",
      "BoundingBox(center_y=175, center_x=526, box_corners=[159, 510, 192, 542], height=34, width=33, area=1122, box_color=[255, 255, 255], image_index=7)\n",
      "BoundingBox(center_y=211, center_x=283, box_corners=[193, 261, 230, 305], height=38, width=45, area=1710, box_color=[255, 255, 255], image_index=7)\n",
      "BoundingBox(center_y=257, center_x=33, box_corners=[236, 6, 279, 61], height=44, width=56, area=2464, box_color=[255, 255, 255], image_index=7)\n",
      "BoundingBox(center_y=312, center_x=331, box_corners=[300, 318, 325, 344], height=26, width=27, area=702, box_color=[255, 255, 255], image_index=7)\n",
      "BoundingBox(center_y=135, center_x=144, box_corners=[2, 40, 268, 249], height=267, width=210, area=56070, box_color=[255, 255, 255], image_index=8)\n",
      "BoundingBox(center_y=44, center_x=198, box_corners=[5, 168, 84, 228], height=80, width=61, area=4880, box_color=[255, 255, 255], image_index=8)\n",
      "BoundingBox(center_y=273, center_x=302, box_corners=[236, 264, 310, 340], height=75, width=77, area=5775, box_color=[255, 255, 255], image_index=8)\n",
      "BoundingBox(center_y=335, center_x=67, box_corners=[315, 46, 355, 88], height=41, width=43, area=1763, box_color=[255, 255, 255], image_index=8)\n",
      "BoundingBox(center_y=26, center_x=221, box_corners=[3, 199, 49, 243], height=47, width=45, area=2115, box_color=[255, 255, 255], image_index=9)\n",
      "BoundingBox(center_y=51, center_x=67, box_corners=[23, 47, 79, 87], height=57, width=41, area=2337, box_color=[255, 255, 255], image_index=9)\n",
      "BoundingBox(center_y=71, center_x=306, box_corners=[36, 271, 107, 342], height=71, width=72, area=5112, box_color=[255, 255, 255], image_index=9)\n",
      "BoundingBox(center_y=126, center_x=219, box_corners=[98, 174, 154, 265], height=57, width=92, area=5244, box_color=[255, 255, 255], image_index=9)\n",
      "BoundingBox(center_y=218, center_x=412, box_corners=[194, 394, 242, 431], height=49, width=38, area=1862, box_color=[255, 255, 255], image_index=9)\n",
      "BoundingBox(center_y=224, center_x=169, box_corners=[195, 148, 253, 190], height=59, width=43, area=2537, box_color=[255, 255, 255], image_index=9)\n",
      "BoundingBox(center_y=266, center_x=319, box_corners=[229, 290, 304, 348], height=76, width=59, area=4484, box_color=[255, 255, 255], image_index=9)\n",
      "BoundingBox(center_y=284, center_x=77, box_corners=[264, 63, 305, 91], height=42, width=29, area=1218, box_color=[255, 255, 255], image_index=9)\n",
      "BoundingBox(center_y=365, center_x=264, box_corners=[326, 217, 405, 312], height=80, width=96, area=7680, box_color=[255, 255, 255], image_index=9)\n",
      "BoundingBox(center_y=414, center_x=39, box_corners=[355, 0, 473, 78], height=119, width=79, area=9401, box_color=[255, 255, 255], image_index=9)\n",
      "BoundingBox(center_y=410, center_x=241, box_corners=[390, 223, 430, 259], height=41, width=37, area=1517, box_color=[255, 255, 255], image_index=9)\n",
      "BoundingBox(center_y=472, center_x=306, box_corners=[433, 263, 512, 350], height=80, width=88, area=7040, box_color=[255, 255, 255], image_index=9)\n",
      "BoundingBox(center_y=243, center_x=183, box_corners=[167, 95, 319, 272], height=153, width=178, area=27234, box_color=[255, 255, 255], image_index=10)\n",
      "BoundingBox(center_y=281, center_x=149, box_corners=[263, 130, 299, 168], height=36, width=38, area=1368, box_color=[255, 255, 255], image_index=10)\n",
      "BoundingBox(center_y=338, center_x=20, box_corners=[314, 0, 362, 40], height=49, width=41, area=2009, box_color=[255, 255, 255], image_index=10)\n",
      "BoundingBox(center_y=365, center_x=189, box_corners=[329, 168, 402, 211], height=74, width=44, area=3256, box_color=[255, 255, 255], image_index=10)\n",
      "BoundingBox(center_y=352, center_x=83, box_corners=[332, 66, 372, 101], height=41, width=36, area=1476, box_color=[255, 255, 255], image_index=10)\n",
      "BoundingBox(center_y=447, center_x=48, box_corners=[432, 30, 462, 67], height=31, width=38, area=1178, box_color=[255, 255, 255], image_index=10)\n",
      "BoundingBox(center_y=466, center_x=357, box_corners=[445, 334, 488, 381], height=44, width=48, area=2112, box_color=[255, 255, 255], image_index=10)\n",
      "BoundingBox(center_y=87, center_x=276, box_corners=[14, 205, 161, 348], height=147, width=144, area=21168, box_color=[255, 255, 255], image_index=11)\n",
      "BoundingBox(center_y=170, center_x=157, box_corners=[154, 140, 186, 174], height=33, width=35, area=1155, box_color=[255, 255, 255], image_index=11)\n",
      "BoundingBox(center_y=191, center_x=30, box_corners=[172, 1, 211, 59], height=40, width=59, area=2360, box_color=[255, 255, 255], image_index=11)\n",
      "BoundingBox(center_y=233, center_x=101, box_corners=[213, 87, 254, 115], height=42, width=29, area=1218, box_color=[255, 255, 255], image_index=11)\n",
      "BoundingBox(center_y=352, center_x=416, box_corners=[316, 365, 388, 468], height=72, width=103, area=7416, box_color=[255, 255, 255], image_index=11)\n",
      "BoundingBox(center_y=502, center_x=183, box_corners=[481, 163, 524, 204], height=44, width=42, area=1848, box_color=[255, 255, 255], image_index=11)\n",
      "BoundingBox(center_y=50, center_x=301, box_corners=[11, 266, 90, 337], height=80, width=72, area=5760, box_color=[255, 255, 255], image_index=12)\n",
      "BoundingBox(center_y=106, center_x=254, box_corners=[62, 222, 151, 286], height=90, width=65, area=5850, box_color=[255, 255, 255], image_index=12)\n",
      "BoundingBox(center_y=139, center_x=165, box_corners=[92, 120, 186, 211], height=95, width=92, area=8740, box_color=[255, 255, 255], image_index=12)\n",
      "BoundingBox(center_y=177, center_x=129, box_corners=[141, 102, 214, 156], height=74, width=55, area=4070, box_color=[255, 255, 255], image_index=12)\n",
      "BoundingBox(center_y=205, center_x=196, box_corners=[180, 182, 231, 211], height=52, width=30, area=1560, box_color=[255, 255, 255], image_index=12)\n",
      "BoundingBox(center_y=263, center_x=287, box_corners=[232, 264, 295, 311], height=64, width=48, area=3072, box_color=[255, 255, 255], image_index=12)\n",
      "BoundingBox(center_y=325, center_x=32, box_corners=[279, 0, 372, 64], height=94, width=65, area=6110, box_color=[255, 255, 255], image_index=12)\n",
      "BoundingBox(center_y=25, center_x=61, box_corners=[0, 28, 51, 95], height=52, width=68, area=3536, box_color=[255, 255, 255], image_index=13)\n",
      "BoundingBox(center_y=55, center_x=172, box_corners=[0, 117, 110, 227], height=111, width=111, area=12321, box_color=[255, 255, 255], image_index=13)\n",
      "BoundingBox(center_y=62, center_x=537, box_corners=[28, 499, 97, 575], height=70, width=77, area=5390, box_color=[255, 255, 255], image_index=13)\n",
      "BoundingBox(center_y=63, center_x=25, box_corners=[47, 8, 79, 43], height=33, width=36, area=1188, box_color=[255, 255, 255], image_index=13)\n",
      "BoundingBox(center_y=77, center_x=471, box_corners=[62, 455, 93, 487], height=32, width=33, area=1056, box_color=[255, 255, 255], image_index=13)\n",
      "BoundingBox(center_y=257, center_x=537, box_corners=[246, 524, 269, 551], height=24, width=28, area=672, box_color=[255, 255, 255], image_index=13)\n",
      "BoundingBox(center_y=295, center_x=465, box_corners=[284, 451, 307, 479], height=24, width=29, area=696, box_color=[255, 255, 255], image_index=13)\n",
      "BoundingBox(center_y=316, center_x=511, box_corners=[293, 493, 340, 529], height=48, width=37, area=1776, box_color=[255, 255, 255], image_index=13)\n",
      "BoundingBox(center_y=319, center_x=410, box_corners=[302, 392, 336, 428], height=35, width=37, area=1295, box_color=[255, 255, 255], image_index=13)\n",
      "BoundingBox(center_y=339, center_x=420, box_corners=[307, 374, 372, 466], height=66, width=93, area=6138, box_color=[255, 255, 255], image_index=13)\n",
      "BoundingBox(center_y=336, center_x=400, box_corners=[311, 370, 361, 431], height=51, width=61, area=3111, box_color=[255, 255, 255], image_index=13)\n",
      "BoundingBox(center_y=60, center_x=80, box_corners=[0, 19, 121, 141], height=122, width=123, area=15006, box_color=[255, 255, 255], image_index=14)\n",
      "BoundingBox(center_y=17, center_x=110, box_corners=[2, 94, 32, 126], height=31, width=33, area=1023, box_color=[255, 255, 255], image_index=14)\n",
      "BoundingBox(center_y=75, center_x=91, box_corners=[2, 36, 149, 146], height=148, width=111, area=16428, box_color=[255, 255, 255], image_index=14)\n",
      "BoundingBox(center_y=90, center_x=356, box_corners=[60, 321, 121, 392], height=62, width=72, area=4464, box_color=[255, 255, 255], image_index=14)\n",
      "BoundingBox(center_y=158, center_x=176, box_corners=[130, 153, 186, 199], height=57, width=47, area=2679, box_color=[255, 255, 255], image_index=14)\n",
      "BoundingBox(center_y=154, center_x=296, box_corners=[133, 280, 176, 313], height=44, width=34, area=1496, box_color=[255, 255, 255], image_index=14)\n",
      "BoundingBox(center_y=152, center_x=441, box_corners=[138, 431, 167, 452], height=30, width=22, area=660, box_color=[255, 255, 255], image_index=14)\n",
      "BoundingBox(center_y=187, center_x=519, box_corners=[143, 491, 232, 548], height=90, width=58, area=5220, box_color=[255, 255, 255], image_index=14)\n",
      "BoundingBox(center_y=260, center_x=51, box_corners=[246, 40, 275, 62], height=30, width=23, area=690, box_color=[255, 255, 255], image_index=14)\n"
     ]
    }
   ],
   "execution_count": 116
  },
  {
   "metadata": {
    "ExecuteTime": {
     "end_time": "2025-05-10T19:25:15.995693Z",
     "start_time": "2025-05-10T19:25:15.979012Z"
    }
   },
   "cell_type": "code",
   "source": [
    "import copy\n",
    "bbox_images = copy.deepcopy(resized_images)\n",
    "for bounding_box_obj in shape_bounding_boxes:\n",
    "    bbox_image = bounding_box.draw_bounding_box(bounding_box=bounding_box_obj, image=bbox_images[bounding_box_obj.image_index])\n",
    "    bbox_images[bounding_box_obj.image_index] = bbox_image\n",
    "\n",
    "%store shape_bounding_boxes"
   ],
   "id": "58bca3e5e2ab1d5a",
   "outputs": [
    {
     "name": "stdout",
     "output_type": "stream",
     "text": [
      "Stored 'shape_bounding_boxes' (list)\n"
     ]
    }
   ],
   "execution_count": 117
  },
  {
   "metadata": {
    "ExecuteTime": {
     "end_time": "2025-05-10T19:25:40.067302Z",
     "start_time": "2025-05-10T19:25:16.010428Z"
    }
   },
   "cell_type": "code",
   "source": [
    "for bbox_img in bbox_images:\n",
    "    basic_ops.show_image(image=bbox_img, title='shape_bboxes')"
   ],
   "id": "49bd7600dab2a761",
   "outputs": [
    {
     "name": "stdout",
     "output_type": "stream",
     "text": [
      "Image displayed\n",
      "Image displayed\n",
      "Image displayed\n",
      "Image displayed\n",
      "Image displayed\n",
      "Image displayed\n",
      "Image displayed\n",
      "Image displayed\n",
      "Image displayed\n",
      "Image displayed\n",
      "Image displayed\n",
      "Image displayed\n",
      "Image displayed\n",
      "Image displayed\n",
      "Image displayed\n"
     ]
    }
   ],
   "execution_count": 118
  }
 ],
 "metadata": {
  "kernelspec": {
   "display_name": "Python 3",
   "language": "python",
   "name": "python3"
  },
  "language_info": {
   "codemirror_mode": {
    "name": "ipython",
    "version": 2
   },
   "file_extension": ".py",
   "mimetype": "text/x-python",
   "name": "python",
   "nbconvert_exporter": "python",
   "pygments_lexer": "ipython2",
   "version": "2.7.6"
  }
 },
 "nbformat": 4,
 "nbformat_minor": 5
}
