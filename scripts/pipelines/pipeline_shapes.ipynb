{
 "cells": [
  {
   "cell_type": "code",
   "id": "df565b008065ccc3",
   "metadata": {
    "ExecuteTime": {
     "end_time": "2025-05-09T13:52:53.692532Z",
     "start_time": "2025-05-09T13:52:53.682680Z"
    }
   },
   "source": [
    "%store -r resized_images\n",
    "%store -r shape_images"
   ],
   "outputs": [],
   "execution_count": 56
  },
  {
   "metadata": {
    "ExecuteTime": {
     "end_time": "2025-05-09T13:53:07.046803Z",
     "start_time": "2025-05-09T13:52:53.744297Z"
    }
   },
   "cell_type": "code",
   "source": [
    "from scripts import basic_image_operations as basic_ops, shape_detection, bounding_box\n",
    "\n",
    "import importlib\n",
    "importlib.reload(shape_detection)\n",
    "\n",
    "shape_bounding_boxes = []\n",
    "for i, image in enumerate(shape_images):\n",
    "    basic_ops.show_image(image=image, title=f'Image {i}')\n",
    "    contours = shape_detection.get_contours(binary_image=image, angle_tolerance=15)\n",
    "    height, width = image.shape[:2]\n",
    "    box_color = [255, 255, 255]\n",
    "    min_box_area = int((height*0.055)**2)\n",
    "    max_box_area = height*width\n",
    "    bounding_boxes = bounding_box.create_bounding_boxes(blobs=contours, min_box_area=min_box_area, max_box_area=max_box_area, box_color=box_color, image_index=i)\n",
    "    shape_bounding_boxes.extend(bounding_boxes)"
   ],
   "id": "3996a7a0e28b7b03",
   "outputs": [
    {
     "name": "stdout",
     "output_type": "stream",
     "text": [
      "Image displayed\n",
      "Image displayed\n",
      "Image displayed\n",
      "Image displayed\n",
      "Image displayed\n",
      "Image displayed\n",
      "Image displayed\n"
     ]
    }
   ],
   "execution_count": 57
  },
  {
   "metadata": {
    "ExecuteTime": {
     "end_time": "2025-05-09T13:53:07.078267Z",
     "start_time": "2025-05-09T13:53:07.069128Z"
    }
   },
   "cell_type": "code",
   "source": [
    "import copy\n",
    "bbox_images = copy.deepcopy(resized_images)\n",
    "for bounding_box_obj in shape_bounding_boxes:\n",
    "    print(bounding_box_obj)\n",
    "    bbox_image = bounding_box.draw_bounding_box(bounding_box=bounding_box_obj, image=bbox_images[bounding_box_obj.image_index])\n",
    "    bbox_images[bounding_box_obj.image_index] = bbox_image\n",
    "\n",
    "%store shape_bounding_boxes"
   ],
   "id": "9865d236b506efe1",
   "outputs": [
    {
     "name": "stdout",
     "output_type": "stream",
     "text": [
      "BoundingBox(center_y=69, center_x=367, box_corners=[np.int64(29), np.int64(331), np.int64(110), np.int64(403)], height=82, width=73, area=5986, box_color=[255, 255, 255], image_index=0)\n",
      "BoundingBox(center_y=263, center_x=224, box_corners=[np.int64(234), np.int64(192), np.int64(292), np.int64(257)], height=59, width=66, area=3894, box_color=[255, 255, 255], image_index=0)\n",
      "BoundingBox(center_y=256, center_x=20, box_corners=[np.int64(241), np.int64(1), np.int64(271), np.int64(40)], height=31, width=40, area=1240, box_color=[255, 255, 255], image_index=0)\n",
      "BoundingBox(center_y=297, center_x=78, box_corners=[np.int64(270), np.int64(50), np.int64(325), np.int64(107)], height=56, width=58, area=3248, box_color=[255, 255, 255], image_index=0)\n",
      "BoundingBox(center_y=288, center_x=96, box_corners=[np.int64(272), np.int64(75), np.int64(305), np.int64(117)], height=34, width=43, area=1462, box_color=[255, 255, 255], image_index=0)\n",
      "BoundingBox(center_y=296, center_x=76, box_corners=[np.int64(279), np.int64(61), np.int64(314), np.int64(92)], height=36, width=32, area=1152, box_color=[255, 255, 255], image_index=0)\n",
      "BoundingBox(center_y=327, center_x=221, box_corners=[np.int64(298), np.int64(194), np.int64(356), np.int64(248)], height=59, width=55, area=3245, box_color=[255, 255, 255], image_index=0)\n",
      "BoundingBox(center_y=537, center_x=370, box_corners=[np.int64(514), np.int64(349), np.int64(560), np.int64(391)], height=47, width=43, area=2021, box_color=[255, 255, 255], image_index=0)\n",
      "BoundingBox(center_y=553, center_x=101, box_corners=[np.int64(538), np.int64(85), np.int64(569), np.int64(118)], height=32, width=34, area=1088, box_color=[255, 255, 255], image_index=0)\n",
      "BoundingBox(center_y=83, center_x=81, box_corners=[np.int64(30), np.int64(29), np.int64(137), np.int64(134)], height=108, width=106, area=11448, box_color=[255, 255, 255], image_index=1)\n",
      "BoundingBox(center_y=119, center_x=224, box_corners=[np.int64(55), np.int64(170), np.int64(184), np.int64(279)], height=130, width=110, area=14300, box_color=[255, 255, 255], image_index=1)\n",
      "BoundingBox(center_y=101, center_x=75, box_corners=[np.int64(68), np.int64(40), np.int64(134), np.int64(111)], height=67, width=72, area=4824, box_color=[255, 255, 255], image_index=1)\n",
      "BoundingBox(center_y=102, center_x=66, box_corners=[np.int64(70), np.int64(38), np.int64(135), np.int64(95)], height=66, width=58, area=3828, box_color=[255, 255, 255], image_index=1)\n",
      "BoundingBox(center_y=119, center_x=229, box_corners=[np.int64(79), np.int64(192), np.int64(160), np.int64(267)], height=82, width=76, area=6232, box_color=[255, 255, 255], image_index=1)\n",
      "BoundingBox(center_y=115, center_x=148, box_corners=[np.int64(88), np.int64(125), np.int64(143), np.int64(172)], height=56, width=48, area=2688, box_color=[255, 255, 255], image_index=1)\n",
      "BoundingBox(center_y=142, center_x=385, box_corners=[np.int64(109), np.int64(343), np.int64(176), np.int64(428)], height=68, width=86, area=5848, box_color=[255, 255, 255], image_index=1)\n",
      "BoundingBox(center_y=152, center_x=347, box_corners=[np.int64(124), np.int64(315), np.int64(181), np.int64(380)], height=58, width=66, area=3828, box_color=[255, 255, 255], image_index=1)\n",
      "BoundingBox(center_y=202, center_x=252, box_corners=[np.int64(183), np.int64(236), np.int64(221), np.int64(269)], height=39, width=34, area=1326, box_color=[255, 255, 255], image_index=1)\n",
      "BoundingBox(center_y=296, center_x=416, box_corners=[np.int64(279), np.int64(401), np.int64(314), np.int64(431)], height=36, width=31, area=1116, box_color=[255, 255, 255], image_index=1)\n",
      "BoundingBox(center_y=492, center_x=183, box_corners=[np.int64(473), np.int64(160), np.int64(511), np.int64(207)], height=39, width=48, area=1872, box_color=[255, 255, 255], image_index=1)\n",
      "BoundingBox(center_y=185, center_x=80, box_corners=[np.int64(168), np.int64(65), np.int64(202), np.int64(95)], height=35, width=31, area=1085, box_color=[255, 255, 255], image_index=2)\n",
      "BoundingBox(center_y=257, center_x=163, box_corners=[np.int64(220), np.int64(126), np.int64(294), np.int64(200)], height=75, width=75, area=5625, box_color=[255, 255, 255], image_index=2)\n",
      "BoundingBox(center_y=265, center_x=237, box_corners=[np.int64(234), np.int64(198), np.int64(296), np.int64(276)], height=63, width=79, area=4977, box_color=[255, 255, 255], image_index=2)\n",
      "BoundingBox(center_y=260, center_x=100, box_corners=[np.int64(242), np.int64(81), np.int64(278), np.int64(120)], height=37, width=40, area=1480, box_color=[255, 255, 255], image_index=2)\n",
      "BoundingBox(center_y=364, center_x=130, box_corners=[np.int64(342), np.int64(109), np.int64(387), np.int64(152)], height=46, width=44, area=2024, box_color=[255, 255, 255], image_index=2)\n",
      "BoundingBox(center_y=476, center_x=269, box_corners=[np.int64(432), np.int64(220), np.int64(520), np.int64(318)], height=89, width=99, area=8811, box_color=[255, 255, 255], image_index=2)\n",
      "BoundingBox(center_y=496, center_x=41, box_corners=[np.int64(476), np.int64(25), np.int64(516), np.int64(57)], height=41, width=33, area=1353, box_color=[255, 255, 255], image_index=2)\n",
      "BoundingBox(center_y=501, center_x=46, box_corners=[np.int64(483), np.int64(31), np.int64(520), np.int64(62)], height=38, width=32, area=1216, box_color=[255, 255, 255], image_index=2)\n",
      "BoundingBox(center_y=522, center_x=232, box_corners=[np.int64(498), np.int64(210), np.int64(547), np.int64(255)], height=50, width=46, area=2300, box_color=[255, 255, 255], image_index=2)\n",
      "BoundingBox(center_y=516, center_x=253, box_corners=[np.int64(498), np.int64(236), np.int64(535), np.int64(271)], height=38, width=36, area=1368, box_color=[255, 255, 255], image_index=2)\n",
      "BoundingBox(center_y=541, center_x=317, box_corners=[np.int64(508), np.int64(285), np.int64(575), np.int64(349)], height=68, width=65, area=4420, box_color=[255, 255, 255], image_index=2)\n",
      "BoundingBox(center_y=544, center_x=303, box_corners=[np.int64(513), np.int64(279), np.int64(575), np.int64(328)], height=63, width=50, area=3150, box_color=[255, 255, 255], image_index=2)\n",
      "BoundingBox(center_y=549, center_x=122, box_corners=[np.int64(526), np.int64(98), np.int64(572), np.int64(147)], height=47, width=50, area=2350, box_color=[255, 255, 255], image_index=2)\n",
      "BoundingBox(center_y=57, center_x=270, box_corners=[np.int64(35), np.int64(248), np.int64(79), np.int64(293)], height=45, width=46, area=2070, box_color=[255, 255, 255], image_index=3)\n",
      "BoundingBox(center_y=197, center_x=231, box_corners=[np.int64(174), np.int64(209), np.int64(221), np.int64(253)], height=48, width=45, area=2160, box_color=[255, 255, 255], image_index=3)\n",
      "BoundingBox(center_y=230, center_x=191, box_corners=[np.int64(184), np.int64(134), np.int64(276), np.int64(249)], height=93, width=116, area=10788, box_color=[255, 255, 255], image_index=3)\n",
      "BoundingBox(center_y=228, center_x=186, box_corners=[np.int64(203), np.int64(157), np.int64(253), np.int64(215)], height=51, width=59, area=3009, box_color=[255, 255, 255], image_index=3)\n",
      "BoundingBox(center_y=328, center_x=195, box_corners=[np.int64(310), np.int64(178), np.int64(347), np.int64(212)], height=38, width=35, area=1330, box_color=[255, 255, 255], image_index=3)\n",
      "BoundingBox(center_y=423, center_x=185, box_corners=[np.int64(384), np.int64(142), np.int64(462), np.int64(228)], height=79, width=87, area=6873, box_color=[255, 255, 255], image_index=3)\n",
      "BoundingBox(center_y=516, center_x=113, box_corners=[np.int64(498), np.int64(99), np.int64(534), np.int64(127)], height=37, width=29, area=1073, box_color=[255, 255, 255], image_index=3)\n",
      "BoundingBox(center_y=86, center_x=68, box_corners=[np.int64(2), np.int64(0), np.int64(171), np.int64(137)], height=170, width=138, area=23460, box_color=[255, 255, 255], image_index=4)\n",
      "BoundingBox(center_y=31, center_x=374, box_corners=[np.int64(16), np.int64(358), np.int64(47), np.int64(391)], height=32, width=34, area=1088, box_color=[255, 255, 255], image_index=4)\n",
      "BoundingBox(center_y=32, center_x=325, box_corners=[np.int64(17), np.int64(312), np.int64(48), np.int64(338)], height=32, width=27, area=864, box_color=[255, 255, 255], image_index=4)\n",
      "BoundingBox(center_y=95, center_x=212, box_corners=[np.int64(82), np.int64(201), np.int64(109), np.int64(224)], height=28, width=24, area=672, box_color=[255, 255, 255], image_index=4)\n",
      "BoundingBox(center_y=128, center_x=538, box_corners=[np.int64(113), np.int64(521), np.int64(143), np.int64(556)], height=31, width=36, area=1116, box_color=[255, 255, 255], image_index=4)\n",
      "BoundingBox(center_y=131, center_x=362, box_corners=[np.int64(114), np.int64(343), np.int64(148), np.int64(381)], height=35, width=39, area=1365, box_color=[255, 255, 255], image_index=4)\n",
      "BoundingBox(center_y=144, center_x=481, box_corners=[np.int64(130), np.int64(469), np.int64(158), np.int64(493)], height=29, width=25, area=725, box_color=[255, 255, 255], image_index=4)\n",
      "BoundingBox(center_y=146, center_x=525, box_corners=[np.int64(132), np.int64(510), np.int64(161), np.int64(541)], height=30, width=32, area=960, box_color=[255, 255, 255], image_index=4)\n",
      "BoundingBox(center_y=176, center_x=267, box_corners=[np.int64(142), np.int64(235), np.int64(211), np.int64(300)], height=70, width=66, area=4620, box_color=[255, 255, 255], image_index=4)\n",
      "BoundingBox(center_y=230, center_x=93, box_corners=[np.int64(216), np.int64(80), np.int64(244), np.int64(107)], height=29, width=28, area=812, box_color=[255, 255, 255], image_index=4)\n",
      "BoundingBox(center_y=232, center_x=376, box_corners=[np.int64(220), np.int64(362), np.int64(245), np.int64(390)], height=26, width=29, area=754, box_color=[255, 255, 255], image_index=4)\n",
      "BoundingBox(center_y=237, center_x=14, box_corners=[np.int64(224), np.int64(3), np.int64(251), np.int64(26)], height=28, width=24, area=672, box_color=[255, 255, 255], image_index=4)\n",
      "BoundingBox(center_y=245, center_x=81, box_corners=[np.int64(226), np.int64(63), np.int64(264), np.int64(100)], height=39, width=38, area=1482, box_color=[255, 255, 255], image_index=4)\n",
      "BoundingBox(center_y=249, center_x=207, box_corners=[np.int64(235), np.int64(193), np.int64(264), np.int64(222)], height=30, width=30, area=900, box_color=[255, 255, 255], image_index=4)\n",
      "BoundingBox(center_y=252, center_x=206, box_corners=[np.int64(236), np.int64(190), np.int64(268), np.int64(222)], height=33, width=33, area=1089, box_color=[255, 255, 255], image_index=4)\n",
      "BoundingBox(center_y=296, center_x=545, box_corners=[np.int64(282), np.int64(529), np.int64(310), np.int64(562)], height=29, width=34, area=986, box_color=[255, 255, 255], image_index=4)\n",
      "BoundingBox(center_y=317, center_x=172, box_corners=[np.int64(292), np.int64(140), np.int64(342), np.int64(205)], height=51, width=66, area=3366, box_color=[255, 255, 255], image_index=4)\n",
      "BoundingBox(center_y=311, center_x=356, box_corners=[np.int64(293), np.int64(341), np.int64(329), np.int64(371)], height=37, width=31, area=1147, box_color=[255, 255, 255], image_index=4)\n",
      "BoundingBox(center_y=333, center_x=170, box_corners=[np.int64(314), np.int64(155), np.int64(352), np.int64(185)], height=39, width=31, area=1209, box_color=[255, 255, 255], image_index=4)\n",
      "BoundingBox(center_y=355, center_x=311, box_corners=[np.int64(331), np.int64(292), np.int64(380), np.int64(331)], height=50, width=40, area=2000, box_color=[255, 255, 255], image_index=4)\n",
      "BoundingBox(center_y=361, center_x=310, box_corners=[np.int64(344), np.int64(296), np.int64(379), np.int64(325)], height=36, width=30, area=1080, box_color=[255, 255, 255], image_index=4)\n",
      "BoundingBox(center_y=365, center_x=557, box_corners=[np.int64(351), np.int64(543), np.int64(380), np.int64(571)], height=30, width=29, area=870, box_color=[255, 255, 255], image_index=4)\n",
      "BoundingBox(center_y=410, center_x=384, box_corners=[np.int64(390), np.int64(364), np.int64(431), np.int64(405)], height=42, width=42, area=1764, box_color=[255, 255, 255], image_index=4)\n",
      "BoundingBox(center_y=50, center_x=180, box_corners=[np.int64(23), np.int64(150), np.int64(77), np.int64(211)], height=55, width=62, area=3410, box_color=[255, 255, 255], image_index=5)\n",
      "BoundingBox(center_y=53, center_x=179, box_corners=[np.int64(24), np.int64(148), np.int64(82), np.int64(211)], height=59, width=64, area=3776, box_color=[255, 255, 255], image_index=5)\n",
      "BoundingBox(center_y=78, center_x=194, box_corners=[np.int64(25), np.int64(147), np.int64(132), np.int64(241)], height=108, width=95, area=10260, box_color=[255, 255, 255], image_index=5)\n",
      "BoundingBox(center_y=113, center_x=151, box_corners=[np.int64(28), np.int64(67), np.int64(198), np.int64(236)], height=171, width=170, area=29070, box_color=[255, 255, 255], image_index=5)\n",
      "BoundingBox(center_y=81, center_x=92, box_corners=[np.int64(62), np.int64(73), np.int64(101), np.int64(112)], height=40, width=40, area=1600, box_color=[255, 255, 255], image_index=5)\n",
      "BoundingBox(center_y=97, center_x=413, box_corners=[np.int64(82), np.int64(396), np.int64(112), np.int64(431)], height=31, width=36, area=1116, box_color=[255, 255, 255], image_index=5)\n",
      "BoundingBox(center_y=125, center_x=348, box_corners=[np.int64(102), np.int64(321), np.int64(149), np.int64(375)], height=48, width=55, area=2640, box_color=[255, 255, 255], image_index=5)\n",
      "BoundingBox(center_y=170, center_x=120, box_corners=[np.int64(149), np.int64(99), np.int64(191), np.int64(141)], height=43, width=43, area=1849, box_color=[255, 255, 255], image_index=5)\n",
      "BoundingBox(center_y=171, center_x=302, box_corners=[np.int64(152), np.int64(281), np.int64(190), np.int64(323)], height=39, width=43, area=1677, box_color=[255, 255, 255], image_index=5)\n",
      "BoundingBox(center_y=179, center_x=124, box_corners=[np.int64(159), np.int64(103), np.int64(200), np.int64(145)], height=42, width=43, area=1806, box_color=[255, 255, 255], image_index=5)\n",
      "BoundingBox(center_y=221, center_x=313, box_corners=[np.int64(202), np.int64(295), np.int64(241), np.int64(332)], height=40, width=38, area=1520, box_color=[255, 255, 255], image_index=5)\n",
      "BoundingBox(center_y=231, center_x=210, box_corners=[np.int64(211), np.int64(194), np.int64(251), np.int64(226)], height=41, width=33, area=1353, box_color=[255, 255, 255], image_index=5)\n",
      "BoundingBox(center_y=241, center_x=356, box_corners=[np.int64(223), np.int64(342), np.int64(259), np.int64(371)], height=37, width=30, area=1110, box_color=[255, 255, 255], image_index=5)\n",
      "BoundingBox(center_y=240, center_x=127, box_corners=[np.int64(225), np.int64(112), np.int64(256), np.int64(143)], height=32, width=32, area=1024, box_color=[255, 255, 255], image_index=5)\n",
      "BoundingBox(center_y=271, center_x=86, box_corners=[np.int64(256), np.int64(69), np.int64(286), np.int64(103)], height=31, width=35, area=1085, box_color=[255, 255, 255], image_index=5)\n",
      "BoundingBox(center_y=381, center_x=360, box_corners=[np.int64(341), np.int64(320), np.int64(422), np.int64(401)], height=82, width=82, area=6724, box_color=[255, 255, 255], image_index=5)\n",
      "BoundingBox(center_y=544, center_x=218, box_corners=[np.int64(514), np.int64(188), np.int64(575), np.int64(249)], height=62, width=62, area=3844, box_color=[255, 255, 255], image_index=5)\n",
      "BoundingBox(center_y=114, center_x=40, box_corners=[np.int64(91), np.int64(17), np.int64(137), np.int64(63)], height=47, width=47, area=2209, box_color=[255, 255, 255], image_index=6)\n",
      "BoundingBox(center_y=185, center_x=227, box_corners=[np.int64(155), np.int64(204), np.int64(215), np.int64(250)], height=61, width=47, area=2867, box_color=[255, 255, 255], image_index=6)\n",
      "BoundingBox(center_y=184, center_x=231, box_corners=[np.int64(165), np.int64(213), np.int64(204), np.int64(250)], height=40, width=38, area=1520, box_color=[255, 255, 255], image_index=6)\n",
      "BoundingBox(center_y=220, center_x=231, box_corners=[np.int64(192), np.int64(203), np.int64(249), np.int64(260)], height=58, width=58, area=3364, box_color=[255, 255, 255], image_index=6)\n",
      "BoundingBox(center_y=247, center_x=291, box_corners=[np.int64(232), np.int64(275), np.int64(263), np.int64(308)], height=32, width=34, area=1088, box_color=[255, 255, 255], image_index=6)\n",
      "BoundingBox(center_y=312, center_x=323, box_corners=[np.int64(294), np.int64(308), np.int64(331), np.int64(339)], height=38, width=32, area=1216, box_color=[255, 255, 255], image_index=6)\n",
      "BoundingBox(center_y=557, center_x=161, box_corners=[np.int64(539), np.int64(142), np.int64(575), np.int64(180)], height=37, width=39, area=1443, box_color=[255, 255, 255], image_index=6)\n",
      "Stored 'shape_bounding_boxes' (list)\n"
     ]
    }
   ],
   "execution_count": 58
  },
  {
   "metadata": {
    "ExecuteTime": {
     "end_time": "2025-05-09T13:53:18.251935Z",
     "start_time": "2025-05-09T13:53:07.130176Z"
    }
   },
   "cell_type": "code",
   "source": [
    "for bbox_img in bbox_images:\n",
    "    basic_ops.show_image(image=bbox_img, title='shape_bboxes')"
   ],
   "id": "49bd7600dab2a761",
   "outputs": [
    {
     "name": "stdout",
     "output_type": "stream",
     "text": [
      "Image displayed\n",
      "Image displayed\n",
      "Image displayed\n",
      "Image displayed\n",
      "Image displayed\n",
      "Image displayed\n",
      "Image displayed\n"
     ]
    }
   ],
   "execution_count": 59
  }
 ],
 "metadata": {
  "kernelspec": {
   "display_name": "Python 3",
   "language": "python",
   "name": "python3"
  },
  "language_info": {
   "codemirror_mode": {
    "name": "ipython",
    "version": 2
   },
   "file_extension": ".py",
   "mimetype": "text/x-python",
   "name": "python",
   "nbconvert_exporter": "python",
   "pygments_lexer": "ipython2",
   "version": "2.7.6"
  }
 },
 "nbformat": 4,
 "nbformat_minor": 5
}
