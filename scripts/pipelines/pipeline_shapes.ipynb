{
 "cells": [
  {
   "cell_type": "code",
   "id": "df565b008065ccc3",
   "metadata": {
    "ExecuteTime": {
     "end_time": "2025-05-09T16:27:36.771573Z",
     "start_time": "2025-05-09T16:27:36.634316Z"
    }
   },
   "source": [
    "%store -r resized_images\n",
    "%store -r shape_images"
   ],
   "outputs": [],
   "execution_count": 1
  },
  {
   "metadata": {
    "ExecuteTime": {
     "end_time": "2025-05-09T16:17:38.987459Z",
     "start_time": "2025-05-09T16:17:26.275783Z"
    }
   },
   "cell_type": "code",
   "source": [
    "from scripts import basic_image_operations as basic_ops, shape_detection, bounding_box\n",
    "\n",
    "import importlib\n",
    "importlib.reload(shape_detection)\n",
    "importlib.reload(bounding_box)\n",
    "\n",
    "shape_bounding_boxes = []\n",
    "for i, image in enumerate(shape_images):\n",
    "    basic_ops.show_image(image=image, title=f'Image {i}')\n",
    "    contours = shape_detection.get_contours(binary_image=image, angle_tolerance=15)\n",
    "    height, width = image.shape[:2]\n",
    "    box_color = [255, 255, 255]\n",
    "    min_box_area = int((height*0.055)**2)\n",
    "    max_box_area = height*width//2\n",
    "    bounding_boxes = bounding_box.create_bounding_boxes(blobs=contours, min_box_area=min_box_area, max_box_area=max_box_area, box_color=box_color, image_index=i)\n",
    "    shape_bounding_boxes.extend(bounding_boxes)"
   ],
   "id": "3996a7a0e28b7b03",
   "outputs": [
    {
     "name": "stdout",
     "output_type": "stream",
     "text": [
      "Image displayed\n",
      "Image displayed\n",
      "Image displayed\n",
      "Image displayed\n",
      "Image displayed\n"
     ]
    }
   ],
   "execution_count": 19
  },
  {
   "metadata": {
    "ExecuteTime": {
     "end_time": "2025-05-09T16:17:40.726748Z",
     "start_time": "2025-05-09T16:17:40.716720Z"
    }
   },
   "cell_type": "code",
   "source": [
    "import copy\n",
    "bbox_images = copy.deepcopy(resized_images)\n",
    "for bounding_box_obj in shape_bounding_boxes:\n",
    "    print(bounding_box_obj)\n",
    "    bbox_image = bounding_box.draw_bounding_box(bounding_box=bounding_box_obj, image=bbox_images[bounding_box_obj.image_index])\n",
    "    bbox_images[bounding_box_obj.image_index] = bbox_image\n",
    "\n",
    "%store shape_bounding_boxes"
   ],
   "id": "9865d236b506efe1",
   "outputs": [
    {
     "name": "stdout",
     "output_type": "stream",
     "text": [
      "BoundingBox(center_y=212, center_x=301, box_corners=[154, 255, 271, 347], height=118, width=93, area=10974, box_color=[255, 255, 255], image_index=0)\n",
      "BoundingBox(center_y=239, center_x=265, box_corners=[160, 159, 319, 372], height=160, width=214, area=34240, box_color=[255, 255, 255], image_index=0)\n",
      "BoundingBox(center_y=229, center_x=207, box_corners=[167, 168, 292, 247], height=126, width=80, area=10080, box_color=[255, 255, 255], image_index=0)\n",
      "BoundingBox(center_y=214, center_x=194, box_corners=[190, 161, 239, 227], height=50, width=67, area=3350, box_color=[255, 255, 255], image_index=0)\n",
      "BoundingBox(center_y=311, center_x=79, box_corners=[279, 50, 343, 108], height=65, width=59, area=3835, box_color=[255, 255, 255], image_index=0)\n",
      "BoundingBox(center_y=307, center_x=76, box_corners=[280, 48, 335, 104], height=56, width=57, area=3192, box_color=[255, 255, 255], image_index=0)\n",
      "BoundingBox(center_y=368, center_x=191, box_corners=[335, 169, 401, 214], height=67, width=46, area=3082, box_color=[255, 255, 255], image_index=0)\n",
      "BoundingBox(center_y=362, center_x=226, box_corners=[337, 208, 387, 244], height=51, width=37, area=1887, box_color=[255, 255, 255], image_index=0)\n",
      "BoundingBox(center_y=376, center_x=228, box_corners=[359, 212, 393, 244], height=35, width=33, area=1155, box_color=[255, 255, 255], image_index=0)\n",
      "BoundingBox(center_y=432, center_x=212, box_corners=[417, 193, 447, 232], height=31, width=40, area=1240, box_color=[255, 255, 255], image_index=0)\n",
      "BoundingBox(center_y=468, center_x=124, box_corners=[446, 93, 490, 155], height=45, width=63, area=2835, box_color=[255, 255, 255], image_index=0)\n",
      "BoundingBox(center_y=54, center_x=251, box_corners=[4, 213, 104, 289], height=101, width=77, area=7777, box_color=[255, 255, 255], image_index=1)\n",
      "BoundingBox(center_y=128, center_x=342, box_corners=[95, 300, 162, 385], height=68, width=86, area=5848, box_color=[255, 255, 255], image_index=1)\n",
      "BoundingBox(center_y=133, center_x=247, box_corners=[96, 225, 171, 270], height=76, width=46, area=3496, box_color=[255, 255, 255], image_index=1)\n",
      "BoundingBox(center_y=142, center_x=249, box_corners=[99, 223, 185, 275], height=87, width=53, area=4611, box_color=[255, 255, 255], image_index=1)\n",
      "BoundingBox(center_y=141, center_x=272, box_corners=[106, 248, 177, 297], height=72, width=50, area=3600, box_color=[255, 255, 255], image_index=1)\n",
      "BoundingBox(center_y=140, center_x=258, box_corners=[114, 242, 166, 274], height=53, width=33, area=1749, box_color=[255, 255, 255], image_index=1)\n",
      "BoundingBox(center_y=158, center_x=195, box_corners=[143, 175, 173, 215], height=31, width=41, area=1271, box_color=[255, 255, 255], image_index=1)\n",
      "BoundingBox(center_y=217, center_x=17, box_corners=[203, 0, 231, 35], height=29, width=36, area=1044, box_color=[255, 255, 255], image_index=1)\n",
      "BoundingBox(center_y=233, center_x=54, box_corners=[219, 37, 248, 71], height=30, width=35, area=1050, box_color=[255, 255, 255], image_index=1)\n",
      "BoundingBox(center_y=247, center_x=66, box_corners=[225, 37, 270, 95], height=46, width=59, area=2714, box_color=[255, 255, 255], image_index=1)\n",
      "BoundingBox(center_y=257, center_x=44, box_corners=[229, 1, 285, 88], height=57, width=88, area=5016, box_color=[255, 255, 255], image_index=1)\n",
      "BoundingBox(center_y=281, center_x=242, box_corners=[245, 215, 318, 269], height=74, width=55, area=4070, box_color=[255, 255, 255], image_index=1)\n",
      "BoundingBox(center_y=282, center_x=237, box_corners=[246, 215, 319, 260], height=74, width=46, area=3404, box_color=[255, 255, 255], image_index=1)\n",
      "BoundingBox(center_y=412, center_x=19, box_corners=[388, 0, 436, 39], height=49, width=40, area=1960, box_color=[255, 255, 255], image_index=1)\n",
      "BoundingBox(center_y=415, center_x=121, box_corners=[399, 105, 431, 138], height=33, width=34, area=1122, box_color=[255, 255, 255], image_index=1)\n",
      "BoundingBox(center_y=59, center_x=191, box_corners=[25, 166, 94, 216], height=70, width=51, area=3570, box_color=[255, 255, 255], image_index=2)\n",
      "BoundingBox(center_y=130, center_x=223, box_corners=[64, 143, 197, 304], height=134, width=162, area=21708, box_color=[255, 255, 255], image_index=2)\n",
      "BoundingBox(center_y=109, center_x=269, box_corners=[75, 234, 144, 304], height=70, width=71, area=4970, box_color=[255, 255, 255], image_index=2)\n",
      "BoundingBox(center_y=121, center_x=267, box_corners=[76, 229, 167, 305], height=92, width=77, area=7084, box_color=[255, 255, 255], image_index=2)\n",
      "BoundingBox(center_y=145, center_x=224, box_corners=[116, 203, 174, 245], height=59, width=43, area=2537, box_color=[255, 255, 255], image_index=2)\n",
      "BoundingBox(center_y=162, center_x=111, box_corners=[143, 97, 181, 125], height=39, width=29, area=1131, box_color=[255, 255, 255], image_index=2)\n",
      "BoundingBox(center_y=202, center_x=20, box_corners=[184, 0, 221, 40], height=38, width=41, area=1558, box_color=[255, 255, 255], image_index=2)\n",
      "BoundingBox(center_y=212, center_x=21, box_corners=[195, 1, 230, 42], height=36, width=42, area=1512, box_color=[255, 255, 255], image_index=2)\n",
      "BoundingBox(center_y=266, center_x=284, box_corners=[248, 265, 285, 303], height=38, width=39, area=1482, box_color=[255, 255, 255], image_index=2)\n",
      "BoundingBox(center_y=283, center_x=280, box_corners=[266, 263, 301, 297], height=36, width=35, area=1260, box_color=[255, 255, 255], image_index=2)\n",
      "BoundingBox(center_y=306, center_x=280, box_corners=[286, 264, 327, 296], height=42, width=33, area=1386, box_color=[255, 255, 255], image_index=2)\n",
      "BoundingBox(center_y=393, center_x=234, box_corners=[377, 215, 409, 254], height=33, width=40, area=1320, box_color=[255, 255, 255], image_index=2)\n",
      "BoundingBox(center_y=553, center_x=223, box_corners=[532, 209, 575, 238], height=44, width=30, area=1320, box_color=[255, 255, 255], image_index=2)\n",
      "BoundingBox(center_y=166, center_x=259, box_corners=[109, 193, 223, 326], height=115, width=134, area=15410, box_color=[255, 255, 255], image_index=3)\n",
      "BoundingBox(center_y=160, center_x=401, box_corners=[131, 371, 190, 431], height=60, width=61, area=3660, box_color=[255, 255, 255], image_index=3)\n",
      "BoundingBox(center_y=180, center_x=336, box_corners=[165, 319, 195, 353], height=31, width=35, area=1085, box_color=[255, 255, 255], image_index=3)\n",
      "BoundingBox(center_y=238, center_x=119, box_corners=[209, 79, 268, 159], height=60, width=81, area=4860, box_color=[255, 255, 255], image_index=3)\n",
      "BoundingBox(center_y=268, center_x=32, box_corners=[243, 4, 294, 61], height=52, width=58, area=3016, box_color=[255, 255, 255], image_index=3)\n",
      "BoundingBox(center_y=317, center_x=295, box_corners=[299, 282, 335, 309], height=37, width=28, area=1036, box_color=[255, 255, 255], image_index=3)\n",
      "BoundingBox(center_y=389, center_x=286, box_corners=[346, 255, 432, 317], height=87, width=63, area=5481, box_color=[255, 255, 255], image_index=3)\n",
      "BoundingBox(center_y=387, center_x=339, box_corners=[369, 321, 405, 357], height=37, width=37, area=1369, box_color=[255, 255, 255], image_index=3)\n",
      "BoundingBox(center_y=390, center_x=339, box_corners=[370, 321, 410, 357], height=41, width=37, area=1517, box_color=[255, 255, 255], image_index=3)\n",
      "BoundingBox(center_y=114, center_x=177, box_corners=[41, 108, 188, 246], height=148, width=139, area=20572, box_color=[255, 255, 255], image_index=4)\n",
      "BoundingBox(center_y=151, center_x=121, box_corners=[87, 52, 216, 191], height=130, width=140, area=18200, box_color=[255, 255, 255], image_index=4)\n",
      "BoundingBox(center_y=168, center_x=104, box_corners=[149, 88, 188, 121], height=40, width=34, area=1360, box_color=[255, 255, 255], image_index=4)\n",
      "BoundingBox(center_y=181, center_x=220, box_corners=[153, 184, 210, 256], height=58, width=73, area=4234, box_color=[255, 255, 255], image_index=4)\n",
      "BoundingBox(center_y=185, center_x=205, box_corners=[154, 182, 216, 228], height=63, width=47, area=2961, box_color=[255, 255, 255], image_index=4)\n",
      "BoundingBox(center_y=202, center_x=14, box_corners=[181, 0, 224, 29], height=44, width=30, area=1320, box_color=[255, 255, 255], image_index=4)\n",
      "BoundingBox(center_y=252, center_x=387, box_corners=[216, 353, 289, 421], height=74, width=69, area=5106, box_color=[255, 255, 255], image_index=4)\n",
      "BoundingBox(center_y=280, center_x=238, box_corners=[254, 212, 307, 264], height=54, width=53, area=2862, box_color=[255, 255, 255], image_index=4)\n",
      "BoundingBox(center_y=294, center_x=13, box_corners=[276, 0, 313, 27], height=38, width=28, area=1064, box_color=[255, 255, 255], image_index=4)\n",
      "BoundingBox(center_y=349, center_x=314, box_corners=[318, 283, 380, 346], height=63, width=64, area=4032, box_color=[255, 255, 255], image_index=4)\n",
      "BoundingBox(center_y=370, center_x=204, box_corners=[342, 160, 398, 249], height=57, width=90, area=5130, box_color=[255, 255, 255], image_index=4)\n",
      "BoundingBox(center_y=523, center_x=409, box_corners=[502, 389, 545, 430], height=44, width=42, area=1848, box_color=[255, 255, 255], image_index=4)\n",
      "Stored 'shape_bounding_boxes' (list)\n"
     ]
    }
   ],
   "execution_count": 20
  },
  {
   "metadata": {
    "ExecuteTime": {
     "end_time": "2025-05-09T16:18:00.811736Z",
     "start_time": "2025-05-09T16:17:42.609183Z"
    }
   },
   "cell_type": "code",
   "source": [
    "for bbox_img in bbox_images:\n",
    "    basic_ops.show_image(image=bbox_img, title='shape_bboxes')"
   ],
   "id": "49bd7600dab2a761",
   "outputs": [
    {
     "name": "stdout",
     "output_type": "stream",
     "text": [
      "Image displayed\n",
      "Image displayed\n",
      "Image displayed\n",
      "Image displayed\n",
      "Image displayed\n"
     ]
    }
   ],
   "execution_count": 21
  }
 ],
 "metadata": {
  "kernelspec": {
   "display_name": "Python 3",
   "language": "python",
   "name": "python3"
  },
  "language_info": {
   "codemirror_mode": {
    "name": "ipython",
    "version": 2
   },
   "file_extension": ".py",
   "mimetype": "text/x-python",
   "name": "python",
   "nbconvert_exporter": "python",
   "pygments_lexer": "ipython2",
   "version": "2.7.6"
  }
 },
 "nbformat": 4,
 "nbformat_minor": 5
}
