{
 "cells": [
  {
   "cell_type": "code",
   "id": "df565b008065ccc3",
   "metadata": {
    "ExecuteTime": {
     "end_time": "2025-05-10T17:50:35.687283Z",
     "start_time": "2025-05-10T17:50:35.527308Z"
    }
   },
   "source": [
    "%store -r resized_images\n",
    "%store -r shape_images"
   ],
   "outputs": [],
   "execution_count": 1
  },
  {
   "metadata": {
    "ExecuteTime": {
     "end_time": "2025-05-10T17:51:09.332917Z",
     "start_time": "2025-05-10T17:50:42.799545Z"
    }
   },
   "cell_type": "code",
   "source": [
    "from scripts import basic_image_operations as basic_ops, shape_detection, bounding_box\n",
    "\n",
    "import importlib\n",
    "importlib.reload(shape_detection)\n",
    "importlib.reload(bounding_box)\n",
    "\n",
    "shape_bounding_boxes = []\n",
    "for i, image in enumerate(shape_images):\n",
    "    contours = shape_detection.get_contours(binary_image=image, angle_tolerance=10)\n",
    "    height, width = image.shape[:2]\n",
    "    box_color = [255, 255, 255]\n",
    "    min_box_area = int((height*0.055)**2)\n",
    "    max_box_area = height*width//2\n",
    "    bounding_boxes = bounding_box.create_bounding_boxes(blobs=contours, min_box_area=min_box_area, max_box_area=max_box_area, box_color=box_color, image_index=i)\n",
    "    shape_bounding_boxes.extend(bounding_boxes)"
   ],
   "id": "3996a7a0e28b7b03",
   "outputs": [
    {
     "name": "stdout",
     "output_type": "stream",
     "text": [
      "Image displayed\n",
      "Image displayed\n",
      "Image displayed\n",
      "Image displayed\n",
      "Image displayed\n",
      "Image displayed\n",
      "Image displayed\n"
     ]
    }
   ],
   "execution_count": 2
  },
  {
   "metadata": {
    "ExecuteTime": {
     "end_time": "2025-05-10T17:51:14.364494Z",
     "start_time": "2025-05-10T17:51:14.349980Z"
    }
   },
   "cell_type": "code",
   "source": [
    "import copy\n",
    "bbox_images = copy.deepcopy(resized_images)\n",
    "for bounding_box_obj in shape_bounding_boxes:\n",
    "    print(bounding_box_obj)\n",
    "    bbox_image = bounding_box.draw_bounding_box(bounding_box=bounding_box_obj, image=bbox_images[bounding_box_obj.image_index])\n",
    "    bbox_images[bounding_box_obj.image_index] = bbox_image\n",
    "\n",
    "%store shape_bounding_boxes"
   ],
   "id": "9865d236b506efe1",
   "outputs": [
    {
     "name": "stdout",
     "output_type": "stream",
     "text": [
      "BoundingBox(center_y=133, center_x=391, box_corners=[70, 352, 197, 431], height=128, width=80, area=10240, box_color=[255, 255, 255], image_index=0)\n",
      "BoundingBox(center_y=146, center_x=49, box_corners=[124, 17, 169, 81], height=46, width=65, area=2990, box_color=[255, 255, 255], image_index=0)\n",
      "BoundingBox(center_y=184, center_x=67, box_corners=[147, 35, 222, 99], height=76, width=65, area=4940, box_color=[255, 255, 255], image_index=0)\n",
      "BoundingBox(center_y=191, center_x=92, box_corners=[167, 77, 216, 107], height=50, width=31, area=1550, box_color=[255, 255, 255], image_index=0)\n",
      "BoundingBox(center_y=216, center_x=63, box_corners=[181, 30, 252, 96], height=72, width=67, area=4824, box_color=[255, 255, 255], image_index=0)\n",
      "BoundingBox(center_y=249, center_x=246, box_corners=[224, 206, 274, 287], height=51, width=82, area=4182, box_color=[255, 255, 255], image_index=0)\n",
      "BoundingBox(center_y=260, center_x=237, box_corners=[235, 197, 285, 277], height=51, width=81, area=4131, box_color=[255, 255, 255], image_index=0)\n",
      "BoundingBox(center_y=263, center_x=156, box_corners=[241, 127, 285, 185], height=45, width=59, area=2655, box_color=[255, 255, 255], image_index=0)\n",
      "BoundingBox(center_y=294, center_x=319, box_corners=[246, 288, 343, 351], height=98, width=64, area=6272, box_color=[255, 255, 255], image_index=0)\n",
      "BoundingBox(center_y=273, center_x=235, box_corners=[257, 218, 290, 252], height=34, width=35, area=1190, box_color=[255, 255, 255], image_index=0)\n",
      "BoundingBox(center_y=343, center_x=134, box_corners=[300, 107, 387, 162], height=88, width=56, area=4928, box_color=[255, 255, 255], image_index=0)\n",
      "BoundingBox(center_y=371, center_x=217, box_corners=[355, 196, 388, 238], height=34, width=43, area=1462, box_color=[255, 255, 255], image_index=0)\n",
      "BoundingBox(center_y=454, center_x=221, box_corners=[430, 201, 479, 241], height=50, width=41, area=2050, box_color=[255, 255, 255], image_index=0)\n",
      "BoundingBox(center_y=474, center_x=272, box_corners=[439, 225, 509, 319], height=71, width=95, area=6745, box_color=[255, 255, 255], image_index=0)\n",
      "BoundingBox(center_y=539, center_x=282, box_corners=[504, 236, 575, 329], height=72, width=94, area=6768, box_color=[255, 255, 255], image_index=0)\n",
      "BoundingBox(center_y=530, center_x=215, box_corners=[511, 202, 550, 229], height=40, width=28, area=1120, box_color=[255, 255, 255], image_index=0)\n",
      "BoundingBox(center_y=548, center_x=246, box_corners=[522, 220, 575, 272], height=54, width=53, area=2862, box_color=[255, 255, 255], image_index=0)\n",
      "BoundingBox(center_y=550, center_x=35, box_corners=[525, 0, 575, 70], height=51, width=71, area=3621, box_color=[255, 255, 255], image_index=0)\n",
      "BoundingBox(center_y=553, center_x=333, box_corners=[531, 317, 575, 349], height=45, width=33, area=1485, box_color=[255, 255, 255], image_index=0)\n",
      "BoundingBox(center_y=559, center_x=128, box_corners=[543, 110, 575, 147], height=33, width=38, area=1254, box_color=[255, 255, 255], image_index=0)\n",
      "BoundingBox(center_y=28, center_x=370, box_corners=[18, 357, 38, 383], height=21, width=27, area=567, box_color=[255, 255, 255], image_index=1)\n",
      "BoundingBox(center_y=43, center_x=320, box_corners=[26, 305, 60, 335], height=35, width=31, area=1085, box_color=[255, 255, 255], image_index=1)\n",
      "BoundingBox(center_y=58, center_x=214, box_corners=[41, 194, 75, 235], height=35, width=42, area=1470, box_color=[255, 255, 255], image_index=1)\n",
      "BoundingBox(center_y=78, center_x=367, box_corners=[59, 345, 98, 390], height=40, width=46, area=1840, box_color=[255, 255, 255], image_index=1)\n",
      "BoundingBox(center_y=80, center_x=359, box_corners=[64, 343, 97, 376], height=34, width=34, area=1156, box_color=[255, 255, 255], image_index=1)\n",
      "BoundingBox(center_y=99, center_x=509, box_corners=[83, 499, 115, 520], height=33, width=22, area=726, box_color=[255, 255, 255], image_index=1)\n",
      "BoundingBox(center_y=130, center_x=356, box_corners=[114, 344, 146, 369], height=33, width=26, area=858, box_color=[255, 255, 255], image_index=1)\n",
      "BoundingBox(center_y=136, center_x=288, box_corners=[116, 273, 157, 303], height=42, width=31, area=1302, box_color=[255, 255, 255], image_index=1)\n",
      "BoundingBox(center_y=147, center_x=268, box_corners=[117, 239, 178, 298], height=62, width=60, area=3720, box_color=[255, 255, 255], image_index=1)\n",
      "BoundingBox(center_y=177, center_x=260, box_corners=[163, 243, 192, 277], height=30, width=35, area=1050, box_color=[255, 255, 255], image_index=1)\n",
      "BoundingBox(center_y=187, center_x=24, box_corners=[169, 1, 205, 47], height=37, width=47, area=1739, box_color=[255, 255, 255], image_index=1)\n",
      "BoundingBox(center_y=194, center_x=420, box_corners=[173, 406, 215, 435], height=43, width=30, area=1290, box_color=[255, 255, 255], image_index=1)\n",
      "BoundingBox(center_y=192, center_x=134, box_corners=[175, 122, 210, 147], height=36, width=26, area=936, box_color=[255, 255, 255], image_index=1)\n",
      "BoundingBox(center_y=197, center_x=393, box_corners=[183, 380, 212, 407], height=30, width=28, area=840, box_color=[255, 255, 255], image_index=1)\n",
      "BoundingBox(center_y=222, center_x=182, box_corners=[200, 169, 244, 196], height=45, width=28, area=1260, box_color=[255, 255, 255], image_index=1)\n",
      "BoundingBox(center_y=220, center_x=405, box_corners=[207, 393, 233, 418], height=27, width=26, area=702, box_color=[255, 255, 255], image_index=1)\n",
      "BoundingBox(center_y=232, center_x=376, box_corners=[221, 362, 244, 390], height=24, width=29, area=696, box_color=[255, 255, 255], image_index=1)\n",
      "BoundingBox(center_y=260, center_x=435, box_corners=[248, 422, 273, 448], height=26, width=27, area=702, box_color=[255, 255, 255], image_index=1)\n",
      "BoundingBox(center_y=281, center_x=284, box_corners=[268, 274, 295, 294], height=28, width=21, area=588, box_color=[255, 255, 255], image_index=1)\n",
      "BoundingBox(center_y=296, center_x=540, box_corners=[283, 529, 309, 551], height=27, width=23, area=621, box_color=[255, 255, 255], image_index=1)\n",
      "BoundingBox(center_y=318, center_x=315, box_corners=[297, 298, 339, 332], height=43, width=35, area=1505, box_color=[255, 255, 255], image_index=1)\n",
      "BoundingBox(center_y=317, center_x=409, box_corners=[299, 395, 336, 424], height=38, width=30, area=1140, box_color=[255, 255, 255], image_index=1)\n",
      "BoundingBox(center_y=314, center_x=124, box_corners=[302, 113, 327, 136], height=26, width=24, area=624, box_color=[255, 255, 255], image_index=1)\n",
      "BoundingBox(center_y=339, center_x=490, box_corners=[313, 473, 366, 507], height=54, width=35, area=1890, box_color=[255, 255, 255], image_index=1)\n",
      "BoundingBox(center_y=332, center_x=171, box_corners=[318, 158, 347, 185], height=30, width=28, area=840, box_color=[255, 255, 255], image_index=1)\n",
      "BoundingBox(center_y=346, center_x=411, box_corners=[333, 396, 360, 427], height=28, width=32, area=896, box_color=[255, 255, 255], image_index=1)\n",
      "BoundingBox(center_y=355, center_x=34, box_corners=[342, 19, 368, 49], height=27, width=31, area=837, box_color=[255, 255, 255], image_index=1)\n",
      "BoundingBox(center_y=48, center_x=196, box_corners=[1, 169, 96, 223], height=96, width=55, area=5280, box_color=[255, 255, 255], image_index=2)\n",
      "BoundingBox(center_y=67, center_x=111, box_corners=[37, 78, 97, 144], height=61, width=67, area=4087, box_color=[255, 255, 255], image_index=2)\n",
      "BoundingBox(center_y=65, center_x=152, box_corners=[44, 133, 87, 171], height=44, width=39, area=1716, box_color=[255, 255, 255], image_index=2)\n",
      "BoundingBox(center_y=94, center_x=83, box_corners=[46, 32, 143, 134], height=98, width=103, area=10094, box_color=[255, 255, 255], image_index=2)\n",
      "BoundingBox(center_y=87, center_x=269, box_corners=[52, 225, 123, 314], height=72, width=90, area=6480, box_color=[255, 255, 255], image_index=2)\n",
      "BoundingBox(center_y=118, center_x=231, box_corners=[53, 170, 183, 292], height=131, width=123, area=16113, box_color=[255, 255, 255], image_index=2)\n",
      "BoundingBox(center_y=87, center_x=69, box_corners=[67, 38, 107, 101], height=41, width=64, area=2624, box_color=[255, 255, 255], image_index=2)\n",
      "BoundingBox(center_y=112, center_x=394, box_corners=[78, 358, 147, 431], height=70, width=74, area=5180, box_color=[255, 255, 255], image_index=2)\n",
      "BoundingBox(center_y=103, center_x=207, box_corners=[84, 192, 123, 222], height=40, width=31, area=1240, box_color=[255, 255, 255], image_index=2)\n",
      "BoundingBox(center_y=112, center_x=76, box_corners=[91, 58, 134, 94], height=44, width=37, area=1628, box_color=[255, 255, 255], image_index=2)\n",
      "BoundingBox(center_y=128, center_x=146, box_corners=[97, 119, 160, 173], height=64, width=55, area=3520, box_color=[255, 255, 255], image_index=2)\n",
      "BoundingBox(center_y=123, center_x=401, box_corners=[104, 373, 143, 429], height=40, width=57, area=2280, box_color=[255, 255, 255], image_index=2)\n",
      "BoundingBox(center_y=142, center_x=413, box_corners=[124, 395, 161, 431], height=38, width=37, area=1406, box_color=[255, 255, 255], image_index=2)\n",
      "BoundingBox(center_y=162, center_x=93, box_corners=[143, 73, 181, 113], height=39, width=41, area=1599, box_color=[255, 255, 255], image_index=2)\n",
      "BoundingBox(center_y=199, center_x=23, box_corners=[178, 2, 220, 44], height=43, width=43, area=1849, box_color=[255, 255, 255], image_index=2)\n",
      "BoundingBox(center_y=204, center_x=19, box_corners=[179, 0, 230, 38], height=52, width=39, area=2028, box_color=[255, 255, 255], image_index=2)\n",
      "BoundingBox(center_y=225, center_x=65, box_corners=[209, 45, 241, 85], height=33, width=41, area=1353, box_color=[255, 255, 255], image_index=2)\n",
      "BoundingBox(center_y=301, center_x=275, box_corners=[268, 235, 334, 316], height=67, width=82, area=5494, box_color=[255, 255, 255], image_index=2)\n",
      "BoundingBox(center_y=333, center_x=394, box_corners=[298, 357, 369, 431], height=72, width=75, area=5400, box_color=[255, 255, 255], image_index=2)\n",
      "BoundingBox(center_y=362, center_x=171, box_corners=[350, 151, 375, 191], height=26, width=41, area=1066, box_color=[255, 255, 255], image_index=2)\n",
      "BoundingBox(center_y=374, center_x=135, box_corners=[353, 121, 396, 149], height=44, width=29, area=1276, box_color=[255, 255, 255], image_index=2)\n",
      "BoundingBox(center_y=477, center_x=168, box_corners=[445, 126, 509, 210], height=65, width=85, area=5525, box_color=[255, 255, 255], image_index=2)\n",
      "BoundingBox(center_y=541, center_x=199, box_corners=[508, 171, 575, 227], height=68, width=57, area=3876, box_color=[255, 255, 255], image_index=2)\n",
      "BoundingBox(center_y=527, center_x=352, box_corners=[480, 273, 575, 431], height=96, width=159, area=15264, box_color=[255, 255, 255], image_index=2)\n",
      "BoundingBox(center_y=103, center_x=152, box_corners=[86, 135, 120, 170], height=35, width=36, area=1260, box_color=[255, 255, 255], image_index=3)\n",
      "BoundingBox(center_y=118, center_x=102, box_corners=[96, 71, 141, 134], height=46, width=64, area=2944, box_color=[255, 255, 255], image_index=3)\n",
      "BoundingBox(center_y=184, center_x=232, box_corners=[165, 214, 204, 250], height=40, width=37, area=1480, box_color=[255, 255, 255], image_index=3)\n",
      "BoundingBox(center_y=296, center_x=257, box_corners=[278, 242, 315, 272], height=38, width=31, area=1178, box_color=[255, 255, 255], image_index=3)\n",
      "BoundingBox(center_y=343, center_x=403, box_corners=[322, 376, 364, 431], height=43, width=56, area=2408, box_color=[255, 255, 255], image_index=3)\n",
      "BoundingBox(center_y=459, center_x=410, box_corners=[432, 389, 487, 431], height=56, width=43, area=2408, box_color=[255, 255, 255], image_index=3)\n",
      "BoundingBox(center_y=547, center_x=158, box_corners=[524, 136, 571, 181], height=48, width=46, area=2208, box_color=[255, 255, 255], image_index=3)\n",
      "BoundingBox(center_y=549, center_x=143, box_corners=[527, 125, 571, 161], height=45, width=37, area=1665, box_color=[255, 255, 255], image_index=3)\n",
      "BoundingBox(center_y=557, center_x=156, box_corners=[539, 142, 575, 171], height=37, width=30, area=1110, box_color=[255, 255, 255], image_index=3)\n",
      "BoundingBox(center_y=68, center_x=194, box_corners=[22, 148, 115, 241], height=94, width=94, area=8836, box_color=[255, 255, 255], image_index=4)\n",
      "BoundingBox(center_y=113, center_x=151, box_corners=[28, 67, 198, 236], height=171, width=170, area=29070, box_color=[255, 255, 255], image_index=4)\n",
      "BoundingBox(center_y=52, center_x=237, box_corners=[33, 222, 71, 253], height=39, width=32, area=1248, box_color=[255, 255, 255], image_index=4)\n",
      "BoundingBox(center_y=78, center_x=165, box_corners=[60, 144, 96, 186], height=37, width=43, area=1591, box_color=[255, 255, 255], image_index=4)\n",
      "BoundingBox(center_y=121, center_x=336, box_corners=[88, 316, 155, 356], height=68, width=41, area=2788, box_color=[255, 255, 255], image_index=4)\n",
      "BoundingBox(center_y=132, center_x=127, box_corners=[103, 103, 161, 151], height=59, width=49, area=2891, box_color=[255, 255, 255], image_index=4)\n",
      "BoundingBox(center_y=123, center_x=329, box_corners=[103, 314, 143, 344], height=41, width=31, area=1271, box_color=[255, 255, 255], image_index=4)\n",
      "BoundingBox(center_y=136, center_x=125, box_corners=[107, 99, 165, 151], height=59, width=53, area=3127, box_color=[255, 255, 255], image_index=4)\n",
      "BoundingBox(center_y=132, center_x=72, box_corners=[108, 51, 156, 93], height=49, width=43, area=2107, box_color=[255, 255, 255], image_index=4)\n",
      "BoundingBox(center_y=169, center_x=119, box_corners=[150, 100, 189, 139], height=40, width=40, area=1600, box_color=[255, 255, 255], image_index=4)\n",
      "BoundingBox(center_y=175, center_x=319, box_corners=[151, 286, 200, 352], height=50, width=67, area=3350, box_color=[255, 255, 255], image_index=4)\n",
      "BoundingBox(center_y=168, center_x=300, box_corners=[152, 283, 185, 318], height=34, width=36, area=1224, box_color=[255, 255, 255], image_index=4)\n",
      "BoundingBox(center_y=171, center_x=117, box_corners=[153, 99, 190, 135], height=38, width=37, area=1406, box_color=[255, 255, 255], image_index=4)\n",
      "BoundingBox(center_y=236, center_x=29, box_corners=[219, 2, 253, 56], height=35, width=55, area=1925, box_color=[255, 255, 255], image_index=4)\n",
      "BoundingBox(center_y=236, center_x=19, box_corners=[222, 0, 251, 39], height=30, width=40, area=1200, box_color=[255, 255, 255], image_index=4)\n",
      "BoundingBox(center_y=257, center_x=368, box_corners=[237, 355, 277, 382], height=41, width=28, area=1148, box_color=[255, 255, 255], image_index=4)\n",
      "BoundingBox(center_y=417, center_x=189, box_corners=[391, 164, 443, 214], height=53, width=51, area=2703, box_color=[255, 255, 255], image_index=4)\n",
      "BoundingBox(center_y=421, center_x=180, box_corners=[392, 163, 450, 197], height=59, width=35, area=2065, box_color=[255, 255, 255], image_index=4)\n",
      "BoundingBox(center_y=64, center_x=353, box_corners=[42, 331, 86, 375], height=45, width=45, area=2025, box_color=[255, 255, 255], image_index=5)\n",
      "BoundingBox(center_y=77, center_x=95, box_corners=[0, 0, 155, 190], height=156, width=191, area=29796, box_color=[255, 255, 255], image_index=5)\n",
      "BoundingBox(center_y=192, center_x=35, box_corners=[173, 9, 212, 61], height=40, width=53, area=2120, box_color=[255, 255, 255], image_index=5)\n",
      "BoundingBox(center_y=257, center_x=226, box_corners=[223, 192, 292, 260], height=70, width=69, area=4830, box_color=[255, 255, 255], image_index=5)\n",
      "BoundingBox(center_y=246, center_x=283, box_corners=[231, 265, 262, 301], height=32, width=37, area=1184, box_color=[255, 255, 255], image_index=5)\n",
      "BoundingBox(center_y=317, center_x=50, box_corners=[265, 1, 369, 99], height=105, width=99, area=10395, box_color=[255, 255, 255], image_index=5)\n",
      "BoundingBox(center_y=296, center_x=321, box_corners=[281, 298, 311, 345], height=31, width=48, area=1488, box_color=[255, 255, 255], image_index=5)\n",
      "BoundingBox(center_y=306, center_x=81, box_corners=[289, 57, 323, 106], height=35, width=50, area=1750, box_color=[255, 255, 255], image_index=5)\n",
      "BoundingBox(center_y=337, center_x=159, box_corners=[318, 130, 357, 188], height=40, width=59, area=2360, box_color=[255, 255, 255], image_index=5)\n",
      "BoundingBox(center_y=544, center_x=392, box_corners=[514, 353, 575, 431], height=62, width=79, area=4898, box_color=[255, 255, 255], image_index=5)\n",
      "BoundingBox(center_y=540, center_x=37, box_corners=[505, 0, 575, 74], height=71, width=75, area=5325, box_color=[255, 255, 255], image_index=5)\n",
      "BoundingBox(center_y=48, center_x=208, box_corners=[22, 191, 74, 225], height=53, width=35, area=1855, box_color=[255, 255, 255], image_index=6)\n",
      "BoundingBox(center_y=57, center_x=321, box_corners=[27, 284, 88, 359], height=62, width=76, area=4712, box_color=[255, 255, 255], image_index=6)\n",
      "BoundingBox(center_y=69, center_x=283, box_corners=[49, 268, 89, 298], height=41, width=31, area=1271, box_color=[255, 255, 255], image_index=6)\n",
      "BoundingBox(center_y=103, center_x=264, box_corners=[85, 246, 121, 283], height=37, width=38, area=1406, box_color=[255, 255, 255], image_index=6)\n",
      "BoundingBox(center_y=126, center_x=174, box_corners=[107, 159, 145, 190], height=39, width=32, area=1248, box_color=[255, 255, 255], image_index=6)\n",
      "BoundingBox(center_y=168, center_x=181, box_corners=[150, 167, 186, 195], height=37, width=29, area=1073, box_color=[255, 255, 255], image_index=6)\n",
      "BoundingBox(center_y=201, center_x=151, box_corners=[181, 134, 222, 169], height=42, width=36, area=1512, box_color=[255, 255, 255], image_index=6)\n",
      "BoundingBox(center_y=229, center_x=189, box_corners=[205, 157, 253, 221], height=49, width=65, area=3185, box_color=[255, 255, 255], image_index=6)\n",
      "BoundingBox(center_y=229, center_x=170, box_corners=[210, 155, 249, 186], height=40, width=32, area=1280, box_color=[255, 255, 255], image_index=6)\n",
      "BoundingBox(center_y=278, center_x=194, box_corners=[230, 146, 327, 243], height=98, width=98, area=9604, box_color=[255, 255, 255], image_index=6)\n",
      "BoundingBox(center_y=349, center_x=104, box_corners=[291, 67, 407, 141], height=117, width=75, area=8775, box_color=[255, 255, 255], image_index=6)\n",
      "BoundingBox(center_y=328, center_x=195, box_corners=[310, 178, 347, 212], height=38, width=35, area=1330, box_color=[255, 255, 255], image_index=6)\n",
      "BoundingBox(center_y=413, center_x=162, box_corners=[380, 137, 446, 187], height=67, width=51, area=3417, box_color=[255, 255, 255], image_index=6)\n",
      "BoundingBox(center_y=532, center_x=230, box_corners=[511, 216, 553, 245], height=43, width=30, area=1290, box_color=[255, 255, 255], image_index=6)\n",
      "BoundingBox(center_y=533, center_x=231, box_corners=[512, 215, 554, 248], height=43, width=34, area=1462, box_color=[255, 255, 255], image_index=6)\n",
      "BoundingBox(center_y=556, center_x=164, box_corners=[537, 150, 575, 178], height=39, width=29, area=1131, box_color=[255, 255, 255], image_index=6)\n",
      "Stored 'shape_bounding_boxes' (list)\n"
     ]
    }
   ],
   "execution_count": 3
  },
  {
   "metadata": {
    "ExecuteTime": {
     "end_time": "2025-05-10T17:51:25.482331Z",
     "start_time": "2025-05-10T17:51:16.674601Z"
    }
   },
   "cell_type": "code",
   "source": [
    "for bbox_img in bbox_images:\n",
    "    basic_ops.show_image(image=bbox_img, title='shape_bboxes')"
   ],
   "id": "49bd7600dab2a761",
   "outputs": [
    {
     "name": "stdout",
     "output_type": "stream",
     "text": [
      "Image displayed\n",
      "Image displayed\n",
      "Image displayed\n",
      "Image displayed\n",
      "Image displayed\n",
      "Image displayed\n",
      "Image displayed\n"
     ]
    }
   ],
   "execution_count": 4
  }
 ],
 "metadata": {
  "kernelspec": {
   "display_name": "Python 3",
   "language": "python",
   "name": "python3"
  },
  "language_info": {
   "codemirror_mode": {
    "name": "ipython",
    "version": 2
   },
   "file_extension": ".py",
   "mimetype": "text/x-python",
   "name": "python",
   "nbconvert_exporter": "python",
   "pygments_lexer": "ipython2",
   "version": "2.7.6"
  }
 },
 "nbformat": 4,
 "nbformat_minor": 5
}
