{
 "cells": [
  {
   "cell_type": "code",
   "id": "initial_id",
   "metadata": {
    "collapsed": true,
    "ExecuteTime": {
     "end_time": "2025-05-09T16:13:04.817873Z",
     "start_time": "2025-05-09T16:13:01.759923Z"
    }
   },
   "source": [
    "from scripts import basic_image_operations as basic_ops\n",
    "from scripts import geometrical_image_operations as geo_ops\n",
    "from scripts import filters\n",
    "import copy\n",
    "\n",
    "original_images = basic_ops.load_images(folder_path='./../../traffic_sign_images/vf')\n",
    "#original_images = [basic_ops.load_image('./../../traffic_sign_images/vf/vf_01.jpg')]\n",
    "\n",
    "'''original_images = basic_ops.load_images(folder_path='./../../traffic_sign_images/vf')\n",
    "original_images += basic_ops.load_images(folder_path='./../../traffic_sign_images/vfa')\n",
    "original_images += basic_ops.load_images(folder_path='./../../traffic_sign_images/vfs')\n",
    "original_images += basic_ops.load_images(folder_path='./../../traffic_sign_images/stop')'''\n",
    "\n",
    "resized_images = [geo_ops.resize_image(image=image, target_height=image.shape[0]//8, target_width=image.shape[1]//8) for image in original_images]\n",
    "\n",
    "%store resized_images\n",
    "%store original_images"
   ],
   "outputs": [
    {
     "name": "stdout",
     "output_type": "stream",
     "text": [
      "Image loaded from ./../../traffic_sign_images/vf\\vf_01.jpg\n",
      "Image loaded from ./../../traffic_sign_images/vf\\vf_02.jpg\n",
      "Image loaded from ./../../traffic_sign_images/vf\\vf_03.jpg\n",
      "Image loaded from ./../../traffic_sign_images/vf\\vf_04.jpg\n",
      "Image loaded from ./../../traffic_sign_images/vf\\vf_05.jpg\n",
      "Stored 'resized_images' (list)\n",
      "Stored 'original_images' (list)\n"
     ]
    }
   ],
   "execution_count": 6
  },
  {
   "metadata": {
    "ExecuteTime": {
     "end_time": "2025-05-09T16:13:25.456200Z",
     "start_time": "2025-05-09T16:13:04.828878Z"
    }
   },
   "cell_type": "code",
   "source": [
    "median_filtered_images = copy.deepcopy(resized_images)\n",
    "for i, image in enumerate(median_filtered_images):\n",
    "    image = filters.median_filter(image=image, dim=5)\n",
    "    median_filtered_images[i] = image\n",
    "\n",
    "color_images = copy.deepcopy(median_filtered_images)\n",
    "%store color_images"
   ],
   "id": "67002000b44523e2",
   "outputs": [
    {
     "name": "stdout",
     "output_type": "stream",
     "text": [
      "Stored 'color_images' (list)\n"
     ]
    }
   ],
   "execution_count": 7
  },
  {
   "metadata": {
    "ExecuteTime": {
     "end_time": "2025-05-09T16:13:38.795310700Z",
     "start_time": "2025-05-09T15:55:41.870330Z"
    }
   },
   "cell_type": "code",
   "source": [
    "for i, image in enumerate(color_images):\n",
    "    basic_ops.save_image(image=image, save_path=f'./../../traffic_sign_images/preprocessed_images/image_{i}.jpg')"
   ],
   "id": "db09a6389dce3ebe",
   "outputs": [
    {
     "name": "stdout",
     "output_type": "stream",
     "text": [
      "Image saved at ./../../traffic_sign_images/preprocessed_images/image_0.jpg\n",
      "Image saved at ./../../traffic_sign_images/preprocessed_images/image_1.jpg\n",
      "Image saved at ./../../traffic_sign_images/preprocessed_images/image_2.jpg\n",
      "Image saved at ./../../traffic_sign_images/preprocessed_images/image_3.jpg\n",
      "Image saved at ./../../traffic_sign_images/preprocessed_images/image_4.jpg\n",
      "Image saved at ./../../traffic_sign_images/preprocessed_images/image_5.jpg\n",
      "Image saved at ./../../traffic_sign_images/preprocessed_images/image_6.jpg\n",
      "Image saved at ./../../traffic_sign_images/preprocessed_images/image_7.jpg\n",
      "Image saved at ./../../traffic_sign_images/preprocessed_images/image_8.jpg\n",
      "Image saved at ./../../traffic_sign_images/preprocessed_images/image_9.jpg\n",
      "Image saved at ./../../traffic_sign_images/preprocessed_images/image_10.jpg\n",
      "Image saved at ./../../traffic_sign_images/preprocessed_images/image_11.jpg\n",
      "Image saved at ./../../traffic_sign_images/preprocessed_images/image_12.jpg\n",
      "Image saved at ./../../traffic_sign_images/preprocessed_images/image_13.jpg\n",
      "Image saved at ./../../traffic_sign_images/preprocessed_images/image_14.jpg\n",
      "Image saved at ./../../traffic_sign_images/preprocessed_images/image_15.jpg\n",
      "Image saved at ./../../traffic_sign_images/preprocessed_images/image_16.jpg\n",
      "Image saved at ./../../traffic_sign_images/preprocessed_images/image_17.jpg\n",
      "Image saved at ./../../traffic_sign_images/preprocessed_images/image_18.jpg\n",
      "Image saved at ./../../traffic_sign_images/preprocessed_images/image_19.jpg\n",
      "Image saved at ./../../traffic_sign_images/preprocessed_images/image_20.jpg\n",
      "Image saved at ./../../traffic_sign_images/preprocessed_images/image_21.jpg\n",
      "Image saved at ./../../traffic_sign_images/preprocessed_images/image_22.jpg\n",
      "Image saved at ./../../traffic_sign_images/preprocessed_images/image_23.jpg\n",
      "Image saved at ./../../traffic_sign_images/preprocessed_images/image_24.jpg\n",
      "Image saved at ./../../traffic_sign_images/preprocessed_images/image_25.jpg\n",
      "Image saved at ./../../traffic_sign_images/preprocessed_images/image_26.jpg\n"
     ]
    }
   ],
   "execution_count": 17
  },
  {
   "metadata": {
    "ExecuteTime": {
     "end_time": "2025-05-09T16:14:23.706923Z",
     "start_time": "2025-05-09T16:13:46.394541Z"
    }
   },
   "cell_type": "code",
   "source": [
    "shape_images = copy.deepcopy(median_filtered_images)\n",
    "for i, image in enumerate(shape_images):\n",
    "    image = filters.gray_scale_filter(image=image)\n",
    "    image = filters.sobel_filter(image=image, mode='both')\n",
    "    image = filters.black_white_filter(image=image, threshold=30)\n",
    "    shape_images[i] = image\n",
    "%store shape_images"
   ],
   "id": "85f332c3069149d6",
   "outputs": [
    {
     "name": "stdout",
     "output_type": "stream",
     "text": [
      "Stored 'shape_images' (list)\n"
     ]
    }
   ],
   "execution_count": 9
  }
 ],
 "metadata": {
  "kernelspec": {
   "display_name": "Python 3",
   "language": "python",
   "name": "python3"
  },
  "language_info": {
   "codemirror_mode": {
    "name": "ipython",
    "version": 2
   },
   "file_extension": ".py",
   "mimetype": "text/x-python",
   "name": "python",
   "nbconvert_exporter": "python",
   "pygments_lexer": "ipython2",
   "version": "2.7.6"
  }
 },
 "nbformat": 4,
 "nbformat_minor": 5
}
