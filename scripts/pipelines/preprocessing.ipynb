{
 "cells": [
  {
   "cell_type": "code",
   "id": "initial_id",
   "metadata": {
    "collapsed": true,
    "ExecuteTime": {
     "end_time": "2025-05-12T12:21:57.452226Z",
     "start_time": "2025-05-12T12:21:52.087787Z"
    }
   },
   "source": [
    "from scripts import basic_image_operations as basic_ops\n",
    "from scripts import filters\n",
    "import cv2\n",
    "\n",
    "original_images = basic_ops.load_images(folder_path='./../../traffic_sign_images/vf')\n",
    "original_images += basic_ops.load_images(folder_path='./../../traffic_sign_images/vfa')\n",
    "original_images = basic_ops.load_images(folder_path='./../../traffic_sign_images/vfs')\n",
    "original_images += basic_ops.load_images(folder_path='./../../traffic_sign_images/stop')\n",
    "\n",
    "resized_images = [cv2.resize(image, (image.shape[1]//8, image.shape[0] //8)) for image in original_images]\n",
    "\n",
    "%store resized_images"
   ],
   "outputs": [
    {
     "name": "stdout",
     "output_type": "stream",
     "text": [
      "Image loaded from ./../../traffic_sign_images/vf/vf_01.jpg\n",
      "Image loaded from ./../../traffic_sign_images/vf/vf_02.jpg\n",
      "Image loaded from ./../../traffic_sign_images/vf/vf_03.jpg\n",
      "Image loaded from ./../../traffic_sign_images/vf/vf_04.jpg\n",
      "Image loaded from ./../../traffic_sign_images/vf/vf_05.jpg\n",
      "Image loaded from ./../../traffic_sign_images/vfa/vfa_01.jpg\n",
      "Image loaded from ./../../traffic_sign_images/vfa/vfa_02.jpg\n",
      "Image loaded from ./../../traffic_sign_images/vfa/vfa_03.jpg\n",
      "Image loaded from ./../../traffic_sign_images/vfa/vfa_04.jpg\n",
      "Image loaded from ./../../traffic_sign_images/vfa/vfa_05.jpg\n",
      "Image loaded from ./../../traffic_sign_images/vfa/vfa_06.jpg\n",
      "Image loaded from ./../../traffic_sign_images/vfa/vfa_07.jpg\n",
      "Image loaded from ./../../traffic_sign_images/vfs/vfs_01.jpg\n",
      "Image loaded from ./../../traffic_sign_images/vfs/vfs_02.jpg\n",
      "Image loaded from ./../../traffic_sign_images/vfs/vfs_03.jpg\n",
      "Image loaded from ./../../traffic_sign_images/vfs/vfs_04.jpg\n",
      "Image loaded from ./../../traffic_sign_images/vfs/vfs_05.jpg\n",
      "Image loaded from ./../../traffic_sign_images/vfs/vfs_06.jpg\n",
      "Image loaded from ./../../traffic_sign_images/vfs/vfs_07.jpg\n",
      "Image loaded from ./../../traffic_sign_images/stop/stop_01.jpg\n",
      "Image loaded from ./../../traffic_sign_images/stop/stop_02.jpg\n",
      "Image loaded from ./../../traffic_sign_images/stop/stop_03.jpg\n",
      "Image loaded from ./../../traffic_sign_images/stop/stop_04.jpg\n",
      "Image loaded from ./../../traffic_sign_images/stop/stop_05.jpg\n",
      "Image loaded from ./../../traffic_sign_images/stop/stop_06.jpg\n",
      "Image loaded from ./../../traffic_sign_images/stop/stop_07.jpg\n",
      "Image loaded from ./../../traffic_sign_images/stop/stop_08.jpg\n",
      "Stored 'resized_images' (list)\n"
     ]
    }
   ],
   "execution_count": 13
  },
  {
   "metadata": {
    "ExecuteTime": {
     "end_time": "2025-05-12T12:21:57.670374Z",
     "start_time": "2025-05-12T12:21:57.474842Z"
    }
   },
   "cell_type": "code",
   "source": [
    "import copy\n",
    "\n",
    "median_filtered_images = copy.deepcopy(resized_images)\n",
    "for i, image in enumerate(median_filtered_images):\n",
    "    image = cv2.medianBlur(image, 5)\n",
    "    median_filtered_images[i] = image\n",
    "\n",
    "color_images = copy.deepcopy(median_filtered_images)\n",
    "%store color_images"
   ],
   "id": "4a325665ea965d25",
   "outputs": [
    {
     "name": "stdout",
     "output_type": "stream",
     "text": [
      "Stored 'color_images' (list)\n"
     ]
    }
   ],
   "execution_count": 14
  },
  {
   "metadata": {
    "ExecuteTime": {
     "end_time": "2025-05-12T12:21:59.211767Z",
     "start_time": "2025-05-12T12:21:57.690517Z"
    }
   },
   "cell_type": "code",
   "source": [
    "shape_images = copy.deepcopy(median_filtered_images)\n",
    "for i, image in enumerate(shape_images):\n",
    "    image = cv2.cvtColor(image, cv2.COLOR_BGR2GRAY)\n",
    "    image = cv2.blur(image, (5, 5))\n",
    "    image = filters.sobel_filter_fft(image=image, mode='both')\n",
    "    _, image = cv2.threshold(image, 30, 255, cv2.THRESH_BINARY)\n",
    "    shape_images[i] = image\n",
    "%store shape_images"
   ],
   "id": "9ab9b9badafd7f78",
   "outputs": [
    {
     "name": "stdout",
     "output_type": "stream",
     "text": [
      "Stored 'shape_images' (list)\n"
     ]
    }
   ],
   "execution_count": 15
  },
  {
   "metadata": {
    "ExecuteTime": {
     "end_time": "2025-05-12T12:21:59.359418Z",
     "start_time": "2025-05-12T12:21:59.238899Z"
    }
   },
   "cell_type": "code",
   "source": [
    "stop_templates = basic_ops.load_images(folder_path='./../../traffic_sign_templates/stop_signs/resized')\n",
    "vf_templates = basic_ops.load_images(folder_path='./../../traffic_sign_templates/vf_signs/resized')\n",
    "vfa_templates = basic_ops.load_images(folder_path='./../../traffic_sign_templates/vfa_signs/resized')\n",
    "vfs_templates = basic_ops.load_images(folder_path='./../../traffic_sign_templates/vfs_signs/resized')\n",
    "templates = []\n",
    "\n",
    "for i, template in enumerate(stop_templates + vf_templates + vfa_templates + vfs_templates):\n",
    "    template = cv2.cvtColor(template, cv2.COLOR_BGR2GRAY)\n",
    "    template = cv2.blur(template, (5, 5))\n",
    "    template = filters.sobel_filter_fft(image=template, mode='both')\n",
    "    _, template = cv2.threshold(template, 50, 255, cv2.THRESH_BINARY)\n",
    "    templates.append(template)\n",
    "\n",
    "stop_templates = templates[:6]\n",
    "vf_templates = templates[6:12]\n",
    "vfa_templates = templates[12:18]\n",
    "vfs_templates = templates[18:24]\n",
    "\n",
    "%store stop_templates\n",
    "%store vf_templates\n",
    "%store vfa_templates\n",
    "%store vfs_templates"
   ],
   "id": "933b9ca546bef4f1",
   "outputs": [
    {
     "name": "stdout",
     "output_type": "stream",
     "text": [
      "Image loaded from ./../../traffic_sign_templates/stop_signs/resized/stop_120x120.jpg\n",
      "Image loaded from ./../../traffic_sign_templates/stop_signs/resized/stop_150x150.jpg\n",
      "Image loaded from ./../../traffic_sign_templates/stop_signs/resized/stop_180x180.jpg\n",
      "Image loaded from ./../../traffic_sign_templates/stop_signs/resized/stop_240x240.jpg\n",
      "Image loaded from ./../../traffic_sign_templates/stop_signs/resized/stop_300x300.jpg\n",
      "Image loaded from ./../../traffic_sign_templates/stop_signs/resized/stop_90x90.jpg\n",
      "Image loaded from ./../../traffic_sign_templates/vf_signs/resized/vf_120x120.jpg\n",
      "Image loaded from ./../../traffic_sign_templates/vf_signs/resized/vf_150x150.jpg\n",
      "Image loaded from ./../../traffic_sign_templates/vf_signs/resized/vf_180x180.jpg\n",
      "Image loaded from ./../../traffic_sign_templates/vf_signs/resized/vf_240x240.jpg\n",
      "Image loaded from ./../../traffic_sign_templates/vf_signs/resized/vf_300x300.jpg\n",
      "Image loaded from ./../../traffic_sign_templates/vf_signs/resized/vf_90x90.jpg\n",
      "Image loaded from ./../../traffic_sign_templates/vfa_signs/resized/vfa_120x120.jpg\n",
      "Image loaded from ./../../traffic_sign_templates/vfa_signs/resized/vfa_150x150.jpg\n",
      "Image loaded from ./../../traffic_sign_templates/vfa_signs/resized/vfa_180x180.jpg\n",
      "Image loaded from ./../../traffic_sign_templates/vfa_signs/resized/vfa_240x240.jpg\n",
      "Image loaded from ./../../traffic_sign_templates/vfa_signs/resized/vfa_300x300.jpg\n",
      "Image loaded from ./../../traffic_sign_templates/vfa_signs/resized/vfa_90x90.jpg\n",
      "Image loaded from ./../../traffic_sign_templates/vfs_signs/resized/vfs_120x120.jpg\n",
      "Image loaded from ./../../traffic_sign_templates/vfs_signs/resized/vfs_150x150.jpg\n",
      "Image loaded from ./../../traffic_sign_templates/vfs_signs/resized/vfs_180x180.jpg\n",
      "Image loaded from ./../../traffic_sign_templates/vfs_signs/resized/vfs_240x240.jpg\n",
      "Image loaded from ./../../traffic_sign_templates/vfs_signs/resized/vfs_300x300.jpg\n",
      "Image loaded from ./../../traffic_sign_templates/vfs_signs/resized/vfs_90x90.jpg\n",
      "Stored 'stop_templates' (list)\n",
      "Stored 'vf_templates' (list)\n",
      "Stored 'vfa_templates' (list)\n",
      "Stored 'vfs_templates' (list)\n"
     ]
    }
   ],
   "execution_count": 16
  }
 ],
 "metadata": {
  "kernelspec": {
   "display_name": "Python 3",
   "language": "python",
   "name": "python3"
  },
  "language_info": {
   "codemirror_mode": {
    "name": "ipython",
    "version": 2
   },
   "file_extension": ".py",
   "mimetype": "text/x-python",
   "name": "python",
   "nbconvert_exporter": "python",
   "pygments_lexer": "ipython2",
   "version": "2.7.6"
  }
 },
 "nbformat": 4,
 "nbformat_minor": 5
}
