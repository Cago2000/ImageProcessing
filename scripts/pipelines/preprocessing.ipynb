{
 "cells": [
  {
   "cell_type": "code",
   "id": "initial_id",
   "metadata": {
    "collapsed": true,
    "ExecuteTime": {
     "end_time": "2025-05-09T13:31:42.759487Z",
     "start_time": "2025-05-09T13:31:34.501114Z"
    }
   },
   "source": [
    "from scripts import basic_image_operations as basic_ops\n",
    "from scripts import geometrical_image_operations as geo_ops\n",
    "from scripts import filters\n",
    "import copy\n",
    "\n",
    "original_images = basic_ops.load_images(folder_path='./../../traffic_sign_images/vfs')\n",
    "#original_images = [basic_ops.load_image('traffic_sign_images/vfs/vfs_01.jpg')]\n",
    "\n",
    "resized_images = [geo_ops.resize_image(image=image, target_height=image.shape[0]//8, target_width=image.shape[1]//8) for image in original_images]\n",
    "\n",
    "%store resized_images\n",
    "%store original_images"
   ],
   "outputs": [
    {
     "name": "stdout",
     "output_type": "stream",
     "text": [
      "/home/cago/PycharmProjects/ImageProcessing/scripts/pipelines\n",
      "['vfs_06.jpg', 'vfs_03.jpg', 'vfs_01.jpg', 'vfs_07.jpg', 'vfs_02.jpg', 'vfs_05.jpg', 'vfs_04.jpg']\n",
      "Image loaded from ./../../traffic_sign_images/vfs/vfs_06.jpg\n",
      "Image loaded from ./../../traffic_sign_images/vfs/vfs_03.jpg\n",
      "Image loaded from ./../../traffic_sign_images/vfs/vfs_01.jpg\n",
      "Image loaded from ./../../traffic_sign_images/vfs/vfs_07.jpg\n",
      "Image loaded from ./../../traffic_sign_images/vfs/vfs_02.jpg\n",
      "Image loaded from ./../../traffic_sign_images/vfs/vfs_05.jpg\n",
      "Image loaded from ./../../traffic_sign_images/vfs/vfs_04.jpg\n",
      "Stored 'resized_images' (list)\n",
      "Stored 'original_images' (list)\n"
     ]
    }
   ],
   "execution_count": 10
  },
  {
   "metadata": {},
   "cell_type": "code",
   "source": [
    "median_filtered_images = copy.deepcopy(resized_images)\n",
    "for i, image in enumerate(median_filtered_images):\n",
    "    image = filters.median_filter(image=image, dim=5)\n",
    "    median_filtered_images[i] = image\n",
    "\n",
    "color_images = copy.deepcopy(median_filtered_images)"
   ],
   "id": "3a034666e72aeb1e",
   "execution_count": null,
   "outputs": []
  },
  {
   "metadata": {
    "ExecuteTime": {
     "end_time": "2025-05-09T13:52:48.615081Z",
     "start_time": "2025-05-09T13:52:18.783167Z"
    }
   },
   "cell_type": "code",
   "source": [
    "shape_images = copy.deepcopy(median_filtered_images)\n",
    "for i, image in enumerate(shape_images):\n",
    "    image = filters.gray_scale_filter(image=image)\n",
    "    image = filters.sobel_filter(image=image, mode='both')\n",
    "    image = filters.black_white_filter(image=image, threshold=30)\n",
    "    shape_images[i] = image\n",
    "\n",
    "\n",
    "%store color_images\n",
    "%store shape_images"
   ],
   "id": "9ee39c826ffd8611",
   "outputs": [
    {
     "name": "stdout",
     "output_type": "stream",
     "text": [
      "Stored 'color_images' (list)\n",
      "Stored 'shape_images' (list)\n"
     ]
    }
   ],
   "execution_count": 20
  }
 ],
 "metadata": {
  "kernelspec": {
   "display_name": "Python 3",
   "language": "python",
   "name": "python3"
  },
  "language_info": {
   "codemirror_mode": {
    "name": "ipython",
    "version": 2
   },
   "file_extension": ".py",
   "mimetype": "text/x-python",
   "name": "python",
   "nbconvert_exporter": "python",
   "pygments_lexer": "ipython2",
   "version": "2.7.6"
  }
 },
 "nbformat": 4,
 "nbformat_minor": 5
}
