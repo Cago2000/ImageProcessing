{
 "cells": [
  {
   "cell_type": "code",
   "id": "initial_id",
   "metadata": {
    "collapsed": true,
    "ExecuteTime": {
     "end_time": "2025-05-09T18:50:50.374808Z",
     "start_time": "2025-05-09T18:50:40.184122Z"
    }
   },
   "source": [
    "from scripts import basic_image_operations as basic_ops\n",
    "from scripts import geometrical_image_operations as geo_ops\n",
    "from scripts import filters\n",
    "import copy\n",
    "import cv2\n",
    "\n",
    "#original_images = basic_ops.load_images(folder_path='./../../traffic_sign_images/vf')\n",
    "#original_images = [basic_ops.load_image('./../../traffic_sign_images/vf/vf_01.jpg')]\n",
    "\n",
    "original_images = basic_ops.load_images(folder_path='./../../traffic_sign_images/vf')\n",
    "original_images += basic_ops.load_images(folder_path='./../../traffic_sign_images/vfa')\n",
    "original_images += basic_ops.load_images(folder_path='./../../traffic_sign_images/vfs')\n",
    "original_images += basic_ops.load_images(folder_path='./../../traffic_sign_images/stop')\n",
    "\n",
    "resized_images = [cv2.resize(image, (image.shape[1]//8, image.shape[0] //8)) for image in original_images]\n",
    "\n",
    "%store resized_images\n",
    "%store original_images"
   ],
   "outputs": [
    {
     "name": "stdout",
     "output_type": "stream",
     "text": [
      "Image loaded from ./../../traffic_sign_images/vf\\vf_01.jpg\n",
      "Image loaded from ./../../traffic_sign_images/vf\\vf_02.jpg\n",
      "Image loaded from ./../../traffic_sign_images/vf\\vf_03.jpg\n",
      "Image loaded from ./../../traffic_sign_images/vf\\vf_04.jpg\n",
      "Image loaded from ./../../traffic_sign_images/vf\\vf_05.jpg\n",
      "Image loaded from ./../../traffic_sign_images/vfa\\vfa_01.jpg\n",
      "Image loaded from ./../../traffic_sign_images/vfa\\vfa_02.jpg\n",
      "Image loaded from ./../../traffic_sign_images/vfa\\vfa_03.jpg\n",
      "Image loaded from ./../../traffic_sign_images/vfa\\vfa_04.jpg\n",
      "Image loaded from ./../../traffic_sign_images/vfa\\vfa_05.jpg\n",
      "Image loaded from ./../../traffic_sign_images/vfa\\vfa_06.jpg\n",
      "Image loaded from ./../../traffic_sign_images/vfa\\vfa_07.jpg\n",
      "Image loaded from ./../../traffic_sign_images/vfs\\vfs_01.jpg\n",
      "Image loaded from ./../../traffic_sign_images/vfs\\vfs_02.jpg\n",
      "Image loaded from ./../../traffic_sign_images/vfs\\vfs_03.jpg\n",
      "Image loaded from ./../../traffic_sign_images/vfs\\vfs_04.jpg\n",
      "Image loaded from ./../../traffic_sign_images/vfs\\vfs_05.jpg\n",
      "Image loaded from ./../../traffic_sign_images/vfs\\vfs_06.jpg\n",
      "Image loaded from ./../../traffic_sign_images/vfs\\vfs_07.jpg\n",
      "Image loaded from ./../../traffic_sign_images/stop\\stop_01.jpg\n",
      "Image loaded from ./../../traffic_sign_images/stop\\stop_02.jpg\n",
      "Image loaded from ./../../traffic_sign_images/stop\\stop_03.jpg\n",
      "Image loaded from ./../../traffic_sign_images/stop\\stop_04.jpg\n",
      "Image loaded from ./../../traffic_sign_images/stop\\stop_05.jpg\n",
      "Image loaded from ./../../traffic_sign_images/stop\\stop_06.jpg\n",
      "Image loaded from ./../../traffic_sign_images/stop\\stop_07.jpg\n",
      "Image loaded from ./../../traffic_sign_images/stop\\stop_08.jpg\n",
      "Stored 'resized_images' (list)\n",
      "Stored 'original_images' (list)\n"
     ]
    }
   ],
   "execution_count": 12
  },
  {
   "metadata": {
    "ExecuteTime": {
     "end_time": "2025-05-09T18:50:56.388998Z",
     "start_time": "2025-05-09T18:50:56.211961Z"
    }
   },
   "cell_type": "code",
   "source": [
    "import importlib\n",
    "importlib.reload(filters)\n",
    "\n",
    "median_filtered_images = copy.deepcopy(resized_images)\n",
    "for i, image in enumerate(median_filtered_images):\n",
    "    image = cv2.medianBlur(image, 5)\n",
    "    median_filtered_images[i] = image\n",
    "\n",
    "color_images = copy.deepcopy(median_filtered_images)\n",
    "%store color_images"
   ],
   "id": "4a325665ea965d25",
   "outputs": [
    {
     "name": "stdout",
     "output_type": "stream",
     "text": [
      "Stored 'color_images' (list)\n"
     ]
    }
   ],
   "execution_count": 14
  },
  {
   "metadata": {},
   "cell_type": "code",
   "source": [
    "'''for i, image in enumerate(color_images):\n",
    "    basic_ops.save_image(image=image, save_path=f'./../../traffic_sign_images/preprocessed_images/image_{i}.jpg')'''"
   ],
   "id": "db09a6389dce3ebe",
   "outputs": [],
   "execution_count": null
  },
  {
   "metadata": {
    "ExecuteTime": {
     "end_time": "2025-05-09T18:51:05.131790Z",
     "start_time": "2025-05-09T18:51:04.487312Z"
    }
   },
   "cell_type": "code",
   "source": [
    "shape_images = copy.deepcopy(median_filtered_images)\n",
    "for i, image in enumerate(shape_images):\n",
    "    image = cv2.cvtColor(image, cv2.COLOR_BGR2GRAY)\n",
    "    image = filters.sobel_filter_fft(image=image, mode='both')\n",
    "    _, image = cv2.threshold(image, 30, 255, cv2.THRESH_BINARY)\n",
    "    shape_images[i] = image\n",
    "%store shape_images"
   ],
   "id": "85f332c3069149d6",
   "outputs": [
    {
     "name": "stdout",
     "output_type": "stream",
     "text": [
      "Stored 'shape_images' (list)\n"
     ]
    }
   ],
   "execution_count": 16
  }
 ],
 "metadata": {
  "kernelspec": {
   "display_name": "Python 3",
   "language": "python",
   "name": "python3"
  },
  "language_info": {
   "codemirror_mode": {
    "name": "ipython",
    "version": 2
   },
   "file_extension": ".py",
   "mimetype": "text/x-python",
   "name": "python",
   "nbconvert_exporter": "python",
   "pygments_lexer": "ipython2",
   "version": "2.7.6"
  }
 },
 "nbformat": 4,
 "nbformat_minor": 5
}
