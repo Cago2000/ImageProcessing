{
 "cells": [
  {
   "metadata": {
    "ExecuteTime": {
     "end_time": "2025-05-12T09:19:04.122014Z",
     "start_time": "2025-05-12T09:19:04.090635Z"
    }
   },
   "cell_type": "code",
   "source": [
    "from scripts import basic_image_operations as basic_ops, bounding_box\n",
    "import copy\n",
    "\n",
    "\n",
    "%store -r resized_images\n",
    "\n",
    "%store -r shape_bounding_boxes\n",
    "%store -r color_bounding_boxes\n"
   ],
   "id": "ce9dfa66a6f3c8e1",
   "outputs": [],
   "execution_count": 5
  },
  {
   "metadata": {
    "ExecuteTime": {
     "end_time": "2025-05-12T09:19:04.148862Z",
     "start_time": "2025-05-12T09:19:04.144211Z"
    }
   },
   "cell_type": "code",
   "source": [
    "import importlib\n",
    "importlib.reload(bounding_box)\n",
    "\n",
    "print(len(color_bounding_boxes)+len(shape_bounding_boxes))\n",
    "bounding_boxes = bounding_box.fuse_bounding_box_matches(boxes1=color_bounding_boxes, boxes2=shape_bounding_boxes, max_deviation=10)\n",
    "bounding_boxes = bounding_box.merge_duplicate_boxes(bounding_boxes, max_deviation=10)\n",
    "for bbox in bounding_boxes:\n",
    "    print(bbox)\n",
    "print(len(bounding_boxes))"
   ],
   "id": "af89a27483823c55",
   "outputs": [
    {
     "name": "stdout",
     "output_type": "stream",
     "text": [
      "326\n",
      "BoundingBox(center_y=326, center_x=219, box_corners=[np.int64(298), np.int64(193), np.int64(354), np.int64(245)], height=57, width=53, area=3021, box_color=[0, 0, 255], image_index=0)\n",
      "BoundingBox(center_y=119, center_x=226, box_corners=[np.int64(78), np.int64(188), np.int64(161), np.int64(264)], height=83, width=77, area=6391, box_color=[0, 255, 255], image_index=1)\n",
      "BoundingBox(center_y=92, center_x=82, box_corners=[np.int64(45), np.int64(34), np.int64(140), np.int64(131)], height=95, width=97, area=9215, box_color=[255, 0, 0], image_index=1)\n",
      "BoundingBox(center_y=259, center_x=160, box_corners=[np.int64(230), np.int64(137), np.int64(289), np.int64(184)], height=60, width=48, area=2880, box_color=[0, 255, 255], image_index=2)\n",
      "BoundingBox(center_y=84, center_x=306, box_corners=[np.int64(57), np.int64(285), np.int64(112), np.int64(328)], height=55, width=44, area=2420, box_color=[0, 0, 255], image_index=3)\n",
      "BoundingBox(center_y=411, center_x=20, box_corners=[np.int64(394), np.int64(5), np.int64(428), np.int64(36)], height=34, width=32, area=1088, box_color=[0, 0, 255], image_index=3)\n",
      "BoundingBox(center_y=89, center_x=367, box_corners=[np.int64(17), np.int64(316), np.int64(160), np.int64(419)], height=143, width=103, area=14729, box_color=[0, 0, 255], image_index=4)\n",
      "BoundingBox(center_y=112, center_x=150, box_corners=[np.int64(52), np.int64(92), np.int64(172), np.int64(209)], height=121, width=118, area=14278, box_color=[0, 255, 255], image_index=5)\n",
      "BoundingBox(center_y=182, center_x=231, box_corners=[np.int64(158), np.int64(210), np.int64(207), np.int64(252)], height=49, width=43, area=2107, box_color=[0, 255, 255], image_index=6)\n",
      "BoundingBox(center_y=65, center_x=536, box_corners=[np.int64(35), np.int64(504), np.int64(96), np.int64(568)], height=62, width=65, area=4030, box_color=[0, 0, 255], image_index=7)\n",
      "BoundingBox(center_y=164, center_x=198, box_corners=[np.int64(139), np.int64(168), np.int64(189), np.int64(229)], height=50, width=61, area=3050, box_color=[0, 0, 255], image_index=8)\n",
      "BoundingBox(center_y=273, center_x=302, box_corners=[np.int64(236), np.int64(262), np.int64(311), np.int64(341)], height=76, width=80, area=6080, box_color=[0, 0, 255], image_index=9)\n",
      "BoundingBox(center_y=139, center_x=165, box_corners=[np.int64(93), np.int64(121), np.int64(185), np.int64(209)], height=92, width=88, area=8096, box_color=[0, 0, 255], image_index=12)\n",
      "BoundingBox(center_y=87, center_x=278, box_corners=[np.int64(26), np.int64(223), np.int64(147), np.int64(335)], height=121, width=113, area=13673, box_color=[0, 0, 255], image_index=13)\n",
      "BoundingBox(center_y=300, center_x=57, box_corners=[np.int64(282), np.int64(28), np.int64(320), np.int64(85)], height=39, width=58, area=2262, box_color=[0, 0, 255], image_index=13)\n",
      "BoundingBox(center_y=242, center_x=188, box_corners=[np.int64(197), np.int64(142), np.int64(287), np.int64(234)], height=91, width=93, area=8463, box_color=[0, 0, 255], image_index=14)\n",
      "BoundingBox(center_y=143, center_x=303, box_corners=[np.int64(62), np.int64(231), np.int64(225), np.int64(375)], height=163, width=144, area=23472, box_color=[255, 0, 0], image_index=14)\n",
      "17\n"
     ]
    }
   ],
   "execution_count": 6
  },
  {
   "metadata": {
    "ExecuteTime": {
     "end_time": "2025-05-12T09:19:04.203030Z",
     "start_time": "2025-05-12T09:19:04.198475Z"
    }
   },
   "cell_type": "code",
   "source": [
    "bbox_images = copy.deepcopy(resized_images)\n",
    "for bounding_box_obj in bounding_boxes:\n",
    "    print(bounding_box_obj)\n",
    "    bbox_image = bounding_box.draw_bounding_box(bounding_box=bounding_box_obj, image=bbox_images[bounding_box_obj.image_index])\n",
    "    bbox_images[bounding_box_obj.image_index] = bbox_image"
   ],
   "id": "90bf16c3f549408e",
   "outputs": [
    {
     "name": "stdout",
     "output_type": "stream",
     "text": [
      "BoundingBox(center_y=326, center_x=219, box_corners=[np.int64(298), np.int64(193), np.int64(354), np.int64(245)], height=57, width=53, area=3021, box_color=[0, 0, 255], image_index=0)\n",
      "BoundingBox(center_y=119, center_x=226, box_corners=[np.int64(78), np.int64(188), np.int64(161), np.int64(264)], height=83, width=77, area=6391, box_color=[0, 255, 255], image_index=1)\n",
      "BoundingBox(center_y=92, center_x=82, box_corners=[np.int64(45), np.int64(34), np.int64(140), np.int64(131)], height=95, width=97, area=9215, box_color=[255, 0, 0], image_index=1)\n",
      "BoundingBox(center_y=259, center_x=160, box_corners=[np.int64(230), np.int64(137), np.int64(289), np.int64(184)], height=60, width=48, area=2880, box_color=[0, 255, 255], image_index=2)\n",
      "BoundingBox(center_y=84, center_x=306, box_corners=[np.int64(57), np.int64(285), np.int64(112), np.int64(328)], height=55, width=44, area=2420, box_color=[0, 0, 255], image_index=3)\n",
      "BoundingBox(center_y=411, center_x=20, box_corners=[np.int64(394), np.int64(5), np.int64(428), np.int64(36)], height=34, width=32, area=1088, box_color=[0, 0, 255], image_index=3)\n",
      "BoundingBox(center_y=89, center_x=367, box_corners=[np.int64(17), np.int64(316), np.int64(160), np.int64(419)], height=143, width=103, area=14729, box_color=[0, 0, 255], image_index=4)\n",
      "BoundingBox(center_y=112, center_x=150, box_corners=[np.int64(52), np.int64(92), np.int64(172), np.int64(209)], height=121, width=118, area=14278, box_color=[0, 255, 255], image_index=5)\n",
      "BoundingBox(center_y=182, center_x=231, box_corners=[np.int64(158), np.int64(210), np.int64(207), np.int64(252)], height=49, width=43, area=2107, box_color=[0, 255, 255], image_index=6)\n",
      "BoundingBox(center_y=65, center_x=536, box_corners=[np.int64(35), np.int64(504), np.int64(96), np.int64(568)], height=62, width=65, area=4030, box_color=[0, 0, 255], image_index=7)\n",
      "BoundingBox(center_y=164, center_x=198, box_corners=[np.int64(139), np.int64(168), np.int64(189), np.int64(229)], height=50, width=61, area=3050, box_color=[0, 0, 255], image_index=8)\n",
      "BoundingBox(center_y=273, center_x=302, box_corners=[np.int64(236), np.int64(262), np.int64(311), np.int64(341)], height=76, width=80, area=6080, box_color=[0, 0, 255], image_index=9)\n",
      "BoundingBox(center_y=139, center_x=165, box_corners=[np.int64(93), np.int64(121), np.int64(185), np.int64(209)], height=92, width=88, area=8096, box_color=[0, 0, 255], image_index=12)\n",
      "BoundingBox(center_y=87, center_x=278, box_corners=[np.int64(26), np.int64(223), np.int64(147), np.int64(335)], height=121, width=113, area=13673, box_color=[0, 0, 255], image_index=13)\n",
      "BoundingBox(center_y=300, center_x=57, box_corners=[np.int64(282), np.int64(28), np.int64(320), np.int64(85)], height=39, width=58, area=2262, box_color=[0, 0, 255], image_index=13)\n",
      "BoundingBox(center_y=242, center_x=188, box_corners=[np.int64(197), np.int64(142), np.int64(287), np.int64(234)], height=91, width=93, area=8463, box_color=[0, 0, 255], image_index=14)\n",
      "BoundingBox(center_y=143, center_x=303, box_corners=[np.int64(62), np.int64(231), np.int64(225), np.int64(375)], height=163, width=144, area=23472, box_color=[255, 0, 0], image_index=14)\n"
     ]
    }
   ],
   "execution_count": 7
  },
  {
   "metadata": {
    "ExecuteTime": {
     "end_time": "2025-05-12T09:19:16.453607Z",
     "start_time": "2025-05-12T09:19:04.252148Z"
    }
   },
   "cell_type": "code",
   "source": [
    "for bbox_img in bbox_images:\n",
    "    basic_ops.show_image(image=bbox_img, title='traffic_sign_bboxes')"
   ],
   "id": "2ed33040fd8d7beb",
   "outputs": [
    {
     "name": "stdout",
     "output_type": "stream",
     "text": [
      "Image displayed\n",
      "Image displayed\n",
      "Image displayed\n",
      "Image displayed\n",
      "Image displayed\n",
      "Image displayed\n",
      "Image displayed\n",
      "Image displayed\n",
      "Image displayed\n",
      "Image displayed\n",
      "Image displayed\n",
      "Image displayed\n",
      "Image displayed\n",
      "Image displayed\n",
      "Image displayed\n"
     ]
    }
   ],
   "execution_count": 8
  }
 ],
 "metadata": {
  "kernelspec": {
   "name": "python3",
   "language": "python",
   "display_name": "Python 3 (ipykernel)"
  }
 },
 "nbformat": 4,
 "nbformat_minor": 5
}
