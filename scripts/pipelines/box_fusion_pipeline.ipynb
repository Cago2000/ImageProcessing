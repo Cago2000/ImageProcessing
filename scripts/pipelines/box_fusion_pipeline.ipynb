{
 "cells": [
  {
   "metadata": {
    "ExecuteTime": {
     "end_time": "2025-05-09T13:58:24.626738Z",
     "start_time": "2025-05-09T13:58:24.622753Z"
    }
   },
   "cell_type": "code",
   "source": [
    "from scripts import basic_image_operations as basic_ops, bounding_box\n",
    "import copy\n",
    "\n",
    "%store -r resized_images\n",
    "\n",
    "%store -r shape_bounding_boxes\n",
    "%store -r color_bounding_boxes\n"
   ],
   "id": "ce9dfa66a6f3c8e1",
   "outputs": [],
   "execution_count": 33
  },
  {
   "metadata": {
    "ExecuteTime": {
     "end_time": "2025-05-09T13:58:24.694311Z",
     "start_time": "2025-05-09T13:58:24.684957Z"
    }
   },
   "cell_type": "code",
   "source": [
    "print(f'color bboxes: {len(color_bounding_boxes)}, shape bboxes: {len(shape_bounding_boxes)}')\n",
    "merged_boxes = bounding_box.merge_bounding_boxes(boxes1=shape_bounding_boxes, boxes2=color_bounding_boxes, max_deviation=5) #merge both pipeline bboxes\n",
    "print(f'color and shape boxes merge: {len(merged_boxes)}')\n",
    "'''merged_boxes = bounding_box.merge_bounding_boxes(boxes1=merged_boxes, boxes2=merged_boxes, max_deviation=1) #merge multiple hits\n",
    "print(f'multiple hit boxes merge: {len(merged_boxes)}')'''"
   ],
   "id": "af89a27483823c55",
   "outputs": [
    {
     "name": "stdout",
     "output_type": "stream",
     "text": [
      "color bboxes: 15, shape bboxes: 87\n",
      "color and shape boxes merge: 9\n"
     ]
    },
    {
     "data": {
      "text/plain": [
       "\"merged_boxes = bounding_box.merge_bounding_boxes(boxes1=merged_boxes, boxes2=merged_boxes, max_deviation=1) #merge multiple hits\\nprint(f'multiple hit boxes merge: {len(merged_boxes)}')\""
      ]
     },
     "execution_count": 34,
     "metadata": {},
     "output_type": "execute_result"
    }
   ],
   "execution_count": 34
  },
  {
   "metadata": {
    "ExecuteTime": {
     "end_time": "2025-05-09T13:58:24.783399Z",
     "start_time": "2025-05-09T13:58:24.779429Z"
    }
   },
   "cell_type": "code",
   "source": [
    "for bounding_box_obj in merged_boxes:\n",
    "    print(bounding_box_obj)"
   ],
   "id": "44080209864cc754",
   "outputs": [
    {
     "name": "stdout",
     "output_type": "stream",
     "text": [
      "BoundingBox(center_y=326, center_x=221, box_corners=[np.int64(296), np.int64(194), np.int64(356), np.int64(248)], height=61, width=54, area=3294, box_color=[0, 0, 255], image_index=0)\n",
      "BoundingBox(center_y=119, center_x=226, box_corners=[np.int64(67), np.int64(181), np.int64(171), np.int64(272)], height=104, width=92, area=9568, box_color=[0, 0, 255], image_index=1)\n",
      "BoundingBox(center_y=119, center_x=228, box_corners=[np.int64(79), np.int64(192), np.int64(159), np.int64(266)], height=80, width=75, area=6000, box_color=[0, 0, 255], image_index=1)\n",
      "BoundingBox(center_y=114, center_x=150, box_corners=[np.int64(75), np.int64(114), np.int64(154), np.int64(186)], height=80, width=73, area=5840, box_color=[0, 0, 255], image_index=1)\n",
      "BoundingBox(center_y=257, center_x=163, box_corners=[np.int64(228), np.int64(134), np.int64(286), np.int64(193)], height=58, width=59, area=3422, box_color=[0, 0, 255], image_index=2)\n",
      "BoundingBox(center_y=328, center_x=193, box_corners=[np.int64(310), np.int64(175), np.int64(346), np.int64(211)], height=37, width=37, area=1369, box_color=[0, 0, 255], image_index=3)\n",
      "BoundingBox(center_y=113, center_x=151, box_corners=[np.int64(45), np.int64(85), np.int64(181), np.int64(218)], height=137, width=134, area=18358, box_color=[0, 0, 255], image_index=5)\n",
      "BoundingBox(center_y=184, center_x=229, box_corners=[np.int64(160), np.int64(209), np.int64(209), np.int64(249)], height=49, width=41, area=2009, box_color=[0, 0, 255], image_index=6)\n",
      "BoundingBox(center_y=184, center_x=231, box_corners=[np.int64(165), np.int64(213), np.int64(203), np.int64(249)], height=39, width=37, area=1443, box_color=[0, 0, 255], image_index=6)\n"
     ]
    }
   ],
   "execution_count": 35
  },
  {
   "metadata": {
    "ExecuteTime": {
     "end_time": "2025-05-09T13:58:24.841842Z",
     "start_time": "2025-05-09T13:58:24.836453Z"
    }
   },
   "cell_type": "code",
   "source": [
    "bbox_images = copy.deepcopy(resized_images)\n",
    "for bounding_box_obj in merged_boxes:\n",
    "    print(bounding_box_obj)\n",
    "    bbox_image = bounding_box.draw_bounding_box(bounding_box=bounding_box_obj, image=bbox_images[bounding_box_obj.image_index])\n",
    "    bbox_images[bounding_box_obj.image_index] = bbox_image"
   ],
   "id": "90bf16c3f549408e",
   "outputs": [
    {
     "name": "stdout",
     "output_type": "stream",
     "text": [
      "BoundingBox(center_y=326, center_x=221, box_corners=[np.int64(296), np.int64(194), np.int64(356), np.int64(248)], height=61, width=54, area=3294, box_color=[0, 0, 255], image_index=0)\n",
      "BoundingBox(center_y=119, center_x=226, box_corners=[np.int64(67), np.int64(181), np.int64(171), np.int64(272)], height=104, width=92, area=9568, box_color=[0, 0, 255], image_index=1)\n",
      "BoundingBox(center_y=119, center_x=228, box_corners=[np.int64(79), np.int64(192), np.int64(159), np.int64(266)], height=80, width=75, area=6000, box_color=[0, 0, 255], image_index=1)\n",
      "BoundingBox(center_y=114, center_x=150, box_corners=[np.int64(75), np.int64(114), np.int64(154), np.int64(186)], height=80, width=73, area=5840, box_color=[0, 0, 255], image_index=1)\n",
      "BoundingBox(center_y=257, center_x=163, box_corners=[np.int64(228), np.int64(134), np.int64(286), np.int64(193)], height=58, width=59, area=3422, box_color=[0, 0, 255], image_index=2)\n",
      "BoundingBox(center_y=328, center_x=193, box_corners=[np.int64(310), np.int64(175), np.int64(346), np.int64(211)], height=37, width=37, area=1369, box_color=[0, 0, 255], image_index=3)\n",
      "BoundingBox(center_y=113, center_x=151, box_corners=[np.int64(45), np.int64(85), np.int64(181), np.int64(218)], height=137, width=134, area=18358, box_color=[0, 0, 255], image_index=5)\n",
      "BoundingBox(center_y=184, center_x=229, box_corners=[np.int64(160), np.int64(209), np.int64(209), np.int64(249)], height=49, width=41, area=2009, box_color=[0, 0, 255], image_index=6)\n",
      "BoundingBox(center_y=184, center_x=231, box_corners=[np.int64(165), np.int64(213), np.int64(203), np.int64(249)], height=39, width=37, area=1443, box_color=[0, 0, 255], image_index=6)\n"
     ]
    }
   ],
   "execution_count": 36
  },
  {
   "metadata": {
    "ExecuteTime": {
     "end_time": "2025-05-09T13:58:35.655217Z",
     "start_time": "2025-05-09T13:58:24.896982Z"
    }
   },
   "cell_type": "code",
   "source": [
    "for bbox_img in bbox_images:\n",
    "    basic_ops.show_image(image=bbox_img, title='traffic_sign_bboxes')"
   ],
   "id": "2ed33040fd8d7beb",
   "outputs": [
    {
     "name": "stdout",
     "output_type": "stream",
     "text": [
      "Image displayed\n",
      "Image displayed\n",
      "Image displayed\n",
      "Image displayed\n",
      "Image displayed\n",
      "Image displayed\n",
      "Image displayed\n"
     ]
    }
   ],
   "execution_count": 37
  }
 ],
 "metadata": {},
 "nbformat": 4,
 "nbformat_minor": 5
}
