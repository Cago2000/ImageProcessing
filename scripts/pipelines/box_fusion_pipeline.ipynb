{
 "cells": [
  {
   "metadata": {
    "ExecuteTime": {
     "end_time": "2025-05-10T19:27:33.649614Z",
     "start_time": "2025-05-10T19:27:33.599542Z"
    }
   },
   "cell_type": "code",
   "source": [
    "from scripts import basic_image_operations as basic_ops, bounding_box\n",
    "import copy\n",
    "\n",
    "\n",
    "%store -r resized_images\n",
    "\n",
    "%store -r shape_bounding_boxes\n",
    "%store -r color_bounding_boxes\n"
   ],
   "id": "ce9dfa66a6f3c8e1",
   "outputs": [],
   "execution_count": 10
  },
  {
   "metadata": {
    "ExecuteTime": {
     "end_time": "2025-05-10T19:30:41.071403Z",
     "start_time": "2025-05-10T19:30:41.062685Z"
    }
   },
   "cell_type": "code",
   "source": [
    "import importlib\n",
    "importlib.reload(bounding_box)\n",
    "\n",
    "print(len(color_bounding_boxes)+len(shape_bounding_boxes))\n",
    "bounding_boxes = bounding_box.fuse_bounding_box_matches(boxes1=color_bounding_boxes, boxes2=shape_bounding_boxes, max_deviation=10)\n",
    "bounding_boxes = bounding_box.merge_duplicate_boxes(bounding_boxes, max_deviation=10)\n",
    "for bbox in bounding_boxes:\n",
    "    print(bbox)\n",
    "print(len(bounding_boxes))"
   ],
   "id": "af89a27483823c55",
   "outputs": [
    {
     "name": "stdout",
     "output_type": "stream",
     "text": [
      "159\n",
      "BoundingBox(center_y=256, center_x=163, box_corners=[227, 136, 285, 192], height=58, width=57, area=3306, box_color=[0, 255, 255], image_index=0)\n",
      "BoundingBox(center_y=89, center_x=360, box_corners=[32, 312, 147, 409], height=116, width=98, area=11368, box_color=[0, 0, 255], image_index=1)\n",
      "BoundingBox(center_y=147, center_x=269, box_corners=[123, 246, 171, 292], height=49, width=47, area=2303, box_color=[0, 255, 255], image_index=1)\n",
      "BoundingBox(center_y=121, center_x=223, box_corners=[89, 189, 153, 258], height=65, width=70, area=4550, box_color=[0, 255, 255], image_index=2)\n",
      "BoundingBox(center_y=94, center_x=84, box_corners=[49, 38, 138, 129], height=90, width=92, area=8280, box_color=[255, 0, 0], image_index=2)\n",
      "BoundingBox(center_y=184, center_x=231, box_corners=[166, 214, 202, 249], height=37, width=36, area=1332, box_color=[0, 255, 255], image_index=3)\n",
      "BoundingBox(center_y=112, center_x=150, box_corners=[56, 96, 169, 205], height=114, width=110, area=12540, box_color=[0, 255, 255], image_index=4)\n",
      "BoundingBox(center_y=221, center_x=192, box_corners=[179, 146, 264, 238], height=86, width=93, area=7998, box_color=[0, 255, 255], image_index=6)\n",
      "BoundingBox(center_y=273, center_x=302, box_corners=[235, 263, 311, 341], height=77, width=79, area=6083, box_color=[0, 0, 255], image_index=8)\n",
      "BoundingBox(center_y=174, center_x=217, box_corners=[143, 188, 205, 247], height=63, width=59, area=3717, box_color=[0, 0, 255], image_index=9)\n",
      "BoundingBox(center_y=243, center_x=184, box_corners=[178, 113, 309, 256], height=131, width=143, area=18733, box_color=[0, 0, 255], image_index=10)\n",
      "BoundingBox(center_y=87, center_x=276, box_corners=[15, 206, 159, 346], height=144, width=141, area=20304, box_color=[0, 0, 255], image_index=11)\n",
      "BoundingBox(center_y=139, center_x=165, box_corners=[91, 119, 187, 212], height=97, width=94, area=9118, box_color=[0, 0, 255], image_index=12)\n",
      "BoundingBox(center_y=65, center_x=537, box_corners=[30, 500, 101, 575], height=72, width=75, area=5400, box_color=[0, 0, 255], image_index=13)\n",
      "14\n"
     ]
    }
   ],
   "execution_count": 15
  },
  {
   "metadata": {
    "ExecuteTime": {
     "end_time": "2025-05-10T19:30:46.969065Z",
     "start_time": "2025-05-10T19:30:46.958845Z"
    }
   },
   "cell_type": "code",
   "source": [
    "bbox_images = copy.deepcopy(resized_images)\n",
    "for bounding_box_obj in bounding_boxes:\n",
    "    print(bounding_box_obj)\n",
    "    bbox_image = bounding_box.draw_bounding_box(bounding_box=bounding_box_obj, image=bbox_images[bounding_box_obj.image_index])\n",
    "    bbox_images[bounding_box_obj.image_index] = bbox_image"
   ],
   "id": "90bf16c3f549408e",
   "outputs": [
    {
     "name": "stdout",
     "output_type": "stream",
     "text": [
      "BoundingBox(center_y=256, center_x=163, box_corners=[227, 136, 285, 192], height=58, width=57, area=3306, box_color=[0, 255, 255], image_index=0)\n",
      "BoundingBox(center_y=89, center_x=360, box_corners=[32, 312, 147, 409], height=116, width=98, area=11368, box_color=[0, 0, 255], image_index=1)\n",
      "BoundingBox(center_y=147, center_x=269, box_corners=[123, 246, 171, 292], height=49, width=47, area=2303, box_color=[0, 255, 255], image_index=1)\n",
      "BoundingBox(center_y=121, center_x=223, box_corners=[89, 189, 153, 258], height=65, width=70, area=4550, box_color=[0, 255, 255], image_index=2)\n",
      "BoundingBox(center_y=94, center_x=84, box_corners=[49, 38, 138, 129], height=90, width=92, area=8280, box_color=[255, 0, 0], image_index=2)\n",
      "BoundingBox(center_y=184, center_x=231, box_corners=[166, 214, 202, 249], height=37, width=36, area=1332, box_color=[0, 255, 255], image_index=3)\n",
      "BoundingBox(center_y=112, center_x=150, box_corners=[56, 96, 169, 205], height=114, width=110, area=12540, box_color=[0, 255, 255], image_index=4)\n",
      "BoundingBox(center_y=221, center_x=192, box_corners=[179, 146, 264, 238], height=86, width=93, area=7998, box_color=[0, 255, 255], image_index=6)\n",
      "BoundingBox(center_y=273, center_x=302, box_corners=[235, 263, 311, 341], height=77, width=79, area=6083, box_color=[0, 0, 255], image_index=8)\n",
      "BoundingBox(center_y=174, center_x=217, box_corners=[143, 188, 205, 247], height=63, width=59, area=3717, box_color=[0, 0, 255], image_index=9)\n",
      "BoundingBox(center_y=243, center_x=184, box_corners=[178, 113, 309, 256], height=131, width=143, area=18733, box_color=[0, 0, 255], image_index=10)\n",
      "BoundingBox(center_y=87, center_x=276, box_corners=[15, 206, 159, 346], height=144, width=141, area=20304, box_color=[0, 0, 255], image_index=11)\n",
      "BoundingBox(center_y=139, center_x=165, box_corners=[91, 119, 187, 212], height=97, width=94, area=9118, box_color=[0, 0, 255], image_index=12)\n",
      "BoundingBox(center_y=65, center_x=537, box_corners=[30, 500, 101, 575], height=72, width=75, area=5400, box_color=[0, 0, 255], image_index=13)\n"
     ]
    }
   ],
   "execution_count": 16
  },
  {
   "metadata": {
    "ExecuteTime": {
     "end_time": "2025-05-10T19:31:07.118822Z",
     "start_time": "2025-05-10T19:30:52.728641Z"
    }
   },
   "cell_type": "code",
   "source": [
    "for bbox_img in bbox_images:\n",
    "    basic_ops.show_image(image=bbox_img, title='traffic_sign_bboxes')"
   ],
   "id": "2ed33040fd8d7beb",
   "outputs": [
    {
     "name": "stdout",
     "output_type": "stream",
     "text": [
      "Image displayed\n",
      "Image displayed\n",
      "Image displayed\n",
      "Image displayed\n",
      "Image displayed\n",
      "Image displayed\n",
      "Image displayed\n",
      "Image displayed\n",
      "Image displayed\n",
      "Image displayed\n",
      "Image displayed\n",
      "Image displayed\n",
      "Image displayed\n",
      "Image displayed\n",
      "Image displayed\n"
     ]
    }
   ],
   "execution_count": 17
  }
 ],
 "metadata": {
  "kernelspec": {
   "name": "python3",
   "language": "python",
   "display_name": "Python 3 (ipykernel)"
  }
 },
 "nbformat": 4,
 "nbformat_minor": 5
}
