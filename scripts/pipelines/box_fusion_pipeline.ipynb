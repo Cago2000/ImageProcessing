{
 "cells": [
  {
   "metadata": {
    "ExecuteTime": {
     "end_time": "2025-05-09T16:18:27.115723Z",
     "start_time": "2025-05-09T16:18:27.110183Z"
    }
   },
   "cell_type": "code",
   "source": [
    "from scripts import basic_image_operations as basic_ops, bounding_box\n",
    "import copy\n",
    "\n",
    "%store -r resized_images\n",
    "\n",
    "%store -r shape_bounding_boxes\n",
    "%store -r color_bounding_boxes\n"
   ],
   "id": "ce9dfa66a6f3c8e1",
   "outputs": [],
   "execution_count": 18
  },
  {
   "metadata": {
    "ExecuteTime": {
     "end_time": "2025-05-09T16:18:27.128090Z",
     "start_time": "2025-05-09T16:18:27.122722Z"
    }
   },
   "cell_type": "code",
   "source": [
    "print(f'color bboxes: {len(color_bounding_boxes)}, shape bboxes: {len(shape_bounding_boxes)}')\n",
    "merged_boxes = bounding_box.merge_bounding_boxes(boxes1=shape_bounding_boxes, boxes2=color_bounding_boxes, max_deviation=10) #merge both pipeline bboxes\n",
    "print(f'color and shape boxes merge: {len(merged_boxes)}')\n",
    "'''merged_boxes = bounding_box.merge_bounding_boxes(boxes1=merged_boxes, boxes2=merged_boxes, max_deviation=1) #merge multiple hits\n",
    "print(f'multiple hit boxes merge: {len(merged_boxes)}')'''"
   ],
   "id": "af89a27483823c55",
   "outputs": [
    {
     "name": "stdout",
     "output_type": "stream",
     "text": [
      "color bboxes: 10, shape bboxes: 60\n",
      "color and shape boxes merge: 4\n"
     ]
    },
    {
     "data": {
      "text/plain": [
       "\"merged_boxes = bounding_box.merge_bounding_boxes(boxes1=merged_boxes, boxes2=merged_boxes, max_deviation=1) #merge multiple hits\\nprint(f'multiple hit boxes merge: {len(merged_boxes)}')\""
      ]
     },
     "execution_count": 19,
     "metadata": {},
     "output_type": "execute_result"
    }
   ],
   "execution_count": 19
  },
  {
   "metadata": {
    "ExecuteTime": {
     "end_time": "2025-05-09T16:18:27.145103Z",
     "start_time": "2025-05-09T16:18:27.139040Z"
    }
   },
   "cell_type": "code",
   "source": [
    "bbox_images = copy.deepcopy(resized_images)\n",
    "for bounding_box_obj in merged_boxes:\n",
    "    print(bounding_box_obj)\n",
    "    bbox_image = bounding_box.draw_bounding_box(bounding_box=bounding_box_obj, image=bbox_images[bounding_box_obj.image_index])\n",
    "    bbox_images[bounding_box_obj.image_index] = bbox_image"
   ],
   "id": "90bf16c3f549408e",
   "outputs": [
    {
     "name": "stdout",
     "output_type": "stream",
     "text": [
      "BoundingBox(center_y=238, center_x=265, box_corners=[157, 158, 319, 372], height=162, width=214, area=34668, box_color=[0, 0, 255], image_index=0)\n",
      "BoundingBox(center_y=130, center_x=220, box_corners=[64, 143, 197, 297], height=134, width=155, area=20770, box_color=[0, 0, 255], image_index=2)\n",
      "BoundingBox(center_y=166, center_x=258, box_corners=[108, 193, 223, 325], height=116, width=133, area=15428, box_color=[0, 0, 255], image_index=3)\n",
      "BoundingBox(center_y=148, center_x=122, box_corners=[71, 38, 225, 207], height=155, width=170, area=26350, box_color=[0, 0, 255], image_index=4)\n"
     ]
    }
   ],
   "execution_count": 20
  },
  {
   "metadata": {
    "ExecuteTime": {
     "end_time": "2025-05-09T16:18:38.710198Z",
     "start_time": "2025-05-09T16:18:27.190513Z"
    }
   },
   "cell_type": "code",
   "source": [
    "for bbox_img in bbox_images:\n",
    "    basic_ops.show_image(image=bbox_img, title='traffic_sign_bboxes')"
   ],
   "id": "2ed33040fd8d7beb",
   "outputs": [
    {
     "name": "stdout",
     "output_type": "stream",
     "text": [
      "Image displayed\n",
      "Image displayed\n",
      "Image displayed\n",
      "Image displayed\n",
      "Image displayed\n"
     ]
    }
   ],
   "execution_count": 21
  }
 ],
 "metadata": {
  "kernelspec": {
   "name": "python3",
   "language": "python",
   "display_name": "Python 3 (ipykernel)"
  }
 },
 "nbformat": 4,
 "nbformat_minor": 5
}
