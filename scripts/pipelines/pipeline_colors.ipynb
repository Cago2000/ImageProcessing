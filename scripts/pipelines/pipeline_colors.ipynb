{
 "cells": [
  {
   "metadata": {
    "ExecuteTime": {
     "end_time": "2025-05-09T18:51:20.851032Z",
     "start_time": "2025-05-09T18:51:20.599453Z"
    }
   },
   "cell_type": "code",
   "source": [
    "%store -r resized_images\n",
    "%store -r color_images"
   ],
   "id": "c58ca2c1341e0bc0",
   "outputs": [],
   "execution_count": 1
  },
  {
   "metadata": {
    "ExecuteTime": {
     "end_time": "2025-05-09T18:55:44.299917Z",
     "start_time": "2025-05-09T18:51:22.852501Z"
    }
   },
   "cell_type": "code",
   "source": [
    "from scripts import colors, color_detection, bounding_box, basic_image_operations as basic_ops\n",
    "import importlib\n",
    "importlib.reload(bounding_box)\n",
    "\n",
    "\n",
    "color_functions = [colors.is_strong_red, colors.is_strong_yellow, colors.is_strong_blue]\n",
    "color_bounding_boxes = []\n",
    "for i, image in enumerate(color_images):\n",
    "    for color_function in color_functions:\n",
    "        mask = colors.get_mask(image=image, color_function=color_function)\n",
    "        blobs = color_detection.get_blobs(mask=mask)\n",
    "\n",
    "        box_color = colors.get_color_from_function(color_function)\n",
    "        height, width = image.shape[:2]\n",
    "        min_box_area = int((height*0.055)**2)\n",
    "        max_box_area = height*width//2\n",
    "\n",
    "        bounding_boxes = bounding_box.create_bounding_boxes(blobs=blobs, min_box_area=min_box_area, max_box_area=max_box_area, box_color=box_color, image_index=i)\n",
    "        color_bounding_boxes.extend(bounding_boxes)"
   ],
   "id": "435669921dced0e8",
   "outputs": [],
   "execution_count": 2
  },
  {
   "metadata": {
    "ExecuteTime": {
     "end_time": "2025-05-09T18:55:48.166603Z",
     "start_time": "2025-05-09T18:55:48.148372Z"
    }
   },
   "cell_type": "code",
   "source": [
    "import copy\n",
    "\n",
    "bbox_images = copy.deepcopy(resized_images)\n",
    "for bounding_box_obj in color_bounding_boxes:\n",
    "    print(bounding_box_obj)\n",
    "    bbox_image = bounding_box.draw_bounding_box(bounding_box=bounding_box_obj, image=bbox_images[bounding_box_obj.image_index])\n",
    "    bbox_images[bounding_box_obj.image_index] = bbox_image\n",
    "\n",
    "%store color_bounding_boxes"
   ],
   "id": "b76c9d7d35b1c30a",
   "outputs": [
    {
     "name": "stdout",
     "output_type": "stream",
     "text": [
      "BoundingBox(center_y=236, center_x=265, box_corners=[153, 158, 319, 372], height=167, width=215, area=35905, box_color=[0, 0, 255], image_index=0)\n",
      "BoundingBox(center_y=99, center_x=124, box_corners=[0, 0, 198, 248], height=199, width=249, area=49551, box_color=[255, 0, 0], image_index=0)\n",
      "BoundingBox(center_y=117, center_x=352, box_corners=[0, 274, 234, 431], height=235, width=158, area=37130, box_color=[255, 0, 0], image_index=0)\n",
      "BoundingBox(center_y=469, center_x=23, box_corners=[452, 0, 486, 46], height=35, width=47, area=1645, box_color=[255, 0, 0], image_index=0)\n",
      "BoundingBox(center_y=129, center_x=202, box_corners=[62, 127, 196, 277], height=135, width=151, area=20385, box_color=[0, 0, 255], image_index=1)\n",
      "BoundingBox(center_y=130, center_x=217, box_corners=[63, 143, 198, 291], height=136, width=149, area=20264, box_color=[0, 0, 255], image_index=2)\n",
      "BoundingBox(center_y=166, center_x=259, box_corners=[108, 193, 225, 325], height=118, width=133, area=15694, box_color=[0, 0, 255], image_index=3)\n",
      "BoundingBox(center_y=247, center_x=366, box_corners=[134, 302, 360, 431], height=227, width=130, area=29510, box_color=[0, 0, 255], image_index=3)\n",
      "BoundingBox(center_y=242, center_x=149, box_corners=[222, 123, 263, 176], height=42, width=54, area=2268, box_color=[0, 0, 255], image_index=3)\n",
      "BoundingBox(center_y=286, center_x=163, box_corners=[264, 150, 309, 176], height=46, width=27, area=1242, box_color=[0, 0, 255], image_index=3)\n",
      "BoundingBox(center_y=330, center_x=319, box_corners=[309, 292, 351, 347], height=43, width=56, area=2408, box_color=[0, 0, 255], image_index=3)\n",
      "BoundingBox(center_y=145, center_x=123, box_corners=[56, 23, 235, 224], height=180, width=202, area=36360, box_color=[0, 0, 255], image_index=4)\n",
      "BoundingBox(center_y=265, center_x=232, box_corners=[230, 194, 300, 270], height=71, width=77, area=5467, box_color=[0, 0, 255], image_index=5)\n",
      "BoundingBox(center_y=162, center_x=308, box_corners=[101, 249, 223, 367], height=123, width=119, area=14637, box_color=[255, 0, 0], image_index=5)\n",
      "BoundingBox(center_y=138, center_x=174, box_corners=[67, 104, 209, 245], height=143, width=142, area=20306, box_color=[0, 0, 255], image_index=6)\n",
      "BoundingBox(center_y=233, center_x=222, box_corners=[193, 178, 274, 266], height=82, width=89, area=7298, box_color=[0, 0, 255], image_index=7)\n",
      "BoundingBox(center_y=102, center_x=315, box_corners=[17, 235, 187, 396], height=171, width=162, area=27702, box_color=[255, 0, 0], image_index=7)\n",
      "BoundingBox(center_y=119, center_x=297, box_corners=[58, 229, 180, 365], height=123, width=137, area=16851, box_color=[0, 0, 255], image_index=8)\n",
      "BoundingBox(center_y=147, center_x=242, box_corners=[91, 187, 203, 298], height=113, width=112, area=12656, box_color=[0, 0, 255], image_index=8)\n",
      "BoundingBox(center_y=272, center_x=249, box_corners=[181, 171, 363, 327], height=183, width=157, area=28731, box_color=[0, 0, 255], image_index=9)\n",
      "BoundingBox(center_y=269, center_x=211, box_corners=[215, 157, 323, 265], height=109, width=109, area=11881, box_color=[0, 0, 255], image_index=10)\n",
      "BoundingBox(center_y=456, center_x=192, box_corners=[441, 170, 472, 215], height=32, width=46, area=1472, box_color=[255, 0, 0], image_index=10)\n",
      "BoundingBox(center_y=172, center_x=247, box_corners=[92, 161, 252, 333], height=161, width=173, area=27853, box_color=[0, 0, 255], image_index=11)\n",
      "BoundingBox(center_y=129, center_x=406, box_corners=[116, 387, 142, 425], height=27, width=39, area=1053, box_color=[0, 0, 255], image_index=11)\n",
      "BoundingBox(center_y=257, center_x=164, box_corners=[236, 143, 278, 186], height=43, width=44, area=1892, box_color=[0, 255, 255], image_index=12)\n",
      "BoundingBox(center_y=34, center_x=33, box_corners=[0, 0, 69, 66], height=70, width=67, area=4690, box_color=[255, 0, 0], image_index=12)\n",
      "BoundingBox(center_y=89, center_x=365, box_corners=[4, 304, 174, 427], height=171, width=124, area=21204, box_color=[0, 0, 255], image_index=13)\n",
      "BoundingBox(center_y=361, center_x=386, box_corners=[347, 377, 376, 395], height=30, width=19, area=570, box_color=[0, 0, 255], image_index=13)\n",
      "BoundingBox(center_y=149, center_x=269, box_corners=[132, 252, 166, 286], height=35, width=35, area=1225, box_color=[0, 255, 255], image_index=13)\n",
      "BoundingBox(center_y=119, center_x=228, box_corners=[80, 192, 158, 265], height=79, width=74, area=5846, box_color=[0, 255, 255], image_index=14)\n",
      "BoundingBox(center_y=90, center_x=83, box_corners=[37, 32, 143, 134], height=107, width=103, area=11021, box_color=[255, 0, 0], image_index=14)\n",
      "BoundingBox(center_y=184, center_x=231, box_corners=[166, 214, 202, 249], height=37, width=36, area=1332, box_color=[0, 255, 255], image_index=15)\n",
      "BoundingBox(center_y=113, center_x=152, box_corners=[63, 103, 164, 201], height=102, width=99, area=10098, box_color=[0, 255, 255], image_index=16)\n",
      "BoundingBox(center_y=325, center_x=221, box_corners=[293, 195, 357, 248], height=65, width=54, area=3510, box_color=[0, 0, 255], image_index=17)\n",
      "BoundingBox(center_y=86, center_x=311, box_corners=[47, 283, 126, 339], height=80, width=57, area=4560, box_color=[0, 0, 255], image_index=18)\n",
      "BoundingBox(center_y=122, center_x=219, box_corners=[100, 200, 144, 238], height=45, width=39, area=1755, box_color=[0, 0, 255], image_index=18)\n",
      "BoundingBox(center_y=328, center_x=192, box_corners=[311, 173, 346, 211], height=36, width=39, area=1404, box_color=[0, 0, 255], image_index=18)\n",
      "BoundingBox(center_y=407, center_x=23, box_corners=[392, 6, 423, 40], height=32, width=35, area=1120, box_color=[0, 0, 255], image_index=18)\n",
      "BoundingBox(center_y=554, center_x=247, box_corners=[533, 235, 575, 259], height=43, width=25, area=1075, box_color=[0, 0, 255], image_index=18)\n",
      "BoundingBox(center_y=218, center_x=192, box_corners=[183, 157, 253, 227], height=71, width=71, area=5041, box_color=[0, 255, 255], image_index=18)\n",
      "BoundingBox(center_y=161, center_x=200, box_corners=[129, 166, 193, 234], height=65, width=69, area=4485, box_color=[0, 0, 255], image_index=19)\n",
      "BoundingBox(center_y=273, center_x=302, box_corners=[234, 262, 312, 342], height=79, width=81, area=6399, box_color=[0, 0, 255], image_index=20)\n",
      "BoundingBox(center_y=174, center_x=216, box_corners=[140, 182, 209, 251], height=70, width=70, area=4900, box_color=[0, 0, 255], image_index=21)\n",
      "BoundingBox(center_y=244, center_x=186, box_corners=[190, 132, 299, 240], height=110, width=109, area=11990, box_color=[0, 0, 255], image_index=22)\n",
      "BoundingBox(center_y=143, center_x=304, box_corners=[0, 178, 287, 431], height=288, width=254, area=73152, box_color=[255, 0, 0], image_index=22)\n",
      "BoundingBox(center_y=134, center_x=71, box_corners=[112, 47, 156, 95], height=45, width=49, area=2205, box_color=[255, 0, 0], image_index=22)\n",
      "BoundingBox(center_y=87, center_x=276, box_corners=[17, 208, 157, 345], height=141, width=138, area=19458, box_color=[0, 0, 255], image_index=23)\n",
      "BoundingBox(center_y=301, center_x=54, box_corners=[286, 30, 317, 78], height=32, width=49, area=1568, box_color=[0, 0, 255], image_index=23)\n",
      "BoundingBox(center_y=139, center_x=165, box_corners=[90, 118, 188, 213], height=99, width=96, area=9504, box_color=[0, 0, 255], image_index=24)\n",
      "BoundingBox(center_y=67, center_x=540, box_corners=[31, 505, 104, 575], height=74, width=71, area=5254, box_color=[0, 0, 255], image_index=25)\n",
      "BoundingBox(center_y=154, center_x=26, box_corners=[139, 12, 169, 41], height=31, width=30, area=930, box_color=[0, 0, 255], image_index=25)\n",
      "BoundingBox(center_y=193, center_x=507, box_corners=[179, 487, 208, 528], height=30, width=42, area=1260, box_color=[0, 0, 255], image_index=25)\n",
      "BoundingBox(center_y=72, center_x=537, box_corners=[36, 499, 109, 575], height=74, width=77, area=5698, box_color=[0, 0, 255], image_index=26)\n",
      "BoundingBox(center_y=163, center_x=26, box_corners=[148, 12, 179, 41], height=32, width=30, area=960, box_color=[0, 0, 255], image_index=26)\n",
      "BoundingBox(center_y=201, center_x=504, box_corners=[187, 484, 215, 525], height=29, width=42, area=1218, box_color=[0, 0, 255], image_index=26)\n",
      "BoundingBox(center_y=298, center_x=562, box_corners=[279, 550, 317, 575], height=39, width=26, area=1014, box_color=[255, 0, 0], image_index=26)\n",
      "Stored 'color_bounding_boxes' (list)\n"
     ]
    }
   ],
   "execution_count": 3
  },
  {
   "metadata": {
    "ExecuteTime": {
     "end_time": "2025-05-09T18:56:13.990739Z",
     "start_time": "2025-05-09T18:55:50.359217Z"
    }
   },
   "cell_type": "code",
   "source": [
    "for i, image in enumerate(bbox_images):\n",
    "    basic_ops.show_image(image=image, title=f'color_bboxes_{i}')"
   ],
   "id": "b1b2a6fea99f85d9",
   "outputs": [
    {
     "name": "stdout",
     "output_type": "stream",
     "text": [
      "Image displayed\n",
      "Image displayed\n",
      "Image displayed\n",
      "Image displayed\n",
      "Image displayed\n",
      "Image displayed\n",
      "Image displayed\n",
      "Image displayed\n",
      "Image displayed\n",
      "Image displayed\n",
      "Image displayed\n",
      "Image displayed\n",
      "Image displayed\n",
      "Image displayed\n",
      "Image displayed\n",
      "Image displayed\n",
      "Image displayed\n",
      "Image displayed\n",
      "Image displayed\n",
      "Image displayed\n",
      "Image displayed\n",
      "Image displayed\n",
      "Image displayed\n",
      "Image displayed\n",
      "Image displayed\n",
      "Image displayed\n",
      "Image displayed\n"
     ]
    }
   ],
   "execution_count": 4
  }
 ],
 "metadata": {
  "kernelspec": {
   "display_name": "Python 3",
   "language": "python",
   "name": "python3"
  },
  "language_info": {
   "codemirror_mode": {
    "name": "ipython",
    "version": 2
   },
   "file_extension": ".py",
   "mimetype": "text/x-python",
   "name": "python",
   "nbconvert_exporter": "python",
   "pygments_lexer": "ipython2",
   "version": "2.7.6"
  }
 },
 "nbformat": 4,
 "nbformat_minor": 5
}
