{
 "cells": [
  {
   "metadata": {
    "ExecuteTime": {
     "end_time": "2025-05-09T16:14:32.633131Z",
     "start_time": "2025-05-09T16:14:32.590817Z"
    }
   },
   "cell_type": "code",
   "source": [
    "%store -r resized_images\n",
    "%store -r color_images"
   ],
   "id": "c58ca2c1341e0bc0",
   "outputs": [],
   "execution_count": 27
  },
  {
   "metadata": {
    "ExecuteTime": {
     "end_time": "2025-05-09T16:15:21.158879Z",
     "start_time": "2025-05-09T16:14:32.639134Z"
    }
   },
   "cell_type": "code",
   "source": [
    "from scripts import colors, color_detection, bounding_box, basic_image_operations as basic_ops\n",
    "import importlib\n",
    "importlib.reload(bounding_box)\n",
    "\n",
    "\n",
    "color_functions = [colors.is_strong_red, colors.is_strong_yellow, colors.is_strong_blue]\n",
    "color_bounding_boxes = []\n",
    "for i, image in enumerate(color_images):\n",
    "    for color_function in color_functions:\n",
    "        mask = colors.get_mask(image=image, color_function=color_function)\n",
    "        blobs = color_detection.get_blobs(mask=mask)\n",
    "\n",
    "        box_color = colors.get_color_from_function(color_function)\n",
    "        height, width = image.shape[:2]\n",
    "        min_box_area = int((height*0.055)**2)\n",
    "        max_box_area = height*width//2\n",
    "\n",
    "        bounding_boxes = bounding_box.create_bounding_boxes(blobs=blobs, min_box_area=min_box_area, max_box_area=max_box_area, box_color=box_color, image_index=i)\n",
    "        color_bounding_boxes.extend(bounding_boxes)"
   ],
   "id": "435669921dced0e8",
   "outputs": [],
   "execution_count": 28
  },
  {
   "metadata": {
    "ExecuteTime": {
     "end_time": "2025-05-09T16:15:21.177521Z",
     "start_time": "2025-05-09T16:15:21.169869Z"
    }
   },
   "cell_type": "code",
   "source": [
    "import copy\n",
    "\n",
    "bbox_images = copy.deepcopy(resized_images)\n",
    "for bounding_box_obj in color_bounding_boxes:\n",
    "    print(bounding_box_obj)\n",
    "    bbox_image = bounding_box.draw_bounding_box(bounding_box=bounding_box_obj, image=bbox_images[bounding_box_obj.image_index])\n",
    "    bbox_images[bounding_box_obj.image_index] = bbox_image\n",
    "\n",
    "%store color_bounding_boxes"
   ],
   "id": "b76c9d7d35b1c30a",
   "outputs": [
    {
     "name": "stdout",
     "output_type": "stream",
     "text": [
      "BoundingBox(center_y=237, center_x=265, box_corners=[155, 158, 319, 372], height=165, width=215, area=35475, box_color=[0, 0, 255], image_index=0)\n",
      "BoundingBox(center_y=99, center_x=124, box_corners=[0, 0, 198, 248], height=199, width=249, area=49551, box_color=[255, 0, 0], image_index=0)\n",
      "BoundingBox(center_y=117, center_x=352, box_corners=[0, 274, 234, 431], height=235, width=158, area=37130, box_color=[255, 0, 0], image_index=0)\n",
      "BoundingBox(center_y=468, center_x=23, box_corners=[451, 0, 486, 47], height=36, width=48, area=1728, box_color=[255, 0, 0], image_index=0)\n",
      "BoundingBox(center_y=130, center_x=202, box_corners=[63, 127, 197, 277], height=135, width=151, area=20385, box_color=[0, 0, 255], image_index=1)\n",
      "BoundingBox(center_y=131, center_x=217, box_corners=[64, 143, 198, 291], height=135, width=149, area=20115, box_color=[0, 0, 255], image_index=2)\n",
      "BoundingBox(center_y=166, center_x=258, box_corners=[108, 193, 224, 324], height=117, width=132, area=15444, box_color=[0, 0, 255], image_index=3)\n",
      "BoundingBox(center_y=241, center_x=148, box_corners=[221, 121, 262, 176], height=42, width=56, area=2352, box_color=[0, 0, 255], image_index=3)\n",
      "BoundingBox(center_y=330, center_x=320, box_corners=[309, 293, 351, 347], height=43, width=55, area=2365, box_color=[0, 0, 255], image_index=3)\n",
      "BoundingBox(center_y=145, center_x=124, box_corners=[56, 25, 235, 224], height=180, width=200, area=36000, box_color=[0, 0, 255], image_index=4)\n",
      "Stored 'color_bounding_boxes' (list)\n"
     ]
    }
   ],
   "execution_count": 29
  },
  {
   "metadata": {
    "ExecuteTime": {
     "end_time": "2025-05-09T16:15:36.419947Z",
     "start_time": "2025-05-09T16:15:21.189483Z"
    }
   },
   "cell_type": "code",
   "source": [
    "for i, image in enumerate(bbox_images):\n",
    "    basic_ops.show_image(image=image, title=f'color_bboxes_{i}')"
   ],
   "id": "b1b2a6fea99f85d9",
   "outputs": [
    {
     "name": "stdout",
     "output_type": "stream",
     "text": [
      "Image displayed\n",
      "Image displayed\n",
      "Image displayed\n",
      "Image displayed\n",
      "Image displayed\n"
     ]
    }
   ],
   "execution_count": 30
  }
 ],
 "metadata": {
  "kernelspec": {
   "display_name": "Python 3",
   "language": "python",
   "name": "python3"
  },
  "language_info": {
   "codemirror_mode": {
    "name": "ipython",
    "version": 2
   },
   "file_extension": ".py",
   "mimetype": "text/x-python",
   "name": "python",
   "nbconvert_exporter": "python",
   "pygments_lexer": "ipython2",
   "version": "2.7.6"
  }
 },
 "nbformat": 4,
 "nbformat_minor": 5
}
