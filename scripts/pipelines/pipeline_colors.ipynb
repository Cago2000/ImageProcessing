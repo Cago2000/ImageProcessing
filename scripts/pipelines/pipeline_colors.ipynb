{
 "cells": [
  {
   "metadata": {
    "ExecuteTime": {
     "end_time": "2025-05-09T13:33:09.104747Z",
     "start_time": "2025-05-09T13:33:08.936559Z"
    }
   },
   "cell_type": "code",
   "source": [
    "%store -r resized_images\n",
    "%store -r color_images"
   ],
   "id": "c58ca2c1341e0bc0",
   "outputs": [],
   "execution_count": 1
  },
  {
   "metadata": {
    "ExecuteTime": {
     "end_time": "2025-05-09T13:33:29.453495Z",
     "start_time": "2025-05-09T13:33:09.287267Z"
    }
   },
   "cell_type": "code",
   "source": [
    "\n",
    "from scripts import colors, color_detection, bounding_box, basic_image_operations as basic_ops\n",
    "\n",
    "color_functions = [colors.is_strong_red, colors.is_strong_yellow, colors.is_strong_blue]\n",
    "color_bounding_boxes = []\n",
    "for i, image in enumerate(color_images):\n",
    "    for color_function in color_functions:\n",
    "        mask = colors.get_mask(image=image, color_function=color_function)\n",
    "        blobs = color_detection.get_blobs(mask=mask)\n",
    "\n",
    "        box_color = colors.get_color_from_function(color_function)\n",
    "        height, width = image.shape[:2]\n",
    "        min_box_area = int((height*0.055)**2)\n",
    "        max_box_area = height*width//2\n",
    "\n",
    "        bounding_boxes = bounding_box.create_bounding_boxes(blobs=blobs, min_box_area=min_box_area, max_box_area=max_box_area, box_color=box_color, image_index=i)\n",
    "        color_bounding_boxes.extend(bounding_boxes)"
   ],
   "id": "435669921dced0e8",
   "outputs": [],
   "execution_count": 2
  },
  {
   "metadata": {
    "ExecuteTime": {
     "end_time": "2025-05-09T13:33:29.476562Z",
     "start_time": "2025-05-09T13:33:29.464605Z"
    }
   },
   "cell_type": "code",
   "source": [
    "import copy\n",
    "\n",
    "bbox_images = copy.deepcopy(resized_images)\n",
    "for bounding_box_obj in color_bounding_boxes:\n",
    "    print(bounding_box_obj)\n",
    "    bbox_image = bounding_box.draw_bounding_box(bounding_box=bounding_box_obj, image=bbox_images[bounding_box_obj.image_index])\n",
    "    bbox_images[bounding_box_obj.image_index] = bbox_image\n",
    "\n",
    "%store color_bounding_boxes"
   ],
   "id": "b76c9d7d35b1c30a",
   "outputs": [
    {
     "name": "stdout",
     "output_type": "stream",
     "text": [
      "BoundingBox(center_y=325, center_x=221, box_corners=[294, 195, 357, 248], height=64, width=54, area=3456, box_color=[0, 0, 255], image_index=0)\n",
      "BoundingBox(center_y=119, center_x=228, box_corners=[80, 192, 158, 265], height=79, width=74, area=5846, box_color=[0, 255, 255], image_index=1)\n",
      "BoundingBox(center_y=91, center_x=83, box_corners=[38, 33, 144, 134], height=107, width=102, area=10914, box_color=[255, 0, 0], image_index=1)\n",
      "BoundingBox(center_y=257, center_x=164, box_corners=[237, 143, 278, 186], height=42, width=44, area=1848, box_color=[0, 255, 255], image_index=2)\n",
      "BoundingBox(center_y=35, center_x=33, box_corners=[1, 0, 70, 66], height=70, width=67, area=4690, box_color=[255, 0, 0], image_index=2)\n",
      "BoundingBox(center_y=328, center_x=192, box_corners=[311, 173, 346, 211], height=36, width=39, area=1404, box_color=[0, 0, 255], image_index=3)\n",
      "BoundingBox(center_y=407, center_x=23, box_corners=[392, 5, 422, 41], height=31, width=37, area=1147, box_color=[0, 0, 255], image_index=3)\n",
      "BoundingBox(center_y=218, center_x=192, box_corners=[183, 157, 253, 227], height=71, width=71, area=5041, box_color=[0, 255, 255], image_index=3)\n",
      "BoundingBox(center_y=90, center_x=373, box_corners=[5, 304, 176, 443], height=172, width=140, area=24080, box_color=[0, 0, 255], image_index=4)\n",
      "BoundingBox(center_y=231, center_x=356, box_corners=[179, 310, 284, 402], height=106, width=93, area=9858, box_color=[0, 0, 255], image_index=4)\n",
      "BoundingBox(center_y=321, center_x=350, box_corners=[267, 303, 376, 398], height=110, width=96, area=10560, box_color=[0, 0, 255], image_index=4)\n",
      "BoundingBox(center_y=149, center_x=269, box_corners=[133, 252, 166, 286], height=34, width=35, area=1190, box_color=[0, 255, 255], image_index=4)\n",
      "BoundingBox(center_y=113, center_x=152, box_corners=[62, 103, 165, 201], height=104, width=99, area=10296, box_color=[0, 255, 255], image_index=5)\n",
      "BoundingBox(center_y=24, center_x=24, box_corners=[0, 0, 48, 49], height=49, width=50, area=2450, box_color=[0, 255, 255], image_index=6)\n",
      "BoundingBox(center_y=184, center_x=231, box_corners=[166, 214, 203, 249], height=38, width=36, area=1368, box_color=[0, 255, 255], image_index=6)\n",
      "Stored 'color_bounding_boxes' (list)\n"
     ]
    }
   ],
   "execution_count": 3
  },
  {
   "metadata": {
    "ExecuteTime": {
     "end_time": "2025-05-09T13:39:27.462359Z",
     "start_time": "2025-05-09T13:37:41.652200Z"
    }
   },
   "cell_type": "code",
   "source": [
    "for image in bbox_images:\n",
    "    basic_ops.show_image(image=image, title='color_bboxes')"
   ],
   "id": "b1b2a6fea99f85d9",
   "outputs": [
    {
     "name": "stdout",
     "output_type": "stream",
     "text": [
      "Image displayed\n",
      "Image displayed\n",
      "Image displayed\n",
      "Image displayed\n",
      "Image displayed\n",
      "Image displayed\n",
      "Image displayed\n"
     ]
    }
   ],
   "execution_count": 6
  }
 ],
 "metadata": {
  "kernelspec": {
   "display_name": "Python 3",
   "language": "python",
   "name": "python3"
  },
  "language_info": {
   "codemirror_mode": {
    "name": "ipython",
    "version": 2
   },
   "file_extension": ".py",
   "mimetype": "text/x-python",
   "name": "python",
   "nbconvert_exporter": "python",
   "pygments_lexer": "ipython2",
   "version": "2.7.6"
  }
 },
 "nbformat": 4,
 "nbformat_minor": 5
}
