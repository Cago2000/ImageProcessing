{
 "cells": [
  {
   "cell_type": "code",
   "id": "aff15d4679b7b5d0",
   "metadata": {
    "ExecuteTime": {
     "end_time": "2025-05-09T11:53:53.544524Z",
     "start_time": "2025-05-09T11:53:53.111017Z"
    }
   },
   "source": [
    "import basic_image_operations as basic_ops\n",
    "import filters\n",
    "import geometrical_image_operations as geo_ops\n",
    "import shape_detection\n",
    "import bounding_box\n",
    "import copy\n",
    "\n",
    "images = [basic_ops.load_image(image_path='traffic_sign_images/vfs/vfs_04.jpg')]\n",
    "images = [geo_ops.resize_image(image=image, target_height=image.shape[0]//8, target_width=image.shape[1]//8) for image in images]\n",
    "orig_images = copy.deepcopy(images)"
   ],
   "outputs": [
    {
     "name": "stdout",
     "output_type": "stream",
     "text": [
      "Image loaded from traffic_sign_images/vfs/vfs_04.jpg\n"
     ]
    }
   ],
   "execution_count": 31
  },
  {
   "metadata": {
    "ExecuteTime": {
     "end_time": "2025-05-09T11:54:08.716172Z",
     "start_time": "2025-05-09T11:53:53.560174Z"
    }
   },
   "cell_type": "code",
   "source": [
    "for i, image in enumerate(images):\n",
    "    image = filters.median_filter(image=image, dim=3)\n",
    "    image = filters.gray_scale_filter(image=image)\n",
    "    image = filters.sobel_filter(image=image, mode='both')\n",
    "    image = filters.black_white_filter(image=image, threshold=40)\n",
    "    images[i] = image"
   ],
   "id": "initial_id",
   "outputs": [],
   "execution_count": 32
  },
  {
   "metadata": {
    "ExecuteTime": {
     "end_time": "2025-05-09T11:54:08.951984Z",
     "start_time": "2025-05-09T11:54:08.727764Z"
    }
   },
   "cell_type": "code",
   "source": [
    "import importlib\n",
    "importlib.reload(shape_detection)\n",
    "\n",
    "shape_bounding_boxes = []\n",
    "shape_contours = []\n",
    "for i, image in enumerate(images):\n",
    "    contours = shape_detection.get_contours(binary_image=image, angle_tolerance=10)\n",
    "    height, width = image.shape[:2]\n",
    "    box_color = [255, 255, 255]\n",
    "    min_box_area = int((height*0.055)**2)\n",
    "    max_box_area = height*width\n",
    "    shape_contours.extend(contours)\n",
    "    bounding_boxes = bounding_box.create_bounding_boxes(blobs=shape_contours, min_box_area=min_box_area, max_box_area=max_box_area, box_color=box_color, image_index=i)\n",
    "    shape_bounding_boxes.extend(bounding_boxes)"
   ],
   "id": "3996a7a0e28b7b03",
   "outputs": [],
   "execution_count": 33
  },
  {
   "metadata": {
    "ExecuteTime": {
     "end_time": "2025-05-09T11:54:08.964951Z",
     "start_time": "2025-05-09T11:54:08.961860Z"
    }
   },
   "cell_type": "code",
   "source": [
    "import copy\n",
    "bbox_images = copy.deepcopy(orig_images)\n",
    "for bounding_box_obj in shape_bounding_boxes:\n",
    "    print(bounding_box_obj)\n",
    "    bbox_image = bounding_box.draw_bounding_box(bounding_box=bounding_box_obj, image=bbox_images[bounding_box_obj.image_index])\n",
    "    bbox_images[bounding_box_obj.image_index] = bbox_image\n",
    "\n",
    "%store shape_bounding_boxes"
   ],
   "id": "9865d236b506efe1",
   "outputs": [
    {
     "name": "stdout",
     "output_type": "stream",
     "text": [
      "BoundingBox(center_y=89, center_x=376, box_corners=[np.int64(53), np.int64(345), np.int64(126), np.int64(407)], height=74, width=63, area=4662, box_color=[255, 255, 255], image_index=0)\n",
      "BoundingBox(center_y=160, center_x=193, box_corners=[np.int64(144), np.int64(178), np.int64(177), np.int64(209)], height=34, width=32, area=1088, box_color=[255, 255, 255], image_index=0)\n",
      "BoundingBox(center_y=184, center_x=232, box_corners=[np.int64(164), np.int64(213), np.int64(205), np.int64(251)], height=42, width=39, area=1638, box_color=[255, 255, 255], image_index=0)\n",
      "BoundingBox(center_y=451, center_x=410, box_corners=[np.int64(427), np.int64(390), np.int64(475), np.int64(431)], height=49, width=42, area=2058, box_color=[255, 255, 255], image_index=0)\n",
      "BoundingBox(center_y=531, center_x=382, box_corners=[np.int64(487), np.int64(333), np.int64(575), np.int64(431)], height=89, width=99, area=8811, box_color=[255, 255, 255], image_index=0)\n",
      "BoundingBox(center_y=545, center_x=152, box_corners=[np.int64(524), np.int64(130), np.int64(566), np.int64(174)], height=43, width=45, area=1935, box_color=[255, 255, 255], image_index=0)\n",
      "Stored 'shape_bounding_boxes' (list)\n"
     ]
    }
   ],
   "execution_count": 34
  },
  {
   "metadata": {
    "ExecuteTime": {
     "end_time": "2025-05-09T11:54:15.920467Z",
     "start_time": "2025-05-09T11:54:09.012606Z"
    }
   },
   "cell_type": "code",
   "source": [
    "for bbox_img in bbox_images:\n",
    "    basic_ops.show_image(image=bbox_img, title='bbox_image')"
   ],
   "id": "49bd7600dab2a761",
   "outputs": [
    {
     "name": "stdout",
     "output_type": "stream",
     "text": [
      "Image displayed\n"
     ]
    }
   ],
   "execution_count": 35
  }
 ],
 "metadata": {
  "kernelspec": {
   "display_name": "Python 3",
   "language": "python",
   "name": "python3"
  },
  "language_info": {
   "codemirror_mode": {
    "name": "ipython",
    "version": 2
   },
   "file_extension": ".py",
   "mimetype": "text/x-python",
   "name": "python",
   "nbconvert_exporter": "python",
   "pygments_lexer": "ipython2",
   "version": "2.7.6"
  }
 },
 "nbformat": 4,
 "nbformat_minor": 5
}
