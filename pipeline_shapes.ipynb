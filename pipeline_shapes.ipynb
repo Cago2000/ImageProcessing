{
 "cells": [
  {
   "cell_type": "code",
   "id": "aff15d4679b7b5d0",
   "metadata": {
    "ExecuteTime": {
     "end_time": "2025-05-08T13:05:46.460355Z",
     "start_time": "2025-05-08T13:05:46.038944Z"
    }
   },
   "source": [
    "import basic_image_operations as basic_ops\n",
    "import filters\n",
    "import geometrical_image_operations as geo_ops\n",
    "import shape_detection\n",
    "import bounding_box\n",
    "import copy\n",
    "\n",
    "images = [basic_ops.load_image(image_path='traffic_sign_images/vfs/vfs_04.jpg'), basic_ops.load_image(image_path='traffic_sign_images/vfs/vfs_05.jpg')]\n",
    "images = [geo_ops.resize_image(image=image, target_height=image.shape[0]//8, target_width=image.shape[1]//8) for image in images]\n",
    "orig_images = copy.deepcopy(images)"
   ],
   "outputs": [
    {
     "name": "stdout",
     "output_type": "stream",
     "text": [
      "Image loaded from traffic_sign_images/vfs/vfs_04.jpg\n",
      "Image loaded from traffic_sign_images/vfs/vfs_05.jpg\n"
     ]
    }
   ],
   "execution_count": 26
  },
  {
   "metadata": {
    "ExecuteTime": {
     "end_time": "2025-05-08T13:06:07.872157Z",
     "start_time": "2025-05-08T13:05:50.117406Z"
    }
   },
   "cell_type": "code",
   "source": [
    "for i, image in enumerate(images):\n",
    "    image = filters.median_filter(image=image, dim=3)\n",
    "    image = filters.gray_scale_filter(image=image)\n",
    "    image = filters.sobel_filter(image=image, mode='both')\n",
    "    image = filters.black_white_filter(image=image, threshold=40)\n",
    "    images[i] = image"
   ],
   "id": "initial_id",
   "outputs": [],
   "execution_count": 27
  },
  {
   "metadata": {
    "ExecuteTime": {
     "end_time": "2025-05-08T13:06:12.917946Z",
     "start_time": "2025-05-08T13:06:12.422706Z"
    }
   },
   "cell_type": "code",
   "source": [
    "shape_bounding_boxes = []\n",
    "shape_contours = []\n",
    "for i, image in enumerate(images):\n",
    "    contours = shape_detection.get_contours(binary_image=image, angle_tolerance=10)\n",
    "    height, width = image.shape[:2]\n",
    "    box_color = [255, 255, 255]\n",
    "    min_box_area = int((height*0.055)**2)\n",
    "    max_box_area = height*width//2\n",
    "    shape_contours.extend(contours)\n",
    "    bounding_boxes = bounding_box.create_bounding_boxes(blobs=shape_contours, min_box_area=min_box_area, max_box_area=max_box_area, box_color=box_color, image_index=i)\n",
    "    shape_bounding_boxes.extend(bounding_boxes)"
   ],
   "id": "3d3bee48555a0072",
   "outputs": [],
   "execution_count": 28
  },
  {
   "metadata": {
    "ExecuteTime": {
     "end_time": "2025-05-08T13:06:14.945649Z",
     "start_time": "2025-05-08T13:06:14.942195Z"
    }
   },
   "cell_type": "code",
   "source": [
    "import copy\n",
    "bbox_images = copy.deepcopy(orig_images)\n",
    "for bounding_box_obj in shape_bounding_boxes:\n",
    "    print(bounding_box_obj)\n",
    "    bbox_image = bounding_box.draw_bounding_box(bounding_box=bounding_box_obj, image=bbox_images[bounding_box_obj.image_index])\n",
    "    bbox_images[bounding_box_obj.image_index] = bbox_image"
   ],
   "id": "9865d236b506efe1",
   "outputs": [
    {
     "name": "stdout",
     "output_type": "stream",
     "text": [
      "BoundingBox(center_y=89, center_x=376, box_corners=[np.int64(53), np.int64(345), np.int64(126), np.int64(407)], height=74, width=63, area=4662, box_color=[255, 255, 255], image_index=0)\n",
      "BoundingBox(center_y=160, center_x=193, box_corners=[np.int64(144), np.int64(178), np.int64(177), np.int64(209)], height=34, width=32, area=1088, box_color=[255, 255, 255], image_index=0)\n",
      "BoundingBox(center_y=184, center_x=232, box_corners=[np.int64(164), np.int64(213), np.int64(205), np.int64(251)], height=42, width=39, area=1638, box_color=[255, 255, 255], image_index=0)\n",
      "BoundingBox(center_y=451, center_x=410, box_corners=[np.int64(427), np.int64(390), np.int64(475), np.int64(431)], height=49, width=42, area=2058, box_color=[255, 255, 255], image_index=0)\n",
      "BoundingBox(center_y=531, center_x=382, box_corners=[np.int64(487), np.int64(333), np.int64(575), np.int64(431)], height=89, width=99, area=8811, box_color=[255, 255, 255], image_index=0)\n",
      "BoundingBox(center_y=545, center_x=152, box_corners=[np.int64(524), np.int64(130), np.int64(566), np.int64(174)], height=43, width=45, area=1935, box_color=[255, 255, 255], image_index=0)\n",
      "BoundingBox(center_y=89, center_x=376, box_corners=[np.int64(53), np.int64(345), np.int64(126), np.int64(407)], height=74, width=63, area=4662, box_color=[255, 255, 255], image_index=1)\n",
      "BoundingBox(center_y=160, center_x=193, box_corners=[np.int64(144), np.int64(178), np.int64(177), np.int64(209)], height=34, width=32, area=1088, box_color=[255, 255, 255], image_index=1)\n",
      "BoundingBox(center_y=184, center_x=232, box_corners=[np.int64(164), np.int64(213), np.int64(205), np.int64(251)], height=42, width=39, area=1638, box_color=[255, 255, 255], image_index=1)\n",
      "BoundingBox(center_y=451, center_x=410, box_corners=[np.int64(427), np.int64(390), np.int64(475), np.int64(431)], height=49, width=42, area=2058, box_color=[255, 255, 255], image_index=1)\n",
      "BoundingBox(center_y=531, center_x=382, box_corners=[np.int64(487), np.int64(333), np.int64(575), np.int64(431)], height=89, width=99, area=8811, box_color=[255, 255, 255], image_index=1)\n",
      "BoundingBox(center_y=545, center_x=152, box_corners=[np.int64(524), np.int64(130), np.int64(566), np.int64(174)], height=43, width=45, area=1935, box_color=[255, 255, 255], image_index=1)\n",
      "BoundingBox(center_y=24, center_x=403, box_corners=[np.int64(7), np.int64(387), np.int64(42), np.int64(420)], height=36, width=34, area=1224, box_color=[255, 255, 255], image_index=1)\n",
      "BoundingBox(center_y=49, center_x=180, box_corners=[np.int64(23), np.int64(149), np.int64(76), np.int64(212)], height=54, width=64, area=3456, box_color=[255, 255, 255], image_index=1)\n",
      "BoundingBox(center_y=51, center_x=180, box_corners=[np.int64(24), np.int64(148), np.int64(78), np.int64(212)], height=55, width=65, area=3575, box_color=[255, 255, 255], image_index=1)\n",
      "BoundingBox(center_y=112, center_x=151, box_corners=[np.int64(27), np.int64(66), np.int64(198), np.int64(237)], height=172, width=172, area=29584, box_color=[255, 255, 255], image_index=1)\n",
      "BoundingBox(center_y=112, center_x=154, box_corners=[np.int64(59), np.int64(103), np.int64(166), np.int64(206)], height=108, width=104, area=11232, box_color=[255, 255, 255], image_index=1)\n",
      "BoundingBox(center_y=82, center_x=91, box_corners=[np.int64(61), np.int64(70), np.int64(104), np.int64(113)], height=44, width=44, area=1936, box_color=[255, 255, 255], image_index=1)\n",
      "BoundingBox(center_y=170, center_x=119, box_corners=[np.int64(147), np.int64(97), np.int64(194), np.int64(141)], height=48, width=45, area=2160, box_color=[255, 255, 255], image_index=1)\n",
      "BoundingBox(center_y=208, center_x=18, box_corners=[np.int64(192), np.int64(3), np.int64(224), np.int64(33)], height=33, width=31, area=1023, box_color=[255, 255, 255], image_index=1)\n",
      "BoundingBox(center_y=213, center_x=345, box_corners=[np.int64(197), np.int64(326), np.int64(230), np.int64(364)], height=34, width=39, area=1326, box_color=[255, 255, 255], image_index=1)\n",
      "BoundingBox(center_y=417, center_x=189, box_corners=[np.int64(392), np.int64(164), np.int64(443), np.int64(214)], height=52, width=51, area=2652, box_color=[255, 255, 255], image_index=1)\n"
     ]
    }
   ],
   "execution_count": 29
  },
  {
   "metadata": {
    "ExecuteTime": {
     "end_time": "2025-05-08T13:07:35.895245Z",
     "start_time": "2025-05-08T13:06:17.615926Z"
    }
   },
   "cell_type": "code",
   "source": [
    "for bbox_img in bbox_images:\n",
    "    basic_ops.show_image(image=bbox_img, title='bbox_image')"
   ],
   "id": "49bd7600dab2a761",
   "outputs": [
    {
     "name": "stdout",
     "output_type": "stream",
     "text": [
      "Image displayed\n",
      "Image displayed\n"
     ]
    }
   ],
   "execution_count": 30
  }
 ],
 "metadata": {
  "kernelspec": {
   "display_name": "Python 3",
   "language": "python",
   "name": "python3"
  },
  "language_info": {
   "codemirror_mode": {
    "name": "ipython",
    "version": 2
   },
   "file_extension": ".py",
   "mimetype": "text/x-python",
   "name": "python",
   "nbconvert_exporter": "python",
   "pygments_lexer": "ipython2",
   "version": "2.7.6"
  }
 },
 "nbformat": 4,
 "nbformat_minor": 5
}
