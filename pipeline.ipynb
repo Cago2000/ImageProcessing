{
 "cells": [
  {
   "metadata": {
    "ExecuteTime": {
     "end_time": "2025-05-05T14:03:21.735779Z",
     "start_time": "2025-05-05T14:03:20.123601Z"
    }
   },
   "cell_type": "code",
   "source": [
    "import basic_image_operations as basic_ops\n",
    "import geometrical_image_operations as geo_ops\n",
    "import traffic_sign_detection as tsd\n",
    "import colors\n",
    "import numpy as np\n",
    "\n",
    "'''stop_img = basic_ops.load_image(image_path='traffic_sign_templates/stop_signs/stop.jpg')\n",
    "vf_img = basic_ops.load_image(image_path='traffic_sign_templates/vf_signs/vf.jpg')\n",
    "vfa_img = basic_ops.load_image(image_path='traffic_sign_templates/vfa_signs/vfa.jpg')\n",
    "vfs_img = basic_ops.load_image(image_path='traffic_sign_templates/vfs_signs/vfs.jpg')'''\n",
    "images = basic_ops.load_images(folder_path='data', amount=1)\n",
    "color_functions = [colors.is_strong_red, colors.is_strong_yellow]\n",
    "images = [geo_ops.resize_image(image=image, target_height=image.shape[0]//4, target_width=image.shape[1]//4) for image in images]"
   ],
   "id": "9a2264b493a62cd",
   "outputs": [
    {
     "name": "stdout",
     "output_type": "stream",
     "text": [
      "Image loaded from data/vfa_02.jpg\n"
     ]
    }
   ],
   "execution_count": 1
  },
  {
   "metadata": {
    "ExecuteTime": {
     "end_time": "2025-05-05T14:03:30.861004Z",
     "start_time": "2025-05-05T14:03:23.128702Z"
    }
   },
   "cell_type": "code",
   "source": [
    "all_blob_centers = []\n",
    "for i, image in enumerate(images):\n",
    "    image_blob_centers = []\n",
    "    img = np.copy(image)\n",
    "    for color_function in color_functions:\n",
    "        mask = colors.get_mask(image=img, color_function=color_function)\n",
    "        blobs = tsd.get_blobs(mask=mask)\n",
    "        img, blob_centers = tsd.draw_bounding_boxes(image=img, blobs=blobs, min_box_area=5000, box_color=colors.get_color_from_function(color_function))\n",
    "        image_blob_centers.extend(blob_centers)\n",
    "    all_blob_centers.extend(image_blob_centers)\n",
    "    print(all_blob_centers)\n",
    "    images[i] = img"
   ],
   "id": "435669921dced0e8",
   "outputs": [
    {
     "name": "stdout",
     "output_type": "stream",
     "text": [
      "[(276, 349, 80938, 'r')]\n"
     ]
    }
   ],
   "execution_count": 2
  },
  {
   "metadata": {
    "ExecuteTime": {
     "end_time": "2025-05-05T14:04:14.787090Z",
     "start_time": "2025-05-05T14:04:09.624940Z"
    }
   },
   "cell_type": "code",
   "source": [
    "for image in images:\n",
    "    basic_ops.show_image(image=image)"
   ],
   "id": "b76c9d7d35b1c30a",
   "outputs": [
    {
     "name": "stdout",
     "output_type": "stream",
     "text": [
      "Image displayed\n"
     ]
    }
   ],
   "execution_count": 4
  }
 ],
 "metadata": {
  "kernelspec": {
   "display_name": "Python 3",
   "language": "python",
   "name": "python3"
  },
  "language_info": {
   "codemirror_mode": {
    "name": "ipython",
    "version": 2
   },
   "file_extension": ".py",
   "mimetype": "text/x-python",
   "name": "python",
   "nbconvert_exporter": "python",
   "pygments_lexer": "ipython2",
   "version": "2.7.6"
  }
 },
 "nbformat": 4,
 "nbformat_minor": 5
}
