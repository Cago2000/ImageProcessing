{
 "cells": [
  {
   "metadata": {
    "ExecuteTime": {
     "end_time": "2025-04-29T16:44:35.404818Z",
     "start_time": "2025-04-29T16:44:15.431604Z"
    }
   },
   "cell_type": "code",
   "source": [
    "import basic_image_operations as basic_ops\n",
    "import filters\n",
    "import geometrical_image_operations as geo_ops\n",
    "import traffic_sign_detection as tsd\n",
    "import numpy as np\n",
    "\n",
    "bgr_img = basic_ops.load_image(image_path='traffic_sign_images/stop_01.jpg')\n",
    "bgr_img = geo_ops.resize_image(image=bgr_img, target_height=bgr_img.shape[0]//8, target_width=bgr_img.shape[1]//8)\n",
    "for y in range(bgr_img.shape[0]):\n",
    "    for x in range(bgr_img.shape[1]):\n",
    "        hsv = tsd.rgb_to_hsv(bgr_img[y, x])\n",
    "        h, s, v = hsv[0], hsv[1], hsv[2]\n",
    "        if tsd.is_strong_red(h, s, v):\n",
    "            continue\n",
    "        bgr_img[y, x] = np.array([0, 0, 0])\n",
    "\n",
    "erosion_dilation_img = bgr_img\n",
    "erosion_dilation_img = filters.dilation(image=erosion_dilation_img, dim=9)\n",
    "erosion_dilation_img = filters.erosion(image=erosion_dilation_img, dim=9)\n",
    "\n",
    "red_mask = tsd.get_red_mask(erosion_dilation_img)\n",
    "blobs = tsd.label_connected_components(red_mask)\n",
    "boxed_image = tsd.draw_bounding_boxes(image=erosion_dilation_img, blobs=blobs, min_box_area=1000)\n",
    "basic_ops.show_image(image=boxed_image)"
   ],
   "id": "f2ce31728210ffad",
   "outputs": [
    {
     "name": "stdout",
     "output_type": "stream",
     "text": [
      "Image loaded from traffic_sign_images/stop_01.jpg\n"
     ]
    },
    {
     "name": "stderr",
     "output_type": "stream",
     "text": [
      "Warning: Ignoring XDG_SESSION_TYPE=wayland on Gnome. Use QT_QPA_PLATFORM=wayland to run on Wayland anyway.\n"
     ]
    },
    {
     "name": "stdout",
     "output_type": "stream",
     "text": [
      "Image displayed\n"
     ]
    }
   ],
   "execution_count": 1
  }
 ],
 "metadata": {
  "kernelspec": {
   "display_name": "Python 3",
   "language": "python",
   "name": "python3"
  },
  "language_info": {
   "codemirror_mode": {
    "name": "ipython",
    "version": 2
   },
   "file_extension": ".py",
   "mimetype": "text/x-python",
   "name": "python",
   "nbconvert_exporter": "python",
   "pygments_lexer": "ipython2",
   "version": "2.7.6"
  }
 },
 "nbformat": 4,
 "nbformat_minor": 5
}
