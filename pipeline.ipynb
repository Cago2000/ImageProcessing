{
 "cells": [
  {
   "metadata": {
    "ExecuteTime": {
     "end_time": "2025-05-05T14:35:06.429127Z",
     "start_time": "2025-05-05T14:35:05.120547Z"
    }
   },
   "cell_type": "code",
   "source": [
    "import basic_image_operations as basic_ops\n",
    "import filters\n",
    "import geometrical_image_operations as geo_ops\n",
    "import traffic_sign_detection as tsd\n",
    "import colors\n",
    "import numpy as np\n",
    "import statistical_operations as stat_ops\n",
    "\n",
    "'''stop_img = basic_ops.load_image(image_path='traffic_sign_templates/stop_signs/stop.jpg')\n",
    "vf_img = basic_ops.load_image(image_path='traffic_sign_templates/vf_signs/vf.jpg')\n",
    "vfa_img = basic_ops.load_image(image_path='traffic_sign_templates/vfa_signs/vfa.jpg')\n",
    "vfs_img = basic_ops.load_image(image_path='traffic_sign_templates/vfs_signs/vfs.jpg')'''\n",
    "#images = basic_ops.load_images(folder_path='data', amount=3)\n",
    "images = [basic_ops.load_image(image_path='traffic_sign_images/vfs_01.jpg')]\n",
    "color_functions = [colors.is_strong_red, colors.is_strong_yellow, colors.is_strong_blue]\n",
    "images = [geo_ops.resize_image(image=image, target_height=image.shape[0]//8, target_width=image.shape[1]//8) for image in images]"
   ],
   "id": "8cb17ae5345d7627",
   "outputs": [
    {
     "name": "stdout",
     "output_type": "stream",
     "text": [
      "Image loaded from traffic_sign_images/vfs_01.jpg\n"
     ]
    }
   ],
   "execution_count": 1
  },
  {
   "metadata": {
    "ExecuteTime": {
     "end_time": "2025-05-05T14:35:15.427786Z",
     "start_time": "2025-05-05T14:35:06.585370Z"
    }
   },
   "cell_type": "code",
   "source": [
    "for i, image in enumerate(images):\n",
    "    image = filters.median_filter(image=image, dim=3)\n",
    "    image = stat_ops.gamma_equalization(image=image, gamma=0.25)\n",
    "    images[i] = image"
   ],
   "id": "9a2264b493a62cd",
   "outputs": [],
   "execution_count": 2
  },
  {
   "metadata": {
    "ExecuteTime": {
     "end_time": "2025-05-05T14:35:17.438942Z",
     "start_time": "2025-05-05T14:35:15.435271Z"
    }
   },
   "cell_type": "code",
   "source": [
    "all_blob_centers = []\n",
    "for i, image in enumerate(images):\n",
    "    image_blob_centers = []\n",
    "    img = np.copy(image)\n",
    "    for color_function in color_functions:\n",
    "        mask = colors.get_mask(image=img, color_function=color_function)\n",
    "        blobs = tsd.get_blobs(mask=mask)\n",
    "        img, blob_centers = tsd.draw_bounding_boxes(image=img, blobs=blobs, min_box_area=200, box_color=colors.get_color_from_function(color_function))\n",
    "        image_blob_centers.extend(blob_centers)\n",
    "    all_blob_centers.extend(image_blob_centers)\n",
    "    print(all_blob_centers)\n",
    "    images[i] = img"
   ],
   "id": "435669921dced0e8",
   "outputs": [
    {
     "name": "stdout",
     "output_type": "stream",
     "text": [
      "[(199, 76, 432, 'y'), (242, 69, 1080, 'y'), (256, 168, 1330, 'y')]\n"
     ]
    }
   ],
   "execution_count": 3
  },
  {
   "metadata": {
    "ExecuteTime": {
     "end_time": "2025-05-05T14:35:28.705092Z",
     "start_time": "2025-05-05T14:35:17.464804Z"
    }
   },
   "cell_type": "code",
   "source": [
    "for i, image in enumerate(images):\n",
    "    p2, p98 = np.percentile(image, (2, 98))\n",
    "    image = np.clip((image - p2) * 255.0 / (p98 - p2), 0, 255).astype(np.uint8)\n",
    "    images[i] = image\n",
    "    basic_ops.show_image(image=image)"
   ],
   "id": "b76c9d7d35b1c30a",
   "outputs": [
    {
     "name": "stderr",
     "output_type": "stream",
     "text": [
      "Warning: Ignoring XDG_SESSION_TYPE=wayland on Gnome. Use QT_QPA_PLATFORM=wayland to run on Wayland anyway.\n"
     ]
    },
    {
     "name": "stdout",
     "output_type": "stream",
     "text": [
      "Image displayed\n"
     ]
    }
   ],
   "execution_count": 4
  }
 ],
 "metadata": {
  "kernelspec": {
   "display_name": "Python 3",
   "language": "python",
   "name": "python3"
  },
  "language_info": {
   "codemirror_mode": {
    "name": "ipython",
    "version": 2
   },
   "file_extension": ".py",
   "mimetype": "text/x-python",
   "name": "python",
   "nbconvert_exporter": "python",
   "pygments_lexer": "ipython2",
   "version": "2.7.6"
  }
 },
 "nbformat": 4,
 "nbformat_minor": 5
}
