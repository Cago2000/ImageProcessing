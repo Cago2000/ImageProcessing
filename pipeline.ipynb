{
 "cells": [
  {
   "metadata": {
    "ExecuteTime": {
     "end_time": "2025-05-07T20:38:33.472835Z",
     "start_time": "2025-05-07T20:38:33.015454Z"
    }
   },
   "cell_type": "code",
   "source": [
    "import basic_image_operations as basic_ops\n",
    "import filters\n",
    "import geometrical_image_operations as geo_ops\n",
    "import numpy as np\n",
    "\n",
    "images = [basic_ops.load_image(image_path='traffic_sign_images/vfa/vfa_06.jpg')]\n",
    "images = [geo_ops.resize_image(image=image, target_height=image.shape[0]//8, target_width=image.shape[1]//8) for image in images]"
   ],
   "id": "c21edbcb605e94f1",
   "outputs": [
    {
     "name": "stdout",
     "output_type": "stream",
     "text": [
      "Image loaded from traffic_sign_images/vfa/vfa_06.jpg\n"
     ]
    }
   ],
   "execution_count": 44
  },
  {
   "metadata": {
    "ExecuteTime": {
     "end_time": "2025-05-07T20:38:48.786459Z",
     "start_time": "2025-05-07T20:38:33.476833Z"
    }
   },
   "cell_type": "code",
   "source": [
    "for i, image in enumerate(images):\n",
    "    image = filters.median_filter(image=image, dim=3)\n",
    "    #image = stat_ops.gamma_equalization(image=image, gamma=0.25)\n",
    "    images[i] = image"
   ],
   "id": "c58ca2c1341e0bc0",
   "outputs": [],
   "execution_count": 45
  },
  {
   "metadata": {
    "ExecuteTime": {
     "end_time": "2025-05-07T20:44:52.570721Z",
     "start_time": "2025-05-07T20:44:42.381564Z"
    }
   },
   "cell_type": "code",
   "source": [
    "import importlib\n",
    "import colors\n",
    "import bounding_box\n",
    "import color_detection\n",
    "importlib.reload(color_detection)\n",
    "importlib.reload(colors)\n",
    "importlib.reload(bounding_box)\n",
    "\n",
    "color_functions = [colors.is_strong_red, colors.is_strong_yellow, colors.is_strong_blue]\n",
    "color_bounding_boxes = []\n",
    "for image_index, image in enumerate(images):\n",
    "    for color_function in color_functions:\n",
    "        mask = colors.get_mask(image=image, color_function=color_function)\n",
    "        blobs = color_detection.get_blobs(mask=mask)\n",
    "        box_color = colors.get_color_from_function(color_function)\n",
    "        height, width = image.shape[:2]\n",
    "        min_box_area = (height*0.055)**2\n",
    "        max_box_area = height*width//2\n",
    "        bounding_boxes = bounding_box.create_bounding_boxes(blobs=blobs, min_box_area=min_box_area, max_box_area=max_box_area, box_color=box_color, image_index=image_index)\n",
    "        color_bounding_boxes.extend(bounding_boxes)"
   ],
   "id": "435669921dced0e8",
   "outputs": [
    {
     "name": "stdout",
     "output_type": "stream",
     "text": [
      "1003.6224\n",
      "1003.6224\n",
      "1003.6224\n"
     ]
    }
   ],
   "execution_count": 58
  },
  {
   "metadata": {
    "ExecuteTime": {
     "end_time": "2025-05-07T20:44:55.331270Z",
     "start_time": "2025-05-07T20:44:55.325634Z"
    }
   },
   "cell_type": "code",
   "source": [
    "import copy\n",
    "\n",
    "bbox_images = copy.deepcopy(images)\n",
    "for bounding_box_obj in color_bounding_boxes:\n",
    "    print(bounding_box_obj)\n",
    "    image = bounding_box.draw_bounding_box(bounding_box=bounding_box_obj, image=bbox_images[bounding_box_obj.image_index])\n",
    "    bbox_images[bounding_box_obj.image_index] = image"
   ],
   "id": "b76c9d7d35b1c30a",
   "outputs": [
    {
     "name": "stdout",
     "output_type": "stream",
     "text": [
      "BoundingBox(center_y=268, center_x=211, box_corners=[215, 157, 321, 265], height=107, width=109, area=11663, box_color=[0, 0, 255], image_index=0)\n"
     ]
    }
   ],
   "execution_count": 59
  },
  {
   "metadata": {
    "ExecuteTime": {
     "end_time": "2025-05-07T20:44:59.448286Z",
     "start_time": "2025-05-07T20:44:57.064599Z"
    }
   },
   "cell_type": "code",
   "source": [
    "for image in bbox_images:\n",
    "    basic_ops.show_image(image=image, title='bbox image')"
   ],
   "id": "b1b2a6fea99f85d9",
   "outputs": [
    {
     "name": "stdout",
     "output_type": "stream",
     "text": [
      "Image displayed\n"
     ]
    }
   ],
   "execution_count": 60
  }
 ],
 "metadata": {
  "kernelspec": {
   "display_name": "Python 3",
   "language": "python",
   "name": "python3"
  },
  "language_info": {
   "codemirror_mode": {
    "name": "ipython",
    "version": 2
   },
   "file_extension": ".py",
   "mimetype": "text/x-python",
   "name": "python",
   "nbconvert_exporter": "python",
   "pygments_lexer": "ipython2",
   "version": "2.7.6"
  }
 },
 "nbformat": 4,
 "nbformat_minor": 5
}
