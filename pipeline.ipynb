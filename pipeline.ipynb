{
 "cells": [
  {
   "metadata": {
    "ExecuteTime": {
     "end_time": "2025-05-05T12:44:54.677137Z",
     "start_time": "2025-05-05T12:44:54.356517Z"
    }
   },
   "cell_type": "code",
   "source": [
    "import basic_image_operations as basic_ops\n",
    "import geometrical_image_operations as geo_ops\n",
    "import traffic_sign_detection as tsd\n",
    "import colors\n",
    "import numpy as np\n",
    "\n",
    "stop_img = basic_ops.load_image(image_path='traffic_sign_templates/stop_signs/stop.jpg')\n",
    "vfa_img = basic_ops.load_image(image_path='traffic_sign_templates/vfa_signs/vfa.jpg')\n",
    "vfs_img = basic_ops.load_image(image_path='traffic_sign_templates/vfs_signs/vfs.jpg')\n",
    "templates = [stop_img, vfa_img, vfs_img]\n",
    "color_functions = [colors.is_strong_red, colors.is_strong_red, colors.is_strong_yellow]\n",
    "templates = [geo_ops.resize_image(image=template, target_height=200, target_width=200) for template in templates]"
   ],
   "id": "9a2264b493a62cd",
   "outputs": [
    {
     "name": "stdout",
     "output_type": "stream",
     "text": [
      "Image loaded from traffic_sign_templates/stop_signs/stop.jpg\n",
      "Image loaded from traffic_sign_templates/vfa_signs/vfa.jpg\n",
      "Image loaded from traffic_sign_templates/vfs_signs/vfs.jpg\n"
     ]
    }
   ],
   "execution_count": 1
  },
  {
   "metadata": {
    "ExecuteTime": {
     "end_time": "2025-05-05T12:45:44.963536Z",
     "start_time": "2025-05-05T12:45:36.805920Z"
    }
   },
   "cell_type": "code",
   "source": [
    "for template, color_function in zip(templates, color_functions):\n",
    "    img = np.copy(template)\n",
    "    for y in range(template.shape[0]):\n",
    "        for x in range(template.shape[1]):\n",
    "            hsv = colors.bgr_to_hsv(template[y, x])\n",
    "            h, s, v = hsv[0], hsv[1], hsv[2]\n",
    "            if color_function(h, s, v):\n",
    "                continue\n",
    "            img[y, x] = 0\n",
    "    mask = colors.get_mask(image=img, color_function=color_function)\n",
    "    blobs = tsd.get_blobs(mask=mask)\n",
    "    boxed_image, center_positions = tsd.draw_bounding_boxes(image=template, blobs=blobs, min_box_area=5000)\n",
    "    print(center_positions)\n",
    "    basic_ops.show_image(image=boxed_image, title='boxed_image')\n",
    "\n"
   ],
   "id": "435669921dced0e8",
   "outputs": [
    {
     "name": "stdout",
     "output_type": "stream",
     "text": [
      "[(100, 100, 32041)]\n",
      "Image displayed\n",
      "[(100, 100, 37248)]\n",
      "Image displayed\n",
      "[(100, 100, 12321)]\n",
      "Image displayed\n"
     ]
    }
   ],
   "execution_count": 3
  }
 ],
 "metadata": {
  "kernelspec": {
   "display_name": "Python 3",
   "language": "python",
   "name": "python3"
  },
  "language_info": {
   "codemirror_mode": {
    "name": "ipython",
    "version": 2
   },
   "file_extension": ".py",
   "mimetype": "text/x-python",
   "name": "python",
   "nbconvert_exporter": "python",
   "pygments_lexer": "ipython2",
   "version": "2.7.6"
  }
 },
 "nbformat": 4,
 "nbformat_minor": 5
}
