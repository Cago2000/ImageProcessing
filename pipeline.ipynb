{
 "cells": [
  {
   "metadata": {
    "ExecuteTime": {
     "end_time": "2025-05-07T20:14:17.985633Z",
     "start_time": "2025-05-07T20:14:17.977686Z"
    }
   },
   "cell_type": "code",
   "source": [
    "import basic_image_operations as basic_ops\n",
    "import filters\n",
    "import geometrical_image_operations as geo_ops\n",
    "import numpy as np\n",
    "\n",
    "images = basic_ops.load_images(folder_path='traffic_sign_images/preprocessed_images', amount=4)\n",
    "#images = [geo_ops.resize_image(image=image, target_height=image.shape[0]//8, target_width=image.shape[1]//8) for image in images]"
   ],
   "id": "c58ca2c1341e0bc0",
   "outputs": [
    {
     "name": "stdout",
     "output_type": "stream",
     "text": [
      "Image loaded from traffic_sign_images/preprocessed_images\\image_0.jpg\n"
     ]
    }
   ],
   "execution_count": 63
  },
  {
   "metadata": {
    "ExecuteTime": {
     "end_time": "2025-05-07T20:14:28.431422Z",
     "start_time": "2025-05-07T20:14:18.866068Z"
    }
   },
   "cell_type": "code",
   "source": [
    "import importlib\n",
    "import colors\n",
    "import bounding_box\n",
    "import color_detection\n",
    "importlib.reload(color_detection)\n",
    "\n",
    "color_functions = [colors.is_strong_red, colors.is_strong_yellow, colors.is_strong_blue]\n",
    "color_bounding_boxes = []\n",
    "for image_index, image in enumerate(images):\n",
    "    for color_function in color_functions:\n",
    "        mask = colors.get_mask(image=image, color_function=color_function)\n",
    "        blobs = color_detection.get_blobs(mask=mask)\n",
    "        box_color = colors.get_color_from_function(color_function)\n",
    "        bounding_boxes = bounding_box.create_bounding_boxes(blobs=blobs, min_box_area=1000, box_color=box_color, image_index=image_index)\n",
    "        color_bounding_boxes.extend(bounding_boxes)"
   ],
   "id": "435669921dced0e8",
   "outputs": [],
   "execution_count": 64
  },
  {
   "metadata": {
    "ExecuteTime": {
     "end_time": "2025-05-07T20:14:29.962284Z",
     "start_time": "2025-05-07T20:14:29.957772Z"
    }
   },
   "cell_type": "code",
   "source": [
    "import copy\n",
    "\n",
    "bbox_images = copy.deepcopy(images)\n",
    "for bounding_box_obj in color_bounding_boxes:\n",
    "    print(bounding_box_obj)\n",
    "    image = bounding_box.draw_bounding_box(bounding_box=bounding_box_obj, image=bbox_images[bounding_box_obj.image_index])\n",
    "    bbox_images[bounding_box_obj.image_index] = image"
   ],
   "id": "b76c9d7d35b1c30a",
   "outputs": [
    {
     "name": "stdout",
     "output_type": "stream",
     "text": [
      "BoundingBox(center_y=161, center_x=200, box_corners=[129, 167, 193, 234], height=65, width=68, area=4420, box_color=[0, 0, 255], image_index=0)\n"
     ]
    }
   ],
   "execution_count": 65
  },
  {
   "metadata": {
    "ExecuteTime": {
     "end_time": "2025-05-07T20:14:45.637066Z",
     "start_time": "2025-05-07T20:14:32.199825Z"
    }
   },
   "cell_type": "code",
   "source": [
    "for image in bbox_images:\n",
    "    basic_ops.show_image(image=image, title='bbox image')"
   ],
   "id": "b1b2a6fea99f85d9",
   "outputs": [
    {
     "name": "stdout",
     "output_type": "stream",
     "text": [
      "Image displayed\n"
     ]
    }
   ],
   "execution_count": 66
  }
 ],
 "metadata": {
  "kernelspec": {
   "display_name": "Python 3",
   "language": "python",
   "name": "python3"
  },
  "language_info": {
   "codemirror_mode": {
    "name": "ipython",
    "version": 2
   },
   "file_extension": ".py",
   "mimetype": "text/x-python",
   "name": "python",
   "nbconvert_exporter": "python",
   "pygments_lexer": "ipython2",
   "version": "2.7.6"
  }
 },
 "nbformat": 4,
 "nbformat_minor": 5
}
