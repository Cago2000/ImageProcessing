{
 "cells": [
  {
   "metadata": {
    "ExecuteTime": {
     "end_time": "2025-04-30T11:31:52.765595Z",
     "start_time": "2025-04-30T11:31:34.059687Z"
    }
   },
   "cell_type": "code",
   "source": [
    "import basic_image_operations as basic_ops\n",
    "import filters\n",
    "import geometrical_image_operations as geo_ops\n",
    "import traffic_sign_detection as tsd\n",
    "import numpy as np\n",
    "\n",
    "bgr_img = basic_ops.load_image(image_path='traffic_sign_images/stop_01.jpg')\n",
    "bgr_img = geo_ops.resize_image(image=bgr_img, target_height=bgr_img.sh ape[0]//8, target_width=bgr_img.shape[1]//8)\n",
    "for y in range(bgr_img.shape[0]):\n",
    "    for x in range(bgr_img.shape[1]):\n",
    "        hsv = tsd.bgr_to_hsv(bgr_img[y, x])\n",
    "        h, s, v = hsv[0], hsv[1], hsv[2]\n",
    "        if tsd.is_strong_red(h, s, v):\n",
    "            continue\n",
    "        bgr_img[y, x] = np.array([0, 0, 0])\n",
    "\n",
    "erosion_dilation_img = bgr_img\n",
    "erosion_dilation_img = filters.dilation(image=erosion_dilation_img, dim=9)\n",
    "erosion_dilation_img = filters.erosion(image=erosion_dilation_img, dim=9)\n",
    "\n",
    "red_mask = tsd.get_red_mask(erosion_dilation_img)\n",
    "blobs = tsd.label_connected_components(red_mask)\n",
    "boxed_image = tsd.draw_bounding_boxes(image=erosion_dilation_img, blobs=blobs, min_box_area=1000)\n",
    "basic_ops.show_image(image=boxed_image)"
   ],
   "id": "f2ce31728210ffad",
   "outputs": [
    {
     "name": "stdout",
     "output_type": "stream",
     "text": [
      "Image loaded from traffic_sign_images/stop_01.jpg\n",
      "Image displayed\n"
     ]
    }
   ],
   "execution_count": 13
  },
  {
   "metadata": {
    "ExecuteTime": {
     "end_time": "2025-04-30T11:31:57.002677Z",
     "start_time": "2025-04-30T11:31:52.781924Z"
    }
   },
   "cell_type": "code",
   "source": [
    "import basic_image_operations as basic_ops\n",
    "import filters\n",
    "\n",
    "templates = basic_ops.load_images(folder_path='traffic_sign_templates/stop_signs', amount=100)\n",
    "for i, template in enumerate(templates):\n",
    "    template = filters.gray_scale_filter(image=template)\n",
    "    template = filters.sobel_filter(image=template, mode='both')\n",
    "    templates[i] = template\n"
   ],
   "id": "970acc1691eac49a",
   "outputs": [
    {
     "name": "stdout",
     "output_type": "stream",
     "text": [
      "Image loaded from traffic_sign_templates/stop_signs/stop_sample_resized_2.jpg\n",
      "Image loaded from traffic_sign_templates/stop_signs/stop_sample_resized_4.jpg\n",
      "Image loaded from traffic_sign_templates/stop_signs/stop_sample.jpg\n",
      "Image loaded from traffic_sign_templates/stop_signs/stop_sample_resized_8.jpg\n"
     ]
    }
   ],
   "execution_count": 14
  },
  {
   "metadata": {
    "ExecuteTime": {
     "end_time": "2025-04-30T11:32:04.395254Z",
     "start_time": "2025-04-30T11:31:57.019041Z"
    }
   },
   "cell_type": "code",
   "source": [
    "import basic_image_operations as basic_ops\n",
    "import filters\n",
    "import geometrical_image_operations as geo_ops\n",
    "import statistical_operations as stat_ops\n",
    "import traffic_sign_detection as tsd\n",
    "import numpy as np\n",
    "\n",
    "bgr_img = basic_ops.load_image(image_path='traffic_sign_templates/stop_signs/stop_sample.jpg')\n",
    "basic_ops.show_image(image=bgr_img)\n",
    "#bgr_img = geo_ops.resize_image(image=bgr_img, target_height=bgr_img.shape[0]//4, target_width=bgr_img.shape[1]//4)\n",
    "bgr_img = filters.gray_scale_filter(image=bgr_img)\n",
    "bgr_img = filters.sobel_filter(image=bgr_img, mode='both')\n",
    "basic_ops.show_image(image=bgr_img)"
   ],
   "id": "4fdffb38bb328963",
   "outputs": [
    {
     "name": "stdout",
     "output_type": "stream",
     "text": [
      "Image loaded from traffic_sign_templates/stop_signs/stop_sample.jpg\n",
      "Image displayed\n",
      "Image displayed\n"
     ]
    }
   ],
   "execution_count": 15
  },
  {
   "metadata": {
    "ExecuteTime": {
     "end_time": "2025-04-30T11:33:10.971744Z",
     "start_time": "2025-04-30T11:32:04.411222Z"
    }
   },
   "cell_type": "code",
   "source": [
    "threshold = 0.85\n",
    "output = np.zeros_like(bgr_img, dtype=np.uint8)\n",
    "for template in templates:\n",
    "    template_height, template_width = template.shape\n",
    "    template_white, template_black = np.sum(template == 255), np.sum(template == 0)\n",
    "    basic_ops.show_image(image=template)\n",
    "    for y in range(bgr_img.shape[0]):\n",
    "        for x in range(bgr_img.shape[1]):\n",
    "            window = bgr_img[y:y+template_height, x:x+template_width]\n",
    "\n",
    "            window_white = np.sum(window == 255)\n",
    "            window_black = np.sum(window == 0)\n",
    "            similarity = 1 - (abs(template_white - window_white) + abs(template_black - window_black)) / (template_white + template_black)\n",
    "\n",
    "            if similarity > threshold:\n",
    "                output[y+template_height//2, x+template_width//2] += 255/len(templates)\n",
    "\n",
    "    basic_ops.show_image(image=output)\n",
    "    basic_ops.show_image(image=bgr_img)\n",
    "\n",
    "max_val = 0\n",
    "max_indices = None, None\n",
    "for y in range(output.shape[0]):\n",
    "    for x in range(output.shape[1]):\n",
    "        if output[y, x] > max_val:\n",
    "            max_val = output[y, x]\n",
    "            max_indices = y, x\n",
    "print(f'max value is {max_val} at {max_indices}')\n",
    "\n",
    "\n",
    "\n",
    "\n"
   ],
   "id": "371f1920a4189156",
   "outputs": [
    {
     "name": "stdout",
     "output_type": "stream",
     "text": [
      "Image displayed\n",
      "Image displayed\n",
      "Image displayed\n",
      "Image displayed\n",
      "Image displayed\n",
      "Image displayed\n",
      "Image displayed\n",
      "Image displayed\n",
      "Image displayed\n",
      "Image displayed\n",
      "Image displayed\n",
      "Image displayed\n",
      "max value is 126 at (161, 185)\n"
     ]
    }
   ],
   "execution_count": 16
  }
 ],
 "metadata": {
  "kernelspec": {
   "display_name": "Python 3",
   "language": "python",
   "name": "python3"
  },
  "language_info": {
   "codemirror_mode": {
    "name": "ipython",
    "version": 2
   },
   "file_extension": ".py",
   "mimetype": "text/x-python",
   "name": "python",
   "nbconvert_exporter": "python",
   "pygments_lexer": "ipython2",
   "version": "2.7.6"
  }
 },
 "nbformat": 4,
 "nbformat_minor": 5
}
