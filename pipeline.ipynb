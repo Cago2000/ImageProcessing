{
 "cells": [
  {
   "cell_type": "code",
   "id": "initial_id",
   "metadata": {
    "collapsed": true,
    "ExecuteTime": {
     "end_time": "2025-04-28T11:08:13.829616Z",
     "start_time": "2025-04-28T11:08:13.199787Z"
    }
   },
   "source": [
    "import basic_image_operations as basic_ops\n",
    "import filters\n",
    "import geometrical_image_operations as geo_ops\n"
   ],
   "outputs": [],
   "execution_count": 1
  },
  {
   "metadata": {
    "ExecuteTime": {
     "end_time": "2025-04-28T11:08:14.000617Z",
     "start_time": "2025-04-28T11:08:13.860982Z"
    }
   },
   "cell_type": "code",
   "source": "img = basic_ops.load_image(image_path='traffic_sign_images/false_01.jpg')\n",
   "id": "95d9274a6b8e75e1",
   "outputs": [
    {
     "name": "stdout",
     "output_type": "stream",
     "text": [
      "Image loaded from traffic_sign_images/false_01.jpg\n"
     ]
    }
   ],
   "execution_count": 2
  },
  {
   "metadata": {
    "ExecuteTime": {
     "end_time": "2025-04-28T11:08:14.360173Z",
     "start_time": "2025-04-28T11:08:14.128711Z"
    }
   },
   "cell_type": "code",
   "source": "img = geo_ops.resize_image(image=img, target_height=img.shape[0]//8, target_width=img.shape[1]//8)",
   "id": "8548466bcd0e186e",
   "outputs": [],
   "execution_count": 3
  },
  {
   "metadata": {
    "ExecuteTime": {
     "end_time": "2025-04-28T11:08:19.880593Z",
     "start_time": "2025-04-28T11:08:14.373951Z"
    }
   },
   "cell_type": "code",
   "source": [
    "img = filters.gray_scale_filter(image=img)\n",
    "img = filters.sobel_filter(image=img, mode='both')\n",
    "img = filters.black_white_filter(image=img, threshold=127)\n",
    "basic_ops.show_image(image=img)\n",
    "\n",
    "print()"
   ],
   "id": "495a1b00779d614a",
   "outputs": [
    {
     "name": "stderr",
     "output_type": "stream",
     "text": [
      "Warning: Ignoring XDG_SESSION_TYPE=wayland on Gnome. Use QT_QPA_PLATFORM=wayland to run on Wayland anyway.\n"
     ]
    },
    {
     "name": "stdout",
     "output_type": "stream",
     "text": [
      "Image displayed\n",
      "\n"
     ]
    }
   ],
   "execution_count": 4
  }
 ],
 "metadata": {
  "kernelspec": {
   "display_name": "Python 3",
   "language": "python",
   "name": "python3"
  },
  "language_info": {
   "codemirror_mode": {
    "name": "ipython",
    "version": 2
   },
   "file_extension": ".py",
   "mimetype": "text/x-python",
   "name": "python",
   "nbconvert_exporter": "python",
   "pygments_lexer": "ipython2",
   "version": "2.7.6"
  }
 },
 "nbformat": 4,
 "nbformat_minor": 5
}
