{
 "cells": [
  {
   "cell_type": "code",
   "id": "fe3eda56fc75db99",
   "metadata": {
    "ExecuteTime": {
     "end_time": "2025-05-06T19:55:36.837960Z",
     "start_time": "2025-05-06T19:55:36.827733Z"
    }
   },
   "source": [
    "import numpy as np\n",
    "import cv2\n",
    "import basic_image_operations as basic_ops\n",
    "import filters\n",
    "import geometrical_image_operations as geo_ops\n",
    "import traffic_sign_detection as tsd\n",
    "import colors\n",
    "import numpy as np\n",
    "import statistical_operations as stat_ops\n",
    "\n",
    "import numpy as np\n",
    "import cv2\n",
    "\n",
    "def my_find_contours(binary_img, return_info=False, min_area=1, angle_tolerance=10):\n",
    "    visited = np.zeros_like(binary_img, dtype=bool)\n",
    "    contours = []\n",
    "    contour_info = []\n",
    "\n",
    "    rows, cols = binary_img.shape\n",
    "\n",
    "    directions = [(-1, 0), (-1, 1), (0, 1), (1, 1),\n",
    "                  (1, 0), (1, -1), (0, -1), (-1, -1)]\n",
    "\n",
    "    def is_valid(y, x):\n",
    "        return 0 <= y < rows and 0 <= x < cols\n",
    "\n",
    "    def is_edge(y, x):\n",
    "        if binary_img[y, x] != 255:\n",
    "            return False\n",
    "        for dy, dx in [(-1, 0), (1, 0), (0, -1), (0, 1)]:\n",
    "            ny, nx = y + dy, x + dx\n",
    "            if is_valid(ny, nx) and binary_img[ny, nx] == 0:\n",
    "                return True\n",
    "        return False\n",
    "\n",
    "    def trace_contour(y, x):\n",
    "        contour = []\n",
    "        stack = [(y, x)]\n",
    "        visited[y, x] = True\n",
    "\n",
    "        while stack:\n",
    "            cy, cx = stack.pop()\n",
    "            contour.append([cx, cy])\n",
    "            for dy, dx in directions:\n",
    "                ny, nx = cy + dy, cx + dx\n",
    "                if is_valid(ny, nx) and not visited[ny, nx] and is_edge(ny, nx):\n",
    "                    visited[ny, nx] = True\n",
    "                    stack.append((ny, nx))\n",
    "                    break\n",
    "        return np.array(contour).reshape(-1, 1, 2)\n",
    "\n",
    "    for y in range(1, rows - 1):\n",
    "        for x in range(1, cols - 1):\n",
    "            if is_edge(y, x) and not visited[y, x]:\n",
    "                contour = trace_contour(y, x)\n",
    "                area = len(contour)\n",
    "                if area < min_area:\n",
    "                    continue\n",
    "\n",
    "                # Check for diamond orientation\n",
    "                rect = cv2.minAreaRect(contour)\n",
    "                box = cv2.boxPoints(rect)\n",
    "                box = np.int0(box)\n",
    "                _, (w, h), angle = rect\n",
    "\n",
    "                # Normalize angle: OpenCV may give values like -45 or 135\n",
    "                angle = abs(angle % 180)\n",
    "                angle = 90 - angle if angle > 90 else angle  # normalize to 0–90°\n",
    "\n",
    "                if abs(angle - 45) > angle_tolerance:\n",
    "                    continue  # Not a diamond shape\n",
    "\n",
    "                contours.append(contour)\n",
    "\n",
    "                if return_info:\n",
    "                    x_vals = contour[:, 0, 0]\n",
    "                    y_vals = contour[:, 0, 1]\n",
    "                    x_min, y_min = x_vals.min(), y_vals.min()\n",
    "                    x_max, y_max = x_vals.max(), y_vals.max()\n",
    "                    bbox = (x_min, y_min, x_max - x_min, y_max - y_min)\n",
    "                    contour_info.append({\n",
    "                        'bbox': bbox,\n",
    "                        'area': area,\n",
    "                        'angle': angle\n",
    "                    })\n",
    "\n",
    "    if return_info:\n",
    "        return contours, contour_info\n",
    "    return contours"
   ],
   "outputs": [],
   "execution_count": 9
  },
  {
   "metadata": {
    "ExecuteTime": {
     "end_time": "2025-05-06T19:56:02.251088Z",
     "start_time": "2025-05-06T19:55:38.425571Z"
    }
   },
   "cell_type": "code",
   "source": [
    "img = basic_ops.load_image(image_path='traffic_sign_images/vfs/vfs_01.jpg')\n",
    "img = geo_ops.resize_image(image=img, target_height=img.shape[0]//8, target_width=img.shape[1]//8)\n",
    "img = filters.median_filter(image=img, dim=3)\n",
    "img = filters.gray_scale_filter(image=img)\n",
    "img = filters.sobel_filter(image=img, mode='both')\n",
    "img = filters.black_white_filter(image=img, threshold=40)\n",
    "basic_ops.show_image(image=img)"
   ],
   "id": "e05c76733a0708e",
   "outputs": [
    {
     "name": "stdout",
     "output_type": "stream",
     "text": [
      "Image loaded from traffic_sign_images/vfs_01.jpg\n",
      "Image displayed\n"
     ]
    }
   ],
   "execution_count": 10
  },
  {
   "metadata": {
    "collapsed": true,
    "ExecuteTime": {
     "end_time": "2025-05-06T19:56:21.618194Z",
     "start_time": "2025-05-06T19:56:04.205797Z"
    }
   },
   "cell_type": "code",
   "source": [
    "\n",
    "contours, info = my_find_contours(img, return_info=True, min_area=100, angle_tolerance=10)\n",
    "output = cv2.cvtColor(img, cv2.COLOR_GRAY2BGR)\n",
    "\n",
    "for contour, data in zip(contours, info):\n",
    "    x, y, w, h = data['bbox']\n",
    "    area = data['area']\n",
    "    cv2.drawContours(output, [contour], -1, (0, 255, 0), 1)\n",
    "    cv2.rectangle(output, (x, y), (x + w, y + h), (255, 0, 0), 1)\n",
    "    cv2.putText(output, f\"{area}\", (x, y - 5), cv2.FONT_HERSHEY_SIMPLEX, 0.4, (0, 0, 255), 1)\n",
    "\n",
    "basic_ops.show_image(image=output, title='output')"
   ],
   "id": "initial_id",
   "outputs": [
    {
     "name": "stderr",
     "output_type": "stream",
     "text": [
      "C:\\Users\\Crusader\\AppData\\Local\\Temp\\ipykernel_35268\\521426312.py:63: DeprecationWarning: `np.int0` is a deprecated alias for `np.intp`.  (Deprecated NumPy 1.24)\n",
      "  box = np.int0(box)\n"
     ]
    },
    {
     "name": "stdout",
     "output_type": "stream",
     "text": [
      "Image displayed\n"
     ]
    }
   ],
   "execution_count": 11
  }
 ],
 "metadata": {
  "kernelspec": {
   "display_name": "Python 3",
   "language": "python",
   "name": "python3"
  },
  "language_info": {
   "codemirror_mode": {
    "name": "ipython",
    "version": 2
   },
   "file_extension": ".py",
   "mimetype": "text/x-python",
   "name": "python",
   "nbconvert_exporter": "python",
   "pygments_lexer": "ipython2",
   "version": "2.7.6"
  }
 },
 "nbformat": 4,
 "nbformat_minor": 5
}
