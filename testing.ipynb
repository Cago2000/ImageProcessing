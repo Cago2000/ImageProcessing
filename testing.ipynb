{
 "cells": [
  {
   "cell_type": "code",
   "id": "aff15d4679b7b5d0",
   "metadata": {
    "ExecuteTime": {
     "end_time": "2025-05-09T10:23:39.501500Z",
     "start_time": "2025-05-09T10:23:37.556781Z"
    }
   },
   "source": [
    "import basic_image_operations as basic_ops\n",
    "import filters\n",
    "import geometrical_image_operations as geo_ops\n",
    "import shape_detection\n",
    "import bounding_box\n",
    "import copy\n",
    "\n",
    "images = [basic_ops.load_image(image_path='traffic_sign_images/vfs/vfs_04.jpg'), basic_ops.load_image(image_path='traffic_sign_images/vfs/vfs_05.jpg')]\n",
    "images = [geo_ops.resize_image(image=image, target_height=image.shape[0]//8, target_width=image.shape[1]//8) for image in images]\n",
    "orig_images = copy.deepcopy(images)"
   ],
   "outputs": [
    {
     "name": "stdout",
     "output_type": "stream",
     "text": [
      "Image loaded from traffic_sign_images/vfs/vfs_04.jpg\n",
      "Image loaded from traffic_sign_images/vfs/vfs_05.jpg\n"
     ]
    }
   ],
   "execution_count": 1
  },
  {
   "metadata": {
    "ExecuteTime": {
     "end_time": "2025-05-09T10:24:01.630095Z",
     "start_time": "2025-05-09T10:23:40.150954Z"
    }
   },
   "cell_type": "code",
   "source": [
    "for i, image in enumerate(images):\n",
    "    image = filters.median_filter(image=image, dim=3)\n",
    "    image = filters.gray_scale_filter(image=image)\n",
    "    image = filters.sobel_filter(image=image, mode='both')\n",
    "    image = filters.black_white_filter(image=image, threshold=40)\n",
    "    images[i] = image"
   ],
   "id": "initial_id",
   "outputs": [],
   "execution_count": 2
  },
  {
   "metadata": {
    "ExecuteTime": {
     "end_time": "2025-05-09T10:50:29.785642Z",
     "start_time": "2025-05-09T10:50:25.677172Z"
    }
   },
   "cell_type": "code",
   "source": [
    "import importlib\n",
    "importlib.reload(shape_detection)\n",
    "\n",
    "shape_bounding_boxes = []\n",
    "shape_contours = []\n",
    "for i, image in enumerate(images):\n",
    "    contours = shape_detection.get_contours(binary_image=image, angle_tolerance=10)\n",
    "    height, width = image.shape[:2]\n",
    "    box_color = [255, 255, 255]\n",
    "    min_box_area = int((height*0.055)**2)\n",
    "    max_box_area = height*width\n",
    "    shape_contours.extend(contours)\n",
    "    bounding_boxes = bounding_box.create_bounding_boxes(blobs=shape_contours, min_box_area=min_box_area, max_box_area=max_box_area, box_color=box_color, image_index=i)\n",
    "    shape_bounding_boxes.extend(bounding_boxes)"
   ],
   "id": "3996a7a0e28b7b03",
   "outputs": [],
   "execution_count": 20
  },
  {
   "metadata": {
    "ExecuteTime": {
     "end_time": "2025-05-09T10:50:32.152053Z",
     "start_time": "2025-05-09T10:50:32.145977Z"
    }
   },
   "cell_type": "code",
   "source": [
    "import copy\n",
    "bbox_images = copy.deepcopy(orig_images)\n",
    "for bounding_box_obj in shape_bounding_boxes:\n",
    "    print(bounding_box_obj)\n",
    "    bbox_image = bounding_box.draw_bounding_box(bounding_box=bounding_box_obj, image=bbox_images[bounding_box_obj.image_index])\n",
    "    bbox_images[bounding_box_obj.image_index] = bbox_image"
   ],
   "id": "9865d236b506efe1",
   "outputs": [
    {
     "name": "stdout",
     "output_type": "stream",
     "text": [
      "BoundingBox(center_y=545, center_x=152, box_corners=[np.int64(524), np.int64(130), np.int64(566), np.int64(174)], height=43, width=45, area=1935, box_color=[255, 255, 255], image_index=0)\n",
      "BoundingBox(center_y=545, center_x=152, box_corners=[np.int64(524), np.int64(130), np.int64(566), np.int64(174)], height=43, width=45, area=1935, box_color=[255, 255, 255], image_index=1)\n",
      "BoundingBox(center_y=49, center_x=180, box_corners=[np.int64(23), np.int64(149), np.int64(76), np.int64(212)], height=54, width=64, area=3456, box_color=[255, 255, 255], image_index=1)\n",
      "BoundingBox(center_y=82, center_x=91, box_corners=[np.int64(61), np.int64(70), np.int64(104), np.int64(113)], height=44, width=44, area=1936, box_color=[255, 255, 255], image_index=1)\n"
     ]
    }
   ],
   "execution_count": 21
  },
  {
   "metadata": {
    "ExecuteTime": {
     "end_time": "2025-05-09T10:50:36.257426Z",
     "start_time": "2025-05-09T10:50:33.213685Z"
    }
   },
   "cell_type": "code",
   "source": [
    "for bbox_img in bbox_images:\n",
    "    basic_ops.show_image(image=bbox_img, title='bbox_image')"
   ],
   "id": "49bd7600dab2a761",
   "outputs": [
    {
     "name": "stdout",
     "output_type": "stream",
     "text": [
      "Image displayed\n",
      "Image displayed\n"
     ]
    }
   ],
   "execution_count": 22
  }
 ],
 "metadata": {
  "kernelspec": {
   "display_name": "Python 3",
   "language": "python",
   "name": "python3"
  },
  "language_info": {
   "codemirror_mode": {
    "name": "ipython",
    "version": 2
   },
   "file_extension": ".py",
   "mimetype": "text/x-python",
   "name": "python",
   "nbconvert_exporter": "python",
   "pygments_lexer": "ipython2",
   "version": "2.7.6"
  }
 },
 "nbformat": 4,
 "nbformat_minor": 5
}
